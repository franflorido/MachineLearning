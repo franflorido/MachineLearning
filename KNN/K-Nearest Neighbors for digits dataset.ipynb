{
 "cells": [
  {
   "cell_type": "markdown",
   "metadata": {},
   "source": [
    "# K-Nearest Neighbors in depth. Digits dataset\n",
    "\n",
    "\n",
    "In this task we are going to perform a full analysis of the digits datatset provided by scikit learn followed by the implementation of K-Nearest neighbors model to predict the output of the type of the digit given some data.\n",
    "The K-Nearest neighbors model is going to be trained in diferent ways so that we can see wich one give us the best results."
   ]
  },
  {
   "cell_type": "markdown",
   "metadata": {},
   "source": [
    "#### 1) Describe the dataset in dimensions such as number of features, number of categories, and number of samples per category using Python."
   ]
  },
  {
   "cell_type": "markdown",
   "metadata": {},
   "source": [
    "- First we are going to import some of the libraries that we are going to use to perform the excercice. "
   ]
  },
  {
   "cell_type": "code",
   "execution_count": 164,
   "metadata": {},
   "outputs": [],
   "source": [
    "# =============================================================================\n",
    "# libraries\n",
    "# =============================================================================\n",
    "\n",
    "import numpy as np\n",
    "import seaborn as sns\n",
    "import collections\n",
    "from matplotlib import pyplot as plt\n",
    "import pandas as pd\n",
    "from sklearn.model_selection import GridSearchCV\n",
    "from sklearn.model_selection import KFold\n",
    "from sklearn.model_selection import StratifiedShuffleSplit\n",
    "from sklearn.neighbors import KNeighborsClassifier\n",
    "from sklearn.model_selection import train_test_split\n",
    "from sklearn.metrics import mean_absolute_error\n",
    "from sklearn.metrics import accuracy_score\n",
    "from sklearn.metrics import plot_confusion_matrix"
   ]
  },
  {
   "cell_type": "markdown",
   "metadata": {},
   "source": [
    "- Now that we have imported the libraries we are going to import the dataset and we are going to perform a first analysis and visulization of the number of features, number of clases and number of samples by categories."
   ]
  },
  {
   "cell_type": "code",
   "execution_count": 165,
   "metadata": {},
   "outputs": [],
   "source": [
    "from sklearn.datasets import load_digits\n",
    "digits = load_digits()\n",
    "X = digits.data\n",
    "y = digits.target\n",
    "columns = digits.feature_names"
   ]
  },
  {
   "cell_type": "markdown",
   "metadata": {},
   "source": [
    "In the 'X' variable we have the features of the dataset and in the 'y' variable we have the output given the features of the 'X' data\n",
    "Lest see the size of both of them"
   ]
  },
  {
   "cell_type": "code",
   "execution_count": 166,
   "metadata": {},
   "outputs": [
    {
     "data": {
      "text/plain": [
       "(1797, 64)"
      ]
     },
     "execution_count": 166,
     "metadata": {},
     "output_type": "execute_result"
    }
   ],
   "source": [
    "X.shape"
   ]
  },
  {
   "cell_type": "code",
   "execution_count": 167,
   "metadata": {},
   "outputs": [
    {
     "data": {
      "text/plain": [
       "(1797,)"
      ]
     },
     "execution_count": 167,
     "metadata": {},
     "output_type": "execute_result"
    }
   ],
   "source": [
    "y.shape"
   ]
  },
  {
   "cell_type": "markdown",
   "metadata": {},
   "source": [
    "We can see that the features variable has a total of 64 features and a length of 1797 pacients, as it was expected we have 1797 solutions for each pacient in the output variable."
   ]
  },
  {
   "cell_type": "markdown",
   "metadata": {},
   "source": [
    "- Let´s see a quick visualization of the kind of images we are going to find"
   ]
  },
  {
   "cell_type": "code",
   "execution_count": 168,
   "metadata": {},
   "outputs": [
    {
     "data": {
      "text/plain": [
       "<matplotlib.image.AxesImage at 0x2c04f1f7730>"
      ]
     },
     "execution_count": 168,
     "metadata": {},
     "output_type": "execute_result"
    },
    {
     "data": {
      "image/png": "[encoded data removed]",
      "text/plain": [
       "<Figure size 432x288 with 1 Axes>"
      ]
     },
     "metadata": {
      "needs_background": "light"
     },
     "output_type": "display_data"
    }
   ],
   "source": [
    "x_plot0 = np.reshape(X[0,:],(8,8))\n",
    "plt.imshow(x_plot0)"
   ]
  },
  {
   "cell_type": "code",
   "execution_count": 169,
   "metadata": {},
   "outputs": [
    {
     "data": {
      "text/plain": [
       "<matplotlib.image.AxesImage at 0x2c04f24d1c0>"
      ]
     },
     "execution_count": 169,
     "metadata": {},
     "output_type": "execute_result"
    },
    {
     "data": {
      "image/png": "[encoded data removed]",
      "text/plain": [
       "<Figure size 432x288 with 1 Axes>"
      ]
     },
     "metadata": {
      "needs_background": "light"
     },
     "output_type": "display_data"
    }
   ],
   "source": [
    "x_plot1 = np.reshape(X[1,:],(8,8))\n",
    "plt.imshow(x_plot1)"
   ]
  },
  {
   "cell_type": "code",
   "execution_count": 170,
   "metadata": {},
   "outputs": [
    {
     "data": {
      "text/plain": [
       "<matplotlib.image.AxesImage at 0x2c04eedad90>"
      ]
     },
     "execution_count": 170,
     "metadata": {},
     "output_type": "execute_result"
    },
    {
     "data": {
      "image/png": "[encoded data removed]",
      "text/plain": [
       "<Figure size 432x288 with 1 Axes>"
      ]
     },
     "metadata": {
      "needs_background": "light"
     },
     "output_type": "display_data"
    }
   ],
   "source": [
    "x_plot2 = np.reshape(X[2,:],(8,8))\n",
    "plt.imshow(x_plot2)"
   ]
  },
  {
   "cell_type": "code",
   "execution_count": 171,
   "metadata": {},
   "outputs": [
    {
     "data": {
      "text/plain": [
       "<matplotlib.image.AxesImage at 0x2c04ef387f0>"
      ]
     },
     "execution_count": 171,
     "metadata": {},
     "output_type": "execute_result"
    },
    {
     "data": {
      "image/png": "[encoded data removed]",
      "text/plain": [
       "<Figure size 432x288 with 1 Axes>"
      ]
     },
     "metadata": {
      "needs_background": "light"
     },
     "output_type": "display_data"
    }
   ],
   "source": [
    "x_plot3 = np.reshape(X[3,:],(8,8))\n",
    "plt.imshow(x_plot3)"
   ]
  },
  {
   "cell_type": "code",
   "execution_count": 172,
   "metadata": {},
   "outputs": [
    {
     "data": {
      "text/plain": [
       "<matplotlib.image.AxesImage at 0x2c04ef96400>"
      ]
     },
     "execution_count": 172,
     "metadata": {},
     "output_type": "execute_result"
    },
    {
     "data": {
      "image/png": "[encoded data removed]",
      "text/plain": [
       "<Figure size 432x288 with 1 Axes>"
      ]
     },
     "metadata": {
      "needs_background": "light"
     },
     "output_type": "display_data"
    }
   ],
   "source": [
    "x_plot4 = np.reshape(X[4,:],(8,8))\n",
    "plt.imshow(x_plot4)"
   ]
  },
  {
   "cell_type": "code",
   "execution_count": 173,
   "metadata": {},
   "outputs": [
    {
     "data": {
      "text/plain": [
       "<matplotlib.image.AxesImage at 0x2c04eff0130>"
      ]
     },
     "execution_count": 173,
     "metadata": {},
     "output_type": "execute_result"
    },
    {
     "data": {
      "image/png": "[encoded data removed]",
      "text/plain": [
       "<Figure size 432x288 with 1 Axes>"
      ]
     },
     "metadata": {
      "needs_background": "light"
     },
     "output_type": "display_data"
    }
   ],
   "source": [
    "x_plot5 = np.reshape(X[5,:],(8,8))\n",
    "plt.imshow(x_plot5)"
   ]
  },
  {
   "cell_type": "code",
   "execution_count": 174,
   "metadata": {},
   "outputs": [
    {
     "data": {
      "text/plain": [
       "<matplotlib.image.AxesImage at 0x2c04f040910>"
      ]
     },
     "execution_count": 174,
     "metadata": {},
     "output_type": "execute_result"
    },
    {
     "data": {
      "image/png": "[encoded data removed]",
      "text/plain": [
       "<Figure size 432x288 with 1 Axes>"
      ]
     },
     "metadata": {
      "needs_background": "light"
     },
     "output_type": "display_data"
    }
   ],
   "source": [
    "x_plot6 = np.reshape(X[6,:],(8,8))\n",
    "plt.imshow(x_plot6)"
   ]
  },
  {
   "cell_type": "code",
   "execution_count": 175,
   "metadata": {},
   "outputs": [
    {
     "data": {
      "text/plain": [
       "<matplotlib.image.AxesImage at 0x2c04f09c700>"
      ]
     },
     "execution_count": 175,
     "metadata": {},
     "output_type": "execute_result"
    },
    {
     "data": {
      "image/png": "[encoded data removed]",
      "text/plain": [
       "<Figure size 432x288 with 1 Axes>"
      ]
     },
     "metadata": {
      "needs_background": "light"
     },
     "output_type": "display_data"
    }
   ],
   "source": [
    "x_plot7 = np.reshape(X[7,:],(8,8))\n",
    "plt.imshow(x_plot7)"
   ]
  },
  {
   "cell_type": "code",
   "execution_count": 176,
   "metadata": {},
   "outputs": [
    {
     "data": {
      "text/plain": [
       "<matplotlib.image.AxesImage at 0x2c04f0fb070>"
      ]
     },
     "execution_count": 176,
     "metadata": {},
     "output_type": "execute_result"
    },
    {
     "data": {
      "image/png": "[encoded data removed]",
      "text/plain": [
       "<Figure size 432x288 with 1 Axes>"
      ]
     },
     "metadata": {
      "needs_background": "light"
     },
     "output_type": "display_data"
    }
   ],
   "source": [
    "x_plot8= np.reshape(X[8,:],(8,8))\n",
    "plt.imshow(x_plot8)"
   ]
  },
  {
   "cell_type": "code",
   "execution_count": 177,
   "metadata": {},
   "outputs": [
    {
     "data": {
      "text/plain": [
       "<matplotlib.image.AxesImage at 0x2c04f149e20>"
      ]
     },
     "execution_count": 177,
     "metadata": {},
     "output_type": "execute_result"
    },
    {
     "data": {
      "image/png": "[encoded data removed]",
      "text/plain": [
       "<Figure size 432x288 with 1 Axes>"
      ]
     },
     "metadata": {
      "needs_background": "light"
     },
     "output_type": "display_data"
    }
   ],
   "source": [
    "x_plot9 = np.reshape(X[9,:],(8,8))\n",
    "plt.imshow(x_plot9)"
   ]
  },
  {
   "cell_type": "markdown",
   "metadata": {},
   "source": [
    "- Now we are going to check the output of the dataset, that means the kind of class we are going to find in the output and how many samples are for each of them"
   ]
  },
  {
   "cell_type": "code",
   "execution_count": 178,
   "metadata": {},
   "outputs": [
    {
     "name": "stdout",
     "output_type": "stream",
     "text": [
      "Examples for each class:  Counter({3: 183, 1: 182, 5: 182, 4: 181, 6: 181, 9: 180, 7: 179, 0: 178, 2: 177, 8: 174})\n"
     ]
    }
   ],
   "source": [
    "print(\"Examples for each class: \", collections.Counter(y) )\n"
   ]
  },
  {
   "cell_type": "code",
   "execution_count": 179,
   "metadata": {},
   "outputs": [
    {
     "name": "stderr",
     "output_type": "stream",
     "text": [
      "C:\\Users\\franc\\anaconda3\\lib\\site-packages\\seaborn\\_decorators.py:36: FutureWarning: Pass the following variable as a keyword arg: x. From version 0.12, the only valid positional argument will be `data`, and passing other arguments without an explicit keyword will result in an error or misinterpretation.\n",
      "  warnings.warn(\n"
     ]
    },
    {
     "data": {
      "text/plain": [
       "<AxesSubplot:ylabel='count'>"
      ]
     },
     "execution_count": 179,
     "metadata": {},
     "output_type": "execute_result"
    },
    {
     "data": {
      "image/png": "[encoded data removed]",
      "text/plain": [
       "<Figure size 432x288 with 1 Axes>"
      ]
     },
     "metadata": {
      "needs_background": "light"
     },
     "output_type": "display_data"
    }
   ],
   "source": [
    "sns.countplot(y)"
   ]
  },
  {
   "cell_type": "markdown",
   "metadata": {},
   "source": [
    "We can see that in this case that the clases are well balanced so in this case we could predict that a cross validation kind of training is going to be the best result"
   ]
  },
  {
   "cell_type": "markdown",
   "metadata": {},
   "source": [
    "#### 2) Represent the statistical support of every feature graphically, resorting to Matplotlib’s boxplot function. Are there any outliers that can be detected by simple visual inspection? If so, devise a handcrafted method to detect and isolate such examples."
   ]
  },
  {
   "cell_type": "markdown",
   "metadata": {},
   "source": [
    "- Having clear wich is the main structure of our dataset, we are going to represent the statatistical support of every feature using Matplotlib´s boxplot function"
   ]
  },
  {
   "cell_type": "code",
   "execution_count": 180,
   "metadata": {},
   "outputs": [
    {
     "data": {
      "text/plain": [
       "{'whiskers': [<matplotlib.lines.Line2D at 0x2c04f2a7310>,\n",
       "  <matplotlib.lines.Line2D at 0x2c04f2a7670>,\n",
       "  <matplotlib.lines.Line2D at 0x2c04f2b5a90>,\n",
       "  <matplotlib.lines.Line2D at 0x2c04f2b5dc0>,\n",
       "  <matplotlib.lines.Line2D at 0x2c04f2ca160>,\n",
       "  <matplotlib.lines.Line2D at 0x2c04f2ca490>,\n",
       "  <matplotlib.lines.Line2D at 0x2c04f2d77f0>,\n",
       "  <matplotlib.lines.Line2D at 0x2c04f2d7b20>,\n",
       "  <matplotlib.lines.Line2D at 0x2c04f2e5e80>,\n",
       "  <matplotlib.lines.Line2D at 0x2c04f2f01f0>,\n",
       "  <matplotlib.lines.Line2D at 0x2c04f2fc550>,\n",
       "  <matplotlib.lines.Line2D at 0x2c04f2fc880>,\n",
       "  <matplotlib.lines.Line2D at 0x2c04f308be0>,\n",
       "  <matplotlib.lines.Line2D at 0x2c04f308f10>,\n",
       "  <matplotlib.lines.Line2D at 0x2c04f3212b0>,\n",
       "  <matplotlib.lines.Line2D at 0x2c04f3215e0>,\n",
       "  <matplotlib.lines.Line2D at 0x2c04f32d940>,\n",
       "  <matplotlib.lines.Line2D at 0x2c04f32dc70>,\n",
       "  <matplotlib.lines.Line2D at 0x2c04f33cfd0>,\n",
       "  <matplotlib.lines.Line2D at 0x2c04f345340>,\n",
       "  <matplotlib.lines.Line2D at 0x2c04f3536a0>,\n",
       "  <matplotlib.lines.Line2D at 0x2c04f3539d0>,\n",
       "  <matplotlib.lines.Line2D at 0x2c04f35ed30>,\n",
       "  <matplotlib.lines.Line2D at 0x2c04f36b0a0>,\n",
       "  <matplotlib.lines.Line2D at 0x2c04f379400>,\n",
       "  <matplotlib.lines.Line2D at 0x2c04f379730>,\n",
       "  <matplotlib.lines.Line2D at 0x2c04f384a90>,\n",
       "  <matplotlib.lines.Line2D at 0x2c04f384dc0>,\n",
       "  <matplotlib.lines.Line2D at 0x2c04f39c160>,\n",
       "  <matplotlib.lines.Line2D at 0x2c04f39c490>,\n",
       "  <matplotlib.lines.Line2D at 0x2c04f3a87f0>,\n",
       "  <matplotlib.lines.Line2D at 0x2c04f3a8b20>],\n",
       " 'caps': [<matplotlib.lines.Line2D at 0x2c04f2a79d0>,\n",
       "  <matplotlib.lines.Line2D at 0x2c04f2a7d30>,\n",
       "  <matplotlib.lines.Line2D at 0x2c04f2c0130>,\n",
       "  <matplotlib.lines.Line2D at 0x2c04f2c0460>,\n",
       "  <matplotlib.lines.Line2D at 0x2c04f2ca7c0>,\n",
       "  <matplotlib.lines.Line2D at 0x2c04f2caaf0>,\n",
       "  <matplotlib.lines.Line2D at 0x2c04f2d7e50>,\n",
       "  <matplotlib.lines.Line2D at 0x2c04f2e51c0>,\n",
       "  <matplotlib.lines.Line2D at 0x2c04f2f0520>,\n",
       "  <matplotlib.lines.Line2D at 0x2c04f2f0850>,\n",
       "  <matplotlib.lines.Line2D at 0x2c04f2fcbb0>,\n",
       "  <matplotlib.lines.Line2D at 0x2c04f2fcee0>,\n",
       "  <matplotlib.lines.Line2D at 0x2c04f316280>,\n",
       "  <matplotlib.lines.Line2D at 0x2c04f3165b0>,\n",
       "  <matplotlib.lines.Line2D at 0x2c04f321910>,\n",
       "  <matplotlib.lines.Line2D at 0x2c04f321c40>,\n",
       "  <matplotlib.lines.Line2D at 0x2c04f32dfa0>,\n",
       "  <matplotlib.lines.Line2D at 0x2c04f33c310>,\n",
       "  <matplotlib.lines.Line2D at 0x2c04f345670>,\n",
       "  <matplotlib.lines.Line2D at 0x2c04f3459a0>,\n",
       "  <matplotlib.lines.Line2D at 0x2c04f353d00>,\n",
       "  <matplotlib.lines.Line2D at 0x2c04f35e070>,\n",
       "  <matplotlib.lines.Line2D at 0x2c04f36b3d0>,\n",
       "  <matplotlib.lines.Line2D at 0x2c04f36b700>,\n",
       "  <matplotlib.lines.Line2D at 0x2c04f379a60>,\n",
       "  <matplotlib.lines.Line2D at 0x2c04f379d90>,\n",
       "  <matplotlib.lines.Line2D at 0x2c04f390130>,\n",
       "  <matplotlib.lines.Line2D at 0x2c04f390460>,\n",
       "  <matplotlib.lines.Line2D at 0x2c04f39c7c0>,\n",
       "  <matplotlib.lines.Line2D at 0x2c04f39caf0>,\n",
       "  <matplotlib.lines.Line2D at 0x2c04f3a8e50>,\n",
       "  <matplotlib.lines.Line2D at 0x2c04f3b41c0>],\n",
       " 'boxes': [<matplotlib.lines.Line2D at 0x2c04f294f70>,\n",
       "  <matplotlib.lines.Line2D at 0x2c04f2b5760>,\n",
       "  <matplotlib.lines.Line2D at 0x2c04f2c0df0>,\n",
       "  <matplotlib.lines.Line2D at 0x2c04f2d74c0>,\n",
       "  <matplotlib.lines.Line2D at 0x2c04f2e5b50>,\n",
       "  <matplotlib.lines.Line2D at 0x2c04f2fc220>,\n",
       "  <matplotlib.lines.Line2D at 0x2c04f3088b0>,\n",
       "  <matplotlib.lines.Line2D at 0x2c04f316f40>,\n",
       "  <matplotlib.lines.Line2D at 0x2c04f32d610>,\n",
       "  <matplotlib.lines.Line2D at 0x2c04f33cca0>,\n",
       "  <matplotlib.lines.Line2D at 0x2c04f353370>,\n",
       "  <matplotlib.lines.Line2D at 0x2c04f35ea00>,\n",
       "  <matplotlib.lines.Line2D at 0x2c04f3790d0>,\n",
       "  <matplotlib.lines.Line2D at 0x2c04f384760>,\n",
       "  <matplotlib.lines.Line2D at 0x2c04f390df0>,\n",
       "  <matplotlib.lines.Line2D at 0x2c04f3a84c0>],\n",
       " 'medians': [<matplotlib.lines.Line2D at 0x2c04f2b50d0>,\n",
       "  <matplotlib.lines.Line2D at 0x2c04f2c0790>,\n",
       "  <matplotlib.lines.Line2D at 0x2c04f2cae20>,\n",
       "  <matplotlib.lines.Line2D at 0x2c04f2e54f0>,\n",
       "  <matplotlib.lines.Line2D at 0x2c04f2f0b80>,\n",
       "  <matplotlib.lines.Line2D at 0x2c04f308250>,\n",
       "  <matplotlib.lines.Line2D at 0x2c04f3168e0>,\n",
       "  <matplotlib.lines.Line2D at 0x2c04f321f70>,\n",
       "  <matplotlib.lines.Line2D at 0x2c04f33c640>,\n",
       "  <matplotlib.lines.Line2D at 0x2c04f345cd0>,\n",
       "  <matplotlib.lines.Line2D at 0x2c04f35e3a0>,\n",
       "  <matplotlib.lines.Line2D at 0x2c04f36ba30>,\n",
       "  <matplotlib.lines.Line2D at 0x2c04f384100>,\n",
       "  <matplotlib.lines.Line2D at 0x2c04f390790>,\n",
       "  <matplotlib.lines.Line2D at 0x2c04f39ce20>,\n",
       "  <matplotlib.lines.Line2D at 0x2c04f3b44f0>],\n",
       " 'fliers': [<matplotlib.lines.Line2D at 0x2c04f2b5430>,\n",
       "  <matplotlib.lines.Line2D at 0x2c04f2c0ac0>,\n",
       "  <matplotlib.lines.Line2D at 0x2c04f2d7190>,\n",
       "  <matplotlib.lines.Line2D at 0x2c04f2e5820>,\n",
       "  <matplotlib.lines.Line2D at 0x2c04f2f0eb0>,\n",
       "  <matplotlib.lines.Line2D at 0x2c04f308580>,\n",
       "  <matplotlib.lines.Line2D at 0x2c04f316c10>,\n",
       "  <matplotlib.lines.Line2D at 0x2c04f32d2e0>,\n",
       "  <matplotlib.lines.Line2D at 0x2c04f33c970>,\n",
       "  <matplotlib.lines.Line2D at 0x2c04f353040>,\n",
       "  <matplotlib.lines.Line2D at 0x2c04f35e6d0>,\n",
       "  <matplotlib.lines.Line2D at 0x2c04f36bd60>,\n",
       "  <matplotlib.lines.Line2D at 0x2c04f384430>,\n",
       "  <matplotlib.lines.Line2D at 0x2c04f390ac0>,\n",
       "  <matplotlib.lines.Line2D at 0x2c04f3a8190>,\n",
       "  <matplotlib.lines.Line2D at 0x2c04f3b4820>],\n",
       " 'means': []}"
      ]
     },
     "execution_count": 180,
     "metadata": {},
     "output_type": "execute_result"
    },
    {
     "data": {
      "image/png": "[encoded data removed]",
      "text/plain": [
       "<Figure size 432x288 with 1 Axes>"
      ]
     },
     "metadata": {
      "needs_background": "light"
     },
     "output_type": "display_data"
    }
   ],
   "source": [
    "plt.boxplot(X[:,0:16])\n"
   ]
  },
  {
   "cell_type": "code",
   "execution_count": 181,
   "metadata": {},
   "outputs": [
    {
     "data": {
      "text/plain": [
       "{'whiskers': [<matplotlib.lines.Line2D at 0x2c04f440d00>,\n",
       "  <matplotlib.lines.Line2D at 0x2c04f4510a0>,\n",
       "  <matplotlib.lines.Line2D at 0x2c04f45c460>,\n",
       "  <matplotlib.lines.Line2D at 0x2c04f45c790>,\n",
       "  <matplotlib.lines.Line2D at 0x2c04f46aaf0>,\n",
       "  <matplotlib.lines.Line2D at 0x2c04f46ae20>,\n",
       "  <matplotlib.lines.Line2D at 0x2c04f4811c0>,\n",
       "  <matplotlib.lines.Line2D at 0x2c04f4814f0>,\n",
       "  <matplotlib.lines.Line2D at 0x2c04f48d850>,\n",
       "  <matplotlib.lines.Line2D at 0x2c04f48db80>,\n",
       "  <matplotlib.lines.Line2D at 0x2c04f499ee0>,\n",
       "  <matplotlib.lines.Line2D at 0x2c04f4a6250>,\n",
       "  <matplotlib.lines.Line2D at 0x2c04f4b15b0>,\n",
       "  <matplotlib.lines.Line2D at 0x2c04f4b18e0>,\n",
       "  <matplotlib.lines.Line2D at 0x2c04f4bdc40>,\n",
       "  <matplotlib.lines.Line2D at 0x2c04f4bdf70>,\n",
       "  <matplotlib.lines.Line2D at 0x2c04f4d7310>,\n",
       "  <matplotlib.lines.Line2D at 0x2c04f4d7640>,\n",
       "  <matplotlib.lines.Line2D at 0x2c04f4e29a0>,\n",
       "  <matplotlib.lines.Line2D at 0x2c04f4e2cd0>,\n",
       "  <matplotlib.lines.Line2D at 0x2c04f4fc070>,\n",
       "  <matplotlib.lines.Line2D at 0x2c04f4fc3a0>,\n",
       "  <matplotlib.lines.Line2D at 0x2c04f507700>,\n",
       "  <matplotlib.lines.Line2D at 0x2c04f507a30>,\n",
       "  <matplotlib.lines.Line2D at 0x2c04f514d90>,\n",
       "  <matplotlib.lines.Line2D at 0x2c04f522100>,\n",
       "  <matplotlib.lines.Line2D at 0x2c04f52e460>,\n",
       "  <matplotlib.lines.Line2D at 0x2c04f52e790>,\n",
       "  <matplotlib.lines.Line2D at 0x2c04f53baf0>,\n",
       "  <matplotlib.lines.Line2D at 0x2c04f53be20>,\n",
       "  <matplotlib.lines.Line2D at 0x2c04f5541c0>,\n",
       "  <matplotlib.lines.Line2D at 0x2c04f5544f0>],\n",
       " 'caps': [<matplotlib.lines.Line2D at 0x2c04f451400>,\n",
       "  <matplotlib.lines.Line2D at 0x2c04f451760>,\n",
       "  <matplotlib.lines.Line2D at 0x2c04f45cac0>,\n",
       "  <matplotlib.lines.Line2D at 0x2c04f45cdf0>,\n",
       "  <matplotlib.lines.Line2D at 0x2c04f475190>,\n",
       "  <matplotlib.lines.Line2D at 0x2c04f4754c0>,\n",
       "  <matplotlib.lines.Line2D at 0x2c04f481820>,\n",
       "  <matplotlib.lines.Line2D at 0x2c04f481b50>,\n",
       "  <matplotlib.lines.Line2D at 0x2c04f48deb0>,\n",
       "  <matplotlib.lines.Line2D at 0x2c04f499220>,\n",
       "  <matplotlib.lines.Line2D at 0x2c04f4a6580>,\n",
       "  <matplotlib.lines.Line2D at 0x2c04f4a68b0>,\n",
       "  <matplotlib.lines.Line2D at 0x2c04f4b1c10>,\n",
       "  <matplotlib.lines.Line2D at 0x2c04f4b1f40>,\n",
       "  <matplotlib.lines.Line2D at 0x2c04f4c92e0>,\n",
       "  <matplotlib.lines.Line2D at 0x2c04f4c9610>,\n",
       "  <matplotlib.lines.Line2D at 0x2c04f4d7970>,\n",
       "  <matplotlib.lines.Line2D at 0x2c04f4d7ca0>,\n",
       "  <matplotlib.lines.Line2D at 0x2c04f4f0040>,\n",
       "  <matplotlib.lines.Line2D at 0x2c04f4f0370>,\n",
       "  <matplotlib.lines.Line2D at 0x2c04f4fc6d0>,\n",
       "  <matplotlib.lines.Line2D at 0x2c04f4fca00>,\n",
       "  <matplotlib.lines.Line2D at 0x2c04f507d60>,\n",
       "  <matplotlib.lines.Line2D at 0x2c04f5140d0>,\n",
       "  <matplotlib.lines.Line2D at 0x2c04f522430>,\n",
       "  <matplotlib.lines.Line2D at 0x2c04f522760>,\n",
       "  <matplotlib.lines.Line2D at 0x2c04f52eac0>,\n",
       "  <matplotlib.lines.Line2D at 0x2c04f52edf0>,\n",
       "  <matplotlib.lines.Line2D at 0x2c04f547190>,\n",
       "  <matplotlib.lines.Line2D at 0x2c04f5474c0>,\n",
       "  <matplotlib.lines.Line2D at 0x2c04f554820>,\n",
       "  <matplotlib.lines.Line2D at 0x2c04f554b50>],\n",
       " 'boxes': [<matplotlib.lines.Line2D at 0x2c04f4409a0>,\n",
       "  <matplotlib.lines.Line2D at 0x2c04f45c130>,\n",
       "  <matplotlib.lines.Line2D at 0x2c04f46a7c0>,\n",
       "  <matplotlib.lines.Line2D at 0x2c04f475e50>,\n",
       "  <matplotlib.lines.Line2D at 0x2c04f48d520>,\n",
       "  <matplotlib.lines.Line2D at 0x2c04f499bb0>,\n",
       "  <matplotlib.lines.Line2D at 0x2c04f4b1280>,\n",
       "  <matplotlib.lines.Line2D at 0x2c04f4bd910>,\n",
       "  <matplotlib.lines.Line2D at 0x2c04f4c9fa0>,\n",
       "  <matplotlib.lines.Line2D at 0x2c04f4e2670>,\n",
       "  <matplotlib.lines.Line2D at 0x2c04f4f0d00>,\n",
       "  <matplotlib.lines.Line2D at 0x2c04f5073d0>,\n",
       "  <matplotlib.lines.Line2D at 0x2c04f514a60>,\n",
       "  <matplotlib.lines.Line2D at 0x2c04f52e130>,\n",
       "  <matplotlib.lines.Line2D at 0x2c04f53b7c0>,\n",
       "  <matplotlib.lines.Line2D at 0x2c04f547e50>],\n",
       " 'medians': [<matplotlib.lines.Line2D at 0x2c04f451a90>,\n",
       "  <matplotlib.lines.Line2D at 0x2c04f46a160>,\n",
       "  <matplotlib.lines.Line2D at 0x2c04f4757f0>,\n",
       "  <matplotlib.lines.Line2D at 0x2c04f481e80>,\n",
       "  <matplotlib.lines.Line2D at 0x2c04f499550>,\n",
       "  <matplotlib.lines.Line2D at 0x2c04f4a6be0>,\n",
       "  <matplotlib.lines.Line2D at 0x2c04f4bd2b0>,\n",
       "  <matplotlib.lines.Line2D at 0x2c04f4c9940>,\n",
       "  <matplotlib.lines.Line2D at 0x2c04f4d7fd0>,\n",
       "  <matplotlib.lines.Line2D at 0x2c04f4f06a0>,\n",
       "  <matplotlib.lines.Line2D at 0x2c04f4fcd30>,\n",
       "  <matplotlib.lines.Line2D at 0x2c04f514400>,\n",
       "  <matplotlib.lines.Line2D at 0x2c04f522a90>,\n",
       "  <matplotlib.lines.Line2D at 0x2c04f53b160>,\n",
       "  <matplotlib.lines.Line2D at 0x2c04f5477f0>,\n",
       "  <matplotlib.lines.Line2D at 0x2c04f554e80>],\n",
       " 'fliers': [<matplotlib.lines.Line2D at 0x2c04f451dc0>,\n",
       "  <matplotlib.lines.Line2D at 0x2c04f46a490>,\n",
       "  <matplotlib.lines.Line2D at 0x2c04f475b20>,\n",
       "  <matplotlib.lines.Line2D at 0x2c04f48d1f0>,\n",
       "  <matplotlib.lines.Line2D at 0x2c04f499880>,\n",
       "  <matplotlib.lines.Line2D at 0x2c04f4a6f10>,\n",
       "  <matplotlib.lines.Line2D at 0x2c04f4bd5e0>,\n",
       "  <matplotlib.lines.Line2D at 0x2c04f4c9c70>,\n",
       "  <matplotlib.lines.Line2D at 0x2c04f4e2340>,\n",
       "  <matplotlib.lines.Line2D at 0x2c04f4f09d0>,\n",
       "  <matplotlib.lines.Line2D at 0x2c04f5070a0>,\n",
       "  <matplotlib.lines.Line2D at 0x2c04f514730>,\n",
       "  <matplotlib.lines.Line2D at 0x2c04f522dc0>,\n",
       "  <matplotlib.lines.Line2D at 0x2c04f53b490>,\n",
       "  <matplotlib.lines.Line2D at 0x2c04f547b20>,\n",
       "  <matplotlib.lines.Line2D at 0x2c04f55f1f0>],\n",
       " 'means': []}"
      ]
     },
     "execution_count": 181,
     "metadata": {},
     "output_type": "execute_result"
    },
    {
     "data": {
      "image/png": "[encoded data removed]",
      "text/plain": [
       "<Figure size 432x288 with 1 Axes>"
      ]
     },
     "metadata": {
      "needs_background": "light"
     },
     "output_type": "display_data"
    }
   ],
   "source": [
    "plt.boxplot(X[:,16:32])\n"
   ]
  },
  {
   "cell_type": "code",
   "execution_count": 182,
   "metadata": {},
   "outputs": [
    {
     "data": {
      "text/plain": [
       "{'whiskers': [<matplotlib.lines.Line2D at 0x2c04f5e96d0>,\n",
       "  <matplotlib.lines.Line2D at 0x2c04f5e9a30>,\n",
       "  <matplotlib.lines.Line2D at 0x2c04f5f9df0>,\n",
       "  <matplotlib.lines.Line2D at 0x2c04f606160>,\n",
       "  <matplotlib.lines.Line2D at 0x2c04f6134c0>,\n",
       "  <matplotlib.lines.Line2D at 0x2c04f6137f0>,\n",
       "  <matplotlib.lines.Line2D at 0x2c04f61db50>,\n",
       "  <matplotlib.lines.Line2D at 0x2c04f61de80>,\n",
       "  <matplotlib.lines.Line2D at 0x2c04f636220>,\n",
       "  <matplotlib.lines.Line2D at 0x2c04f636550>,\n",
       "  <matplotlib.lines.Line2D at 0x2c04f6428b0>,\n",
       "  <matplotlib.lines.Line2D at 0x2c04f642be0>,\n",
       "  <matplotlib.lines.Line2D at 0x2c04f650f40>,\n",
       "  <matplotlib.lines.Line2D at 0x2c04f65c2b0>,\n",
       "  <matplotlib.lines.Line2D at 0x2c04f668610>,\n",
       "  <matplotlib.lines.Line2D at 0x2c04f668940>,\n",
       "  <matplotlib.lines.Line2D at 0x2c04f673ca0>,\n",
       "  <matplotlib.lines.Line2D at 0x2c04f673fd0>,\n",
       "  <matplotlib.lines.Line2D at 0x2c04f68a370>,\n",
       "  <matplotlib.lines.Line2D at 0x2c04f68a6a0>,\n",
       "  <matplotlib.lines.Line2D at 0x2c04f699a00>,\n",
       "  <matplotlib.lines.Line2D at 0x2c04f699d30>,\n",
       "  <matplotlib.lines.Line2D at 0x2c04f6b20d0>,\n",
       "  <matplotlib.lines.Line2D at 0x2c04f6b2400>,\n",
       "  <matplotlib.lines.Line2D at 0x2c04f6be760>,\n",
       "  <matplotlib.lines.Line2D at 0x2c04f6bea90>,\n",
       "  <matplotlib.lines.Line2D at 0x2c04f6cbdf0>,\n",
       "  <matplotlib.lines.Line2D at 0x2c04f6d6160>,\n",
       "  <matplotlib.lines.Line2D at 0x2c04f6e44c0>,\n",
       "  <matplotlib.lines.Line2D at 0x2c04f6e47f0>,\n",
       "  <matplotlib.lines.Line2D at 0x2c04f6eeb50>,\n",
       "  <matplotlib.lines.Line2D at 0x2c04f6eee80>],\n",
       " 'caps': [<matplotlib.lines.Line2D at 0x2c04f5e9dc0>,\n",
       "  <matplotlib.lines.Line2D at 0x2c04f5f9130>,\n",
       "  <matplotlib.lines.Line2D at 0x2c04f606490>,\n",
       "  <matplotlib.lines.Line2D at 0x2c04f6067c0>,\n",
       "  <matplotlib.lines.Line2D at 0x2c04f613b20>,\n",
       "  <matplotlib.lines.Line2D at 0x2c04f613e50>,\n",
       "  <matplotlib.lines.Line2D at 0x2c04f6291f0>,\n",
       "  <matplotlib.lines.Line2D at 0x2c04f629520>,\n",
       "  <matplotlib.lines.Line2D at 0x2c04f636880>,\n",
       "  <matplotlib.lines.Line2D at 0x2c04f636bb0>,\n",
       "  <matplotlib.lines.Line2D at 0x2c04f642f10>,\n",
       "  <matplotlib.lines.Line2D at 0x2c04f650280>,\n",
       "  <matplotlib.lines.Line2D at 0x2c04f65c5e0>,\n",
       "  <matplotlib.lines.Line2D at 0x2c04f65c910>,\n",
       "  <matplotlib.lines.Line2D at 0x2c04f668c70>,\n",
       "  <matplotlib.lines.Line2D at 0x2c04f668fa0>,\n",
       "  <matplotlib.lines.Line2D at 0x2c04f680340>,\n",
       "  <matplotlib.lines.Line2D at 0x2c04f680670>,\n",
       "  <matplotlib.lines.Line2D at 0x2c04f68a9d0>,\n",
       "  <matplotlib.lines.Line2D at 0x2c04f68ad00>,\n",
       "  <matplotlib.lines.Line2D at 0x2c04f6a60a0>,\n",
       "  <matplotlib.lines.Line2D at 0x2c04f6a63d0>,\n",
       "  <matplotlib.lines.Line2D at 0x2c04f6b2730>,\n",
       "  <matplotlib.lines.Line2D at 0x2c04f6b2a60>,\n",
       "  <matplotlib.lines.Line2D at 0x2c04f6bedc0>,\n",
       "  <matplotlib.lines.Line2D at 0x2c04f6cb130>,\n",
       "  <matplotlib.lines.Line2D at 0x2c04f6d6490>,\n",
       "  <matplotlib.lines.Line2D at 0x2c04f6d67c0>,\n",
       "  <matplotlib.lines.Line2D at 0x2c04f6e4b20>,\n",
       "  <matplotlib.lines.Line2D at 0x2c04f6e4e50>,\n",
       "  <matplotlib.lines.Line2D at 0x2c04f6fb1f0>,\n",
       "  <matplotlib.lines.Line2D at 0x2c04f6fb520>],\n",
       " 'boxes': [<matplotlib.lines.Line2D at 0x2c04f5e9370>,\n",
       "  <matplotlib.lines.Line2D at 0x2c04f5f9ac0>,\n",
       "  <matplotlib.lines.Line2D at 0x2c04f613190>,\n",
       "  <matplotlib.lines.Line2D at 0x2c04f61d820>,\n",
       "  <matplotlib.lines.Line2D at 0x2c04f629eb0>,\n",
       "  <matplotlib.lines.Line2D at 0x2c04f642580>,\n",
       "  <matplotlib.lines.Line2D at 0x2c04f650c10>,\n",
       "  <matplotlib.lines.Line2D at 0x2c04f6682e0>,\n",
       "  <matplotlib.lines.Line2D at 0x2c04f673970>,\n",
       "  <matplotlib.lines.Line2D at 0x2c04f68a040>,\n",
       "  <matplotlib.lines.Line2D at 0x2c04f6996d0>,\n",
       "  <matplotlib.lines.Line2D at 0x2c04f6a6d60>,\n",
       "  <matplotlib.lines.Line2D at 0x2c04f6be430>,\n",
       "  <matplotlib.lines.Line2D at 0x2c04f6cbac0>,\n",
       "  <matplotlib.lines.Line2D at 0x2c04f6e4190>,\n",
       "  <matplotlib.lines.Line2D at 0x2c04f6ee820>],\n",
       " 'medians': [<matplotlib.lines.Line2D at 0x2c04f5f9460>,\n",
       "  <matplotlib.lines.Line2D at 0x2c04f606af0>,\n",
       "  <matplotlib.lines.Line2D at 0x2c04f61d1c0>,\n",
       "  <matplotlib.lines.Line2D at 0x2c04f629850>,\n",
       "  <matplotlib.lines.Line2D at 0x2c04f636ee0>,\n",
       "  <matplotlib.lines.Line2D at 0x2c04f6505b0>,\n",
       "  <matplotlib.lines.Line2D at 0x2c04f65cc40>,\n",
       "  <matplotlib.lines.Line2D at 0x2c04f673310>,\n",
       "  <matplotlib.lines.Line2D at 0x2c04f6809a0>,\n",
       "  <matplotlib.lines.Line2D at 0x2c04f699070>,\n",
       "  <matplotlib.lines.Line2D at 0x2c04f6a6700>,\n",
       "  <matplotlib.lines.Line2D at 0x2c04f6b2d90>,\n",
       "  <matplotlib.lines.Line2D at 0x2c04f6cb460>,\n",
       "  <matplotlib.lines.Line2D at 0x2c04f6d6af0>,\n",
       "  <matplotlib.lines.Line2D at 0x2c04f6ee1c0>,\n",
       "  <matplotlib.lines.Line2D at 0x2c04f6fb850>],\n",
       " 'fliers': [<matplotlib.lines.Line2D at 0x2c04f5f9790>,\n",
       "  <matplotlib.lines.Line2D at 0x2c04f606e20>,\n",
       "  <matplotlib.lines.Line2D at 0x2c04f61d4f0>,\n",
       "  <matplotlib.lines.Line2D at 0x2c04f629b80>,\n",
       "  <matplotlib.lines.Line2D at 0x2c04f642250>,\n",
       "  <matplotlib.lines.Line2D at 0x2c04f6508e0>,\n",
       "  <matplotlib.lines.Line2D at 0x2c04f65cf70>,\n",
       "  <matplotlib.lines.Line2D at 0x2c04f673640>,\n",
       "  <matplotlib.lines.Line2D at 0x2c04f680cd0>,\n",
       "  <matplotlib.lines.Line2D at 0x2c04f6993a0>,\n",
       "  <matplotlib.lines.Line2D at 0x2c04f6a6a30>,\n",
       "  <matplotlib.lines.Line2D at 0x2c04f6be100>,\n",
       "  <matplotlib.lines.Line2D at 0x2c04f6cb790>,\n",
       "  <matplotlib.lines.Line2D at 0x2c04f6d6e20>,\n",
       "  <matplotlib.lines.Line2D at 0x2c04f6ee4f0>,\n",
       "  <matplotlib.lines.Line2D at 0x2c04f6fbb80>],\n",
       " 'means': []}"
      ]
     },
     "execution_count": 182,
     "metadata": {},
     "output_type": "execute_result"
    },
    {
     "data": {
      "image/png": "[encoded data removed]",
      "text/plain": [
       "<Figure size 432x288 with 1 Axes>"
      ]
     },
     "metadata": {
      "needs_background": "light"
     },
     "output_type": "display_data"
    }
   ],
   "source": [
    "plt.boxplot(X[:,32:48])\n"
   ]
  },
  {
   "cell_type": "code",
   "execution_count": 183,
   "metadata": {},
   "outputs": [
    {
     "data": {
      "text/plain": [
       "{'whiskers': [<matplotlib.lines.Line2D at 0x2c04f797040>,\n",
       "  <matplotlib.lines.Line2D at 0x2c04f7973a0>,\n",
       "  <matplotlib.lines.Line2D at 0x2c04f7a4760>,\n",
       "  <matplotlib.lines.Line2D at 0x2c04f7a4a90>,\n",
       "  <matplotlib.lines.Line2D at 0x2c04f7b0df0>,\n",
       "  <matplotlib.lines.Line2D at 0x2c04f7bb160>,\n",
       "  <matplotlib.lines.Line2D at 0x2c04f7c84c0>,\n",
       "  <matplotlib.lines.Line2D at 0x2c04f7c87f0>,\n",
       "  <matplotlib.lines.Line2D at 0x2c04f7d3b50>,\n",
       "  <matplotlib.lines.Line2D at 0x2c04f7d3e80>,\n",
       "  <matplotlib.lines.Line2D at 0x2c04f7ec220>,\n",
       "  <matplotlib.lines.Line2D at 0x2c04f7ec550>,\n",
       "  <matplotlib.lines.Line2D at 0x2c04f7f88b0>,\n",
       "  <matplotlib.lines.Line2D at 0x2c04f7f8be0>,\n",
       "  <matplotlib.lines.Line2D at 0x2c04f804f40>,\n",
       "  <matplotlib.lines.Line2D at 0x2c04f8112b0>,\n",
       "  <matplotlib.lines.Line2D at 0x2c04f81e610>,\n",
       "  <matplotlib.lines.Line2D at 0x2c04f81e940>,\n",
       "  <matplotlib.lines.Line2D at 0x2c04f82aca0>,\n",
       "  <matplotlib.lines.Line2D at 0x2c04f82afd0>,\n",
       "  <matplotlib.lines.Line2D at 0x2c04f83e370>,\n",
       "  <matplotlib.lines.Line2D at 0x2c04f83e6a0>,\n",
       "  <matplotlib.lines.Line2D at 0x2c04f84ea00>,\n",
       "  <matplotlib.lines.Line2D at 0x2c04f84ed30>,\n",
       "  <matplotlib.lines.Line2D at 0x2c04f8670d0>,\n",
       "  <matplotlib.lines.Line2D at 0x2c04f867400>,\n",
       "  <matplotlib.lines.Line2D at 0x2c04f875760>,\n",
       "  <matplotlib.lines.Line2D at 0x2c04f875a90>,\n",
       "  <matplotlib.lines.Line2D at 0x2c04f880df0>,\n",
       "  <matplotlib.lines.Line2D at 0x2c04f88c160>,\n",
       "  <matplotlib.lines.Line2D at 0x2c04f8984c0>,\n",
       "  <matplotlib.lines.Line2D at 0x2c04f8987f0>],\n",
       " 'caps': [<matplotlib.lines.Line2D at 0x2c04f797700>,\n",
       "  <matplotlib.lines.Line2D at 0x2c04f797a60>,\n",
       "  <matplotlib.lines.Line2D at 0x2c04f7a4dc0>,\n",
       "  <matplotlib.lines.Line2D at 0x2c04f7b0130>,\n",
       "  <matplotlib.lines.Line2D at 0x2c04f7bb490>,\n",
       "  <matplotlib.lines.Line2D at 0x2c04f7bb7c0>,\n",
       "  <matplotlib.lines.Line2D at 0x2c04f7c8b20>,\n",
       "  <matplotlib.lines.Line2D at 0x2c04f7c8e50>,\n",
       "  <matplotlib.lines.Line2D at 0x2c04f7e01f0>,\n",
       "  <matplotlib.lines.Line2D at 0x2c04f7e0520>,\n",
       "  <matplotlib.lines.Line2D at 0x2c04f7ec880>,\n",
       "  <matplotlib.lines.Line2D at 0x2c04f7ecbb0>,\n",
       "  <matplotlib.lines.Line2D at 0x2c04f7f8f10>,\n",
       "  <matplotlib.lines.Line2D at 0x2c04f804280>,\n",
       "  <matplotlib.lines.Line2D at 0x2c04f8115e0>,\n",
       "  <matplotlib.lines.Line2D at 0x2c04f811910>,\n",
       "  <matplotlib.lines.Line2D at 0x2c04f81ec70>,\n",
       "  <matplotlib.lines.Line2D at 0x2c04f81efa0>,\n",
       "  <matplotlib.lines.Line2D at 0x2c04f835340>,\n",
       "  <matplotlib.lines.Line2D at 0x2c04f835670>,\n",
       "  <matplotlib.lines.Line2D at 0x2c04f83e9d0>,\n",
       "  <matplotlib.lines.Line2D at 0x2c04f83ed00>,\n",
       "  <matplotlib.lines.Line2D at 0x2c04f85a0a0>,\n",
       "  <matplotlib.lines.Line2D at 0x2c04f85a3d0>,\n",
       "  <matplotlib.lines.Line2D at 0x2c04f867730>,\n",
       "  <matplotlib.lines.Line2D at 0x2c04f867a60>,\n",
       "  <matplotlib.lines.Line2D at 0x2c04f875dc0>,\n",
       "  <matplotlib.lines.Line2D at 0x2c04f880130>,\n",
       "  <matplotlib.lines.Line2D at 0x2c04f88c490>,\n",
       "  <matplotlib.lines.Line2D at 0x2c04f88c7c0>,\n",
       "  <matplotlib.lines.Line2D at 0x2c04f898b20>,\n",
       "  <matplotlib.lines.Line2D at 0x2c04f898e50>],\n",
       " 'boxes': [<matplotlib.lines.Line2D at 0x2c04f785ca0>,\n",
       "  <matplotlib.lines.Line2D at 0x2c04f7a4430>,\n",
       "  <matplotlib.lines.Line2D at 0x2c04f7b0ac0>,\n",
       "  <matplotlib.lines.Line2D at 0x2c04f7c8190>,\n",
       "  <matplotlib.lines.Line2D at 0x2c04f7d3820>,\n",
       "  <matplotlib.lines.Line2D at 0x2c04f7e0eb0>,\n",
       "  <matplotlib.lines.Line2D at 0x2c04f7f8580>,\n",
       "  <matplotlib.lines.Line2D at 0x2c04f804c10>,\n",
       "  <matplotlib.lines.Line2D at 0x2c04f81e2e0>,\n",
       "  <matplotlib.lines.Line2D at 0x2c04f82a970>,\n",
       "  <matplotlib.lines.Line2D at 0x2c04f83e040>,\n",
       "  <matplotlib.lines.Line2D at 0x2c04f84e6d0>,\n",
       "  <matplotlib.lines.Line2D at 0x2c04f85ad60>,\n",
       "  <matplotlib.lines.Line2D at 0x2c04f875430>,\n",
       "  <matplotlib.lines.Line2D at 0x2c04f880ac0>,\n",
       "  <matplotlib.lines.Line2D at 0x2c04f898190>],\n",
       " 'medians': [<matplotlib.lines.Line2D at 0x2c04f797d90>,\n",
       "  <matplotlib.lines.Line2D at 0x2c04f7b0460>,\n",
       "  <matplotlib.lines.Line2D at 0x2c04f7bbaf0>,\n",
       "  <matplotlib.lines.Line2D at 0x2c04f7d31c0>,\n",
       "  <matplotlib.lines.Line2D at 0x2c04f7e0850>,\n",
       "  <matplotlib.lines.Line2D at 0x2c04f7ecee0>,\n",
       "  <matplotlib.lines.Line2D at 0x2c04f8045b0>,\n",
       "  <matplotlib.lines.Line2D at 0x2c04f811c40>,\n",
       "  <matplotlib.lines.Line2D at 0x2c04f82a310>,\n",
       "  <matplotlib.lines.Line2D at 0x2c04f8359a0>,\n",
       "  <matplotlib.lines.Line2D at 0x2c04f84e070>,\n",
       "  <matplotlib.lines.Line2D at 0x2c04f85a700>,\n",
       "  <matplotlib.lines.Line2D at 0x2c04f867d90>,\n",
       "  <matplotlib.lines.Line2D at 0x2c04f880460>,\n",
       "  <matplotlib.lines.Line2D at 0x2c04f88caf0>,\n",
       "  <matplotlib.lines.Line2D at 0x2c04f8a41c0>],\n",
       " 'fliers': [<matplotlib.lines.Line2D at 0x2c04f7a4100>,\n",
       "  <matplotlib.lines.Line2D at 0x2c04f7b0790>,\n",
       "  <matplotlib.lines.Line2D at 0x2c04f7bbe20>,\n",
       "  <matplotlib.lines.Line2D at 0x2c04f7d34f0>,\n",
       "  <matplotlib.lines.Line2D at 0x2c04f7e0b80>,\n",
       "  <matplotlib.lines.Line2D at 0x2c04f7f8250>,\n",
       "  <matplotlib.lines.Line2D at 0x2c04f8048e0>,\n",
       "  <matplotlib.lines.Line2D at 0x2c04f811f70>,\n",
       "  <matplotlib.lines.Line2D at 0x2c04f82a640>,\n",
       "  <matplotlib.lines.Line2D at 0x2c04f835cd0>,\n",
       "  <matplotlib.lines.Line2D at 0x2c04f84e3a0>,\n",
       "  <matplotlib.lines.Line2D at 0x2c04f85aa30>,\n",
       "  <matplotlib.lines.Line2D at 0x2c04f875100>,\n",
       "  <matplotlib.lines.Line2D at 0x2c04f880790>,\n",
       "  <matplotlib.lines.Line2D at 0x2c04f88ce20>,\n",
       "  <matplotlib.lines.Line2D at 0x2c04f8a44f0>],\n",
       " 'means': []}"
      ]
     },
     "execution_count": 183,
     "metadata": {},
     "output_type": "execute_result"
    },
    {
     "data": {
      "image/png": "[encoded data removed]",
      "text/plain": [
       "<Figure size 432x288 with 1 Axes>"
      ]
     },
     "metadata": {
      "needs_background": "light"
     },
     "output_type": "display_data"
    }
   ],
   "source": [
    "plt.boxplot(X[:,48:64])\n"
   ]
  },
  {
   "cell_type": "markdown",
   "metadata": {},
   "source": [
    "We can see that the data is well situated and we dont need to normalize it to perform the boxplot"
   ]
  },
  {
   "cell_type": "markdown",
   "metadata": {},
   "source": [
    "By looking at the boxplot we could think that there are outliers, in order to try and detect them we are going to perfomr the IRQ method that uses de first and third percentile to isolate the outliers. \n",
    "By doing this it does not mean that the outliers we detect has to be outliers we would have to analyze them to check to see if we need them or we do not."
   ]
  },
  {
   "cell_type": "code",
   "execution_count": 184,
   "metadata": {},
   "outputs": [
    {
     "data": {
      "text/plain": [
       "(1797, 65)"
      ]
     },
     "execution_count": 184,
     "metadata": {},
     "output_type": "execute_result"
    }
   ],
   "source": [
    "# get the shape of the cancer dataframe\n",
    "digits_df.shape"
   ]
  },
  {
   "cell_type": "code",
   "execution_count": 185,
   "metadata": {},
   "outputs": [
    {
     "name": "stdout",
     "output_type": "stream",
     "text": [
      "pixel_0_0     0.0\n",
      "pixel_0_1     0.0\n",
      "pixel_0_2     8.0\n",
      "pixel_0_3     5.0\n",
      "pixel_0_4     5.0\n",
      "             ... \n",
      "pixel_7_4     6.0\n",
      "pixel_7_5    12.0\n",
      "pixel_7_6     2.0\n",
      "pixel_7_7     0.0\n",
      "class         5.0\n",
      "Length: 65, dtype: float64\n"
     ]
    }
   ],
   "source": [
    "# get first Q\n",
    "Q1 = digits_df.quantile(0.25)\n",
    "# get third Q\n",
    "Q3 = digits_df.quantile(0.75)\n",
    "# get IRQ value for every feature\n",
    "IQR = Q3 - Q1\n",
    "print(IQR)"
   ]
  },
  {
   "cell_type": "code",
   "execution_count": 186,
   "metadata": {},
   "outputs": [
    {
     "name": "stdout",
     "output_type": "stream",
     "text": [
      "      pixel_0_0  pixel_0_1  pixel_0_2  pixel_0_3  pixel_0_4  pixel_0_5  \\\n",
      "0         False      False      False      False      False      False   \n",
      "1         False      False      False      False      False      False   \n",
      "2         False      False      False      False      False      False   \n",
      "3         False      False      False      False      False      False   \n",
      "4         False      False      False      False      False      False   \n",
      "...         ...        ...        ...        ...        ...        ...   \n",
      "1792      False      False      False      False      False      False   \n",
      "1793      False      False      False      False      False      False   \n",
      "1794      False      False      False      False      False      False   \n",
      "1795      False      False      False      False      False      False   \n",
      "1796      False      False      False      False      False      False   \n",
      "\n",
      "      pixel_0_6  pixel_0_7  pixel_1_0  pixel_1_1  ...  pixel_6_7  pixel_7_0  \\\n",
      "0         False      False      False      False  ...      False      False   \n",
      "1         False      False      False      False  ...      False      False   \n",
      "2         False      False      False      False  ...      False      False   \n",
      "3         False      False      False      False  ...      False      False   \n",
      "4         False      False      False      False  ...      False      False   \n",
      "...         ...        ...        ...        ...  ...        ...        ...   \n",
      "1792      False      False      False      False  ...      False      False   \n",
      "1793       True      False      False      False  ...      False      False   \n",
      "1794      False      False      False      False  ...      False      False   \n",
      "1795      False      False      False      False  ...      False      False   \n",
      "1796      False      False      False      False  ...      False      False   \n",
      "\n",
      "      pixel_7_1  pixel_7_2  pixel_7_3  pixel_7_4  pixel_7_5  pixel_7_6  \\\n",
      "0         False      False      False      False      False      False   \n",
      "1         False      False      False      False      False      False   \n",
      "2         False      False      False      False      False       True   \n",
      "3         False      False      False      False      False      False   \n",
      "4         False      False      False      False      False      False   \n",
      "...         ...        ...        ...        ...        ...        ...   \n",
      "1792      False      False      False      False      False      False   \n",
      "1793      False      False      False      False      False      False   \n",
      "1794      False      False      False      False      False      False   \n",
      "1795      False      False      False      False      False      False   \n",
      "1796       True      False      False      False      False      False   \n",
      "\n",
      "      pixel_7_7  class  \n",
      "0         False  False  \n",
      "1         False  False  \n",
      "2         False  False  \n",
      "3         False  False  \n",
      "4         False  False  \n",
      "...         ...    ...  \n",
      "1792      False  False  \n",
      "1793      False  False  \n",
      "1794      False  False  \n",
      "1795      False  False  \n",
      "1796      False  False  \n",
      "\n",
      "[1797 rows x 65 columns]\n"
     ]
    }
   ],
   "source": [
    "# print outliers in the dataframe\n",
    "print((digits_df < (Q1 - 2 * IQR)) |(digits_df > (Q3 + 2 * IQR)))"
   ]
  },
  {
   "cell_type": "code",
   "execution_count": 187,
   "metadata": {},
   "outputs": [],
   "source": [
    "# get the outliers in a different dataset\n",
    "digits_outliers = digits_df[((digits_df < (Q1 - 2 * IQR)) |(digits_df > (Q3 + 2 * IQR))).any(axis=1)]"
   ]
  },
  {
   "cell_type": "code",
   "execution_count": 188,
   "metadata": {},
   "outputs": [
    {
     "data": {
      "text/plain": [
       "(1160, 65)"
      ]
     },
     "execution_count": 188,
     "metadata": {},
     "output_type": "execute_result"
    }
   ],
   "source": [
    "digits_outliers.shape"
   ]
  },
  {
   "cell_type": "code",
   "execution_count": 189,
   "metadata": {},
   "outputs": [],
   "source": [
    "# get the original dataset without the outliers\n",
    "digits_df_out = digits_df[~((digits_df < (Q1 - 2 * IQR)) |(digits_df > (Q3 + 2 * IQR))).any(axis=1)]"
   ]
  },
  {
   "cell_type": "code",
   "execution_count": 190,
   "metadata": {},
   "outputs": [
    {
     "data": {
      "text/plain": [
       "(637, 65)"
      ]
     },
     "execution_count": 190,
     "metadata": {},
     "output_type": "execute_result"
    }
   ],
   "source": [
    "digits_df_out.shape"
   ]
  },
  {
   "cell_type": "markdown",
   "metadata": {},
   "source": [
    "As we can see this method is not a very good one to detect the outliers in this case, it takes too many datat as an outlier. In order to really detect them we could do a simple clustering detection as a K-Means or a SVC One class classification."
   ]
  },
  {
   "cell_type": "markdown",
   "metadata": {},
   "source": [
    "- In order to keep seen the data we are going to analyce how each feature affects to the diagnosis."
   ]
  },
  {
   "cell_type": "markdown",
   "metadata": {},
   "source": [
    "First we are going to add the y variable with the type of cancer to the features dataset"
   ]
  },
  {
   "cell_type": "code",
   "execution_count": 191,
   "metadata": {},
   "outputs": [],
   "source": [
    "df_digits_corr = digits_df"
   ]
  },
  {
   "cell_type": "code",
   "execution_count": 192,
   "metadata": {},
   "outputs": [
    {
     "data": {
      "text/html": [
       "<div>\n",
       "<style scoped>\n",
       "    .dataframe tbody tr th:only-of-type {\n",
       "        vertical-align: middle;\n",
       "    }\n",
       "\n",
       "    .dataframe tbody tr th {\n",
       "        vertical-align: top;\n",
       "    }\n",
       "\n",
       "    .dataframe thead th {\n",
       "        text-align: right;\n",
       "    }\n",
       "</style>\n",
       "<table border=\"1\" class=\"dataframe\">\n",
       "  <thead>\n",
       "    <tr style=\"text-align: right;\">\n",
       "      <th></th>\n",
       "      <th>pixel_0_0</th>\n",
       "      <th>pixel_0_1</th>\n",
       "      <th>pixel_0_2</th>\n",
       "      <th>pixel_0_3</th>\n",
       "      <th>pixel_0_4</th>\n",
       "      <th>pixel_0_5</th>\n",
       "      <th>pixel_0_6</th>\n",
       "      <th>pixel_0_7</th>\n",
       "      <th>pixel_1_0</th>\n",
       "      <th>pixel_1_1</th>\n",
       "      <th>...</th>\n",
       "      <th>pixel_6_7</th>\n",
       "      <th>pixel_7_0</th>\n",
       "      <th>pixel_7_1</th>\n",
       "      <th>pixel_7_2</th>\n",
       "      <th>pixel_7_3</th>\n",
       "      <th>pixel_7_4</th>\n",
       "      <th>pixel_7_5</th>\n",
       "      <th>pixel_7_6</th>\n",
       "      <th>pixel_7_7</th>\n",
       "      <th>class</th>\n",
       "    </tr>\n",
       "  </thead>\n",
       "  <tbody>\n",
       "    <tr>\n",
       "      <th>0</th>\n",
       "      <td>0.0</td>\n",
       "      <td>0.0</td>\n",
       "      <td>5.0</td>\n",
       "      <td>13.0</td>\n",
       "      <td>9.0</td>\n",
       "      <td>1.0</td>\n",
       "      <td>0.0</td>\n",
       "      <td>0.0</td>\n",
       "      <td>0.0</td>\n",
       "      <td>0.0</td>\n",
       "      <td>...</td>\n",
       "      <td>0.0</td>\n",
       "      <td>0.0</td>\n",
       "      <td>0.0</td>\n",
       "      <td>6.0</td>\n",
       "      <td>13.0</td>\n",
       "      <td>10.0</td>\n",
       "      <td>0.0</td>\n",
       "      <td>0.0</td>\n",
       "      <td>0.0</td>\n",
       "      <td>0</td>\n",
       "    </tr>\n",
       "    <tr>\n",
       "      <th>1</th>\n",
       "      <td>0.0</td>\n",
       "      <td>0.0</td>\n",
       "      <td>0.0</td>\n",
       "      <td>12.0</td>\n",
       "      <td>13.0</td>\n",
       "      <td>5.0</td>\n",
       "      <td>0.0</td>\n",
       "      <td>0.0</td>\n",
       "      <td>0.0</td>\n",
       "      <td>0.0</td>\n",
       "      <td>...</td>\n",
       "      <td>0.0</td>\n",
       "      <td>0.0</td>\n",
       "      <td>0.0</td>\n",
       "      <td>0.0</td>\n",
       "      <td>11.0</td>\n",
       "      <td>16.0</td>\n",
       "      <td>10.0</td>\n",
       "      <td>0.0</td>\n",
       "      <td>0.0</td>\n",
       "      <td>1</td>\n",
       "    </tr>\n",
       "    <tr>\n",
       "      <th>2</th>\n",
       "      <td>0.0</td>\n",
       "      <td>0.0</td>\n",
       "      <td>0.0</td>\n",
       "      <td>4.0</td>\n",
       "      <td>15.0</td>\n",
       "      <td>12.0</td>\n",
       "      <td>0.0</td>\n",
       "      <td>0.0</td>\n",
       "      <td>0.0</td>\n",
       "      <td>0.0</td>\n",
       "      <td>...</td>\n",
       "      <td>0.0</td>\n",
       "      <td>0.0</td>\n",
       "      <td>0.0</td>\n",
       "      <td>0.0</td>\n",
       "      <td>3.0</td>\n",
       "      <td>11.0</td>\n",
       "      <td>16.0</td>\n",
       "      <td>9.0</td>\n",
       "      <td>0.0</td>\n",
       "      <td>2</td>\n",
       "    </tr>\n",
       "    <tr>\n",
       "      <th>3</th>\n",
       "      <td>0.0</td>\n",
       "      <td>0.0</td>\n",
       "      <td>7.0</td>\n",
       "      <td>15.0</td>\n",
       "      <td>13.0</td>\n",
       "      <td>1.0</td>\n",
       "      <td>0.0</td>\n",
       "      <td>0.0</td>\n",
       "      <td>0.0</td>\n",
       "      <td>8.0</td>\n",
       "      <td>...</td>\n",
       "      <td>0.0</td>\n",
       "      <td>0.0</td>\n",
       "      <td>0.0</td>\n",
       "      <td>7.0</td>\n",
       "      <td>13.0</td>\n",
       "      <td>13.0</td>\n",
       "      <td>9.0</td>\n",
       "      <td>0.0</td>\n",
       "      <td>0.0</td>\n",
       "      <td>3</td>\n",
       "    </tr>\n",
       "    <tr>\n",
       "      <th>4</th>\n",
       "      <td>0.0</td>\n",
       "      <td>0.0</td>\n",
       "      <td>0.0</td>\n",
       "      <td>1.0</td>\n",
       "      <td>11.0</td>\n",
       "      <td>0.0</td>\n",
       "      <td>0.0</td>\n",
       "      <td>0.0</td>\n",
       "      <td>0.0</td>\n",
       "      <td>0.0</td>\n",
       "      <td>...</td>\n",
       "      <td>0.0</td>\n",
       "      <td>0.0</td>\n",
       "      <td>0.0</td>\n",
       "      <td>0.0</td>\n",
       "      <td>2.0</td>\n",
       "      <td>16.0</td>\n",
       "      <td>4.0</td>\n",
       "      <td>0.0</td>\n",
       "      <td>0.0</td>\n",
       "      <td>4</td>\n",
       "    </tr>\n",
       "    <tr>\n",
       "      <th>...</th>\n",
       "      <td>...</td>\n",
       "      <td>...</td>\n",
       "      <td>...</td>\n",
       "      <td>...</td>\n",
       "      <td>...</td>\n",
       "      <td>...</td>\n",
       "      <td>...</td>\n",
       "      <td>...</td>\n",
       "      <td>...</td>\n",
       "      <td>...</td>\n",
       "      <td>...</td>\n",
       "      <td>...</td>\n",
       "      <td>...</td>\n",
       "      <td>...</td>\n",
       "      <td>...</td>\n",
       "      <td>...</td>\n",
       "      <td>...</td>\n",
       "      <td>...</td>\n",
       "      <td>...</td>\n",
       "      <td>...</td>\n",
       "      <td>...</td>\n",
       "    </tr>\n",
       "    <tr>\n",
       "      <th>1792</th>\n",
       "      <td>0.0</td>\n",
       "      <td>0.0</td>\n",
       "      <td>4.0</td>\n",
       "      <td>10.0</td>\n",
       "      <td>13.0</td>\n",
       "      <td>6.0</td>\n",
       "      <td>0.0</td>\n",
       "      <td>0.0</td>\n",
       "      <td>0.0</td>\n",
       "      <td>1.0</td>\n",
       "      <td>...</td>\n",
       "      <td>0.0</td>\n",
       "      <td>0.0</td>\n",
       "      <td>0.0</td>\n",
       "      <td>2.0</td>\n",
       "      <td>14.0</td>\n",
       "      <td>15.0</td>\n",
       "      <td>9.0</td>\n",
       "      <td>0.0</td>\n",
       "      <td>0.0</td>\n",
       "      <td>9</td>\n",
       "    </tr>\n",
       "    <tr>\n",
       "      <th>1793</th>\n",
       "      <td>0.0</td>\n",
       "      <td>0.0</td>\n",
       "      <td>6.0</td>\n",
       "      <td>16.0</td>\n",
       "      <td>13.0</td>\n",
       "      <td>11.0</td>\n",
       "      <td>1.0</td>\n",
       "      <td>0.0</td>\n",
       "      <td>0.0</td>\n",
       "      <td>0.0</td>\n",
       "      <td>...</td>\n",
       "      <td>0.0</td>\n",
       "      <td>0.0</td>\n",
       "      <td>0.0</td>\n",
       "      <td>6.0</td>\n",
       "      <td>16.0</td>\n",
       "      <td>14.0</td>\n",
       "      <td>6.0</td>\n",
       "      <td>0.0</td>\n",
       "      <td>0.0</td>\n",
       "      <td>0</td>\n",
       "    </tr>\n",
       "    <tr>\n",
       "      <th>1794</th>\n",
       "      <td>0.0</td>\n",
       "      <td>0.0</td>\n",
       "      <td>1.0</td>\n",
       "      <td>11.0</td>\n",
       "      <td>15.0</td>\n",
       "      <td>1.0</td>\n",
       "      <td>0.0</td>\n",
       "      <td>0.0</td>\n",
       "      <td>0.0</td>\n",
       "      <td>0.0</td>\n",
       "      <td>...</td>\n",
       "      <td>0.0</td>\n",
       "      <td>0.0</td>\n",
       "      <td>0.0</td>\n",
       "      <td>2.0</td>\n",
       "      <td>9.0</td>\n",
       "      <td>13.0</td>\n",
       "      <td>6.0</td>\n",
       "      <td>0.0</td>\n",
       "      <td>0.0</td>\n",
       "      <td>8</td>\n",
       "    </tr>\n",
       "    <tr>\n",
       "      <th>1795</th>\n",
       "      <td>0.0</td>\n",
       "      <td>0.0</td>\n",
       "      <td>2.0</td>\n",
       "      <td>10.0</td>\n",
       "      <td>7.0</td>\n",
       "      <td>0.0</td>\n",
       "      <td>0.0</td>\n",
       "      <td>0.0</td>\n",
       "      <td>0.0</td>\n",
       "      <td>0.0</td>\n",
       "      <td>...</td>\n",
       "      <td>0.0</td>\n",
       "      <td>0.0</td>\n",
       "      <td>0.0</td>\n",
       "      <td>5.0</td>\n",
       "      <td>12.0</td>\n",
       "      <td>16.0</td>\n",
       "      <td>12.0</td>\n",
       "      <td>0.0</td>\n",
       "      <td>0.0</td>\n",
       "      <td>9</td>\n",
       "    </tr>\n",
       "    <tr>\n",
       "      <th>1796</th>\n",
       "      <td>0.0</td>\n",
       "      <td>0.0</td>\n",
       "      <td>10.0</td>\n",
       "      <td>14.0</td>\n",
       "      <td>8.0</td>\n",
       "      <td>1.0</td>\n",
       "      <td>0.0</td>\n",
       "      <td>0.0</td>\n",
       "      <td>0.0</td>\n",
       "      <td>2.0</td>\n",
       "      <td>...</td>\n",
       "      <td>0.0</td>\n",
       "      <td>0.0</td>\n",
       "      <td>1.0</td>\n",
       "      <td>8.0</td>\n",
       "      <td>12.0</td>\n",
       "      <td>14.0</td>\n",
       "      <td>12.0</td>\n",
       "      <td>1.0</td>\n",
       "      <td>0.0</td>\n",
       "      <td>8</td>\n",
       "    </tr>\n",
       "  </tbody>\n",
       "</table>\n",
       "<p>1797 rows × 65 columns</p>\n",
       "</div>"
      ],
      "text/plain": [
       "      pixel_0_0  pixel_0_1  pixel_0_2  pixel_0_3  pixel_0_4  pixel_0_5  \\\n",
       "0           0.0        0.0        5.0       13.0        9.0        1.0   \n",
       "1           0.0        0.0        0.0       12.0       13.0        5.0   \n",
       "2           0.0        0.0        0.0        4.0       15.0       12.0   \n",
       "3           0.0        0.0        7.0       15.0       13.0        1.0   \n",
       "4           0.0        0.0        0.0        1.0       11.0        0.0   \n",
       "...         ...        ...        ...        ...        ...        ...   \n",
       "1792        0.0        0.0        4.0       10.0       13.0        6.0   \n",
       "1793        0.0        0.0        6.0       16.0       13.0       11.0   \n",
       "1794        0.0        0.0        1.0       11.0       15.0        1.0   \n",
       "1795        0.0        0.0        2.0       10.0        7.0        0.0   \n",
       "1796        0.0        0.0       10.0       14.0        8.0        1.0   \n",
       "\n",
       "      pixel_0_6  pixel_0_7  pixel_1_0  pixel_1_1  ...  pixel_6_7  pixel_7_0  \\\n",
       "0           0.0        0.0        0.0        0.0  ...        0.0        0.0   \n",
       "1           0.0        0.0        0.0        0.0  ...        0.0        0.0   \n",
       "2           0.0        0.0        0.0        0.0  ...        0.0        0.0   \n",
       "3           0.0        0.0        0.0        8.0  ...        0.0        0.0   \n",
       "4           0.0        0.0        0.0        0.0  ...        0.0        0.0   \n",
       "...         ...        ...        ...        ...  ...        ...        ...   \n",
       "1792        0.0        0.0        0.0        1.0  ...        0.0        0.0   \n",
       "1793        1.0        0.0        0.0        0.0  ...        0.0        0.0   \n",
       "1794        0.0        0.0        0.0        0.0  ...        0.0        0.0   \n",
       "1795        0.0        0.0        0.0        0.0  ...        0.0        0.0   \n",
       "1796        0.0        0.0        0.0        2.0  ...        0.0        0.0   \n",
       "\n",
       "      pixel_7_1  pixel_7_2  pixel_7_3  pixel_7_4  pixel_7_5  pixel_7_6  \\\n",
       "0           0.0        6.0       13.0       10.0        0.0        0.0   \n",
       "1           0.0        0.0       11.0       16.0       10.0        0.0   \n",
       "2           0.0        0.0        3.0       11.0       16.0        9.0   \n",
       "3           0.0        7.0       13.0       13.0        9.0        0.0   \n",
       "4           0.0        0.0        2.0       16.0        4.0        0.0   \n",
       "...         ...        ...        ...        ...        ...        ...   \n",
       "1792        0.0        2.0       14.0       15.0        9.0        0.0   \n",
       "1793        0.0        6.0       16.0       14.0        6.0        0.0   \n",
       "1794        0.0        2.0        9.0       13.0        6.0        0.0   \n",
       "1795        0.0        5.0       12.0       16.0       12.0        0.0   \n",
       "1796        1.0        8.0       12.0       14.0       12.0        1.0   \n",
       "\n",
       "      pixel_7_7  class  \n",
       "0           0.0      0  \n",
       "1           0.0      1  \n",
       "2           0.0      2  \n",
       "3           0.0      3  \n",
       "4           0.0      4  \n",
       "...         ...    ...  \n",
       "1792        0.0      9  \n",
       "1793        0.0      0  \n",
       "1794        0.0      8  \n",
       "1795        0.0      9  \n",
       "1796        0.0      8  \n",
       "\n",
       "[1797 rows x 65 columns]"
      ]
     },
     "execution_count": 192,
     "metadata": {},
     "output_type": "execute_result"
    }
   ],
   "source": [
    "df_digits_corr['class'] = y \n",
    "df_digits_corr"
   ]
  },
  {
   "cell_type": "code",
   "execution_count": 193,
   "metadata": {},
   "outputs": [
    {
     "data": {
      "text/html": [
       "<div>\n",
       "<style scoped>\n",
       "    .dataframe tbody tr th:only-of-type {\n",
       "        vertical-align: middle;\n",
       "    }\n",
       "\n",
       "    .dataframe tbody tr th {\n",
       "        vertical-align: top;\n",
       "    }\n",
       "\n",
       "    .dataframe thead th {\n",
       "        text-align: right;\n",
       "    }\n",
       "</style>\n",
       "<table border=\"1\" class=\"dataframe\">\n",
       "  <thead>\n",
       "    <tr style=\"text-align: right;\">\n",
       "      <th></th>\n",
       "      <th>pixel_0_0</th>\n",
       "      <th>pixel_0_1</th>\n",
       "      <th>pixel_0_2</th>\n",
       "      <th>pixel_0_3</th>\n",
       "      <th>pixel_0_4</th>\n",
       "      <th>pixel_0_5</th>\n",
       "      <th>pixel_0_6</th>\n",
       "      <th>pixel_0_7</th>\n",
       "      <th>pixel_1_0</th>\n",
       "      <th>pixel_1_1</th>\n",
       "      <th>...</th>\n",
       "      <th>pixel_6_7</th>\n",
       "      <th>pixel_7_0</th>\n",
       "      <th>pixel_7_1</th>\n",
       "      <th>pixel_7_2</th>\n",
       "      <th>pixel_7_3</th>\n",
       "      <th>pixel_7_4</th>\n",
       "      <th>pixel_7_5</th>\n",
       "      <th>pixel_7_6</th>\n",
       "      <th>pixel_7_7</th>\n",
       "      <th>class</th>\n",
       "    </tr>\n",
       "  </thead>\n",
       "  <tbody>\n",
       "    <tr>\n",
       "      <th>pixel_0_0</th>\n",
       "      <td>NaN</td>\n",
       "      <td>NaN</td>\n",
       "      <td>NaN</td>\n",
       "      <td>NaN</td>\n",
       "      <td>NaN</td>\n",
       "      <td>NaN</td>\n",
       "      <td>NaN</td>\n",
       "      <td>NaN</td>\n",
       "      <td>NaN</td>\n",
       "      <td>NaN</td>\n",
       "      <td>...</td>\n",
       "      <td>NaN</td>\n",
       "      <td>NaN</td>\n",
       "      <td>NaN</td>\n",
       "      <td>NaN</td>\n",
       "      <td>NaN</td>\n",
       "      <td>NaN</td>\n",
       "      <td>NaN</td>\n",
       "      <td>NaN</td>\n",
       "      <td>NaN</td>\n",
       "      <td>NaN</td>\n",
       "    </tr>\n",
       "    <tr>\n",
       "      <th>pixel_0_1</th>\n",
       "      <td>NaN</td>\n",
       "      <td>1.000000</td>\n",
       "      <td>0.556618</td>\n",
       "      <td>0.207814</td>\n",
       "      <td>-0.018761</td>\n",
       "      <td>0.060776</td>\n",
       "      <td>0.048388</td>\n",
       "      <td>-0.038927</td>\n",
       "      <td>0.032320</td>\n",
       "      <td>0.556372</td>\n",
       "      <td>...</td>\n",
       "      <td>-0.045342</td>\n",
       "      <td>-0.007905</td>\n",
       "      <td>0.855610</td>\n",
       "      <td>0.555727</td>\n",
       "      <td>0.147646</td>\n",
       "      <td>-0.102349</td>\n",
       "      <td>-0.029870</td>\n",
       "      <td>0.026547</td>\n",
       "      <td>-0.043889</td>\n",
       "      <td>-0.051834</td>\n",
       "    </tr>\n",
       "    <tr>\n",
       "      <th>pixel_0_2</th>\n",
       "      <td>NaN</td>\n",
       "      <td>0.556618</td>\n",
       "      <td>1.000000</td>\n",
       "      <td>0.560180</td>\n",
       "      <td>-0.084235</td>\n",
       "      <td>0.043569</td>\n",
       "      <td>0.002841</td>\n",
       "      <td>-0.062278</td>\n",
       "      <td>0.022311</td>\n",
       "      <td>0.582259</td>\n",
       "      <td>...</td>\n",
       "      <td>-0.003804</td>\n",
       "      <td>-0.025837</td>\n",
       "      <td>0.515276</td>\n",
       "      <td>0.937623</td>\n",
       "      <td>0.499840</td>\n",
       "      <td>-0.134754</td>\n",
       "      <td>-0.041183</td>\n",
       "      <td>0.072599</td>\n",
       "      <td>0.082523</td>\n",
       "      <td>-0.011836</td>\n",
       "    </tr>\n",
       "    <tr>\n",
       "      <th>pixel_0_3</th>\n",
       "      <td>NaN</td>\n",
       "      <td>0.207814</td>\n",
       "      <td>0.560180</td>\n",
       "      <td>1.000000</td>\n",
       "      <td>0.023938</td>\n",
       "      <td>-0.171377</td>\n",
       "      <td>-0.115732</td>\n",
       "      <td>-0.040139</td>\n",
       "      <td>0.035663</td>\n",
       "      <td>0.328344</td>\n",
       "      <td>...</td>\n",
       "      <td>0.075335</td>\n",
       "      <td>-0.049085</td>\n",
       "      <td>0.175804</td>\n",
       "      <td>0.560326</td>\n",
       "      <td>0.767945</td>\n",
       "      <td>-0.065957</td>\n",
       "      <td>-0.054936</td>\n",
       "      <td>0.053437</td>\n",
       "      <td>0.081971</td>\n",
       "      <td>-0.011489</td>\n",
       "    </tr>\n",
       "    <tr>\n",
       "      <th>pixel_0_4</th>\n",
       "      <td>NaN</td>\n",
       "      <td>-0.018761</td>\n",
       "      <td>-0.084235</td>\n",
       "      <td>0.023938</td>\n",
       "      <td>1.000000</td>\n",
       "      <td>0.507731</td>\n",
       "      <td>0.127764</td>\n",
       "      <td>0.010065</td>\n",
       "      <td>0.042065</td>\n",
       "      <td>0.051657</td>\n",
       "      <td>...</td>\n",
       "      <td>-0.212220</td>\n",
       "      <td>0.017352</td>\n",
       "      <td>-0.047223</td>\n",
       "      <td>-0.020176</td>\n",
       "      <td>-0.008867</td>\n",
       "      <td>-0.082125</td>\n",
       "      <td>-0.215809</td>\n",
       "      <td>-0.250699</td>\n",
       "      <td>-0.215349</td>\n",
       "      <td>0.100801</td>\n",
       "    </tr>\n",
       "    <tr>\n",
       "      <th>...</th>\n",
       "      <td>...</td>\n",
       "      <td>...</td>\n",
       "      <td>...</td>\n",
       "      <td>...</td>\n",
       "      <td>...</td>\n",
       "      <td>...</td>\n",
       "      <td>...</td>\n",
       "      <td>...</td>\n",
       "      <td>...</td>\n",
       "      <td>...</td>\n",
       "      <td>...</td>\n",
       "      <td>...</td>\n",
       "      <td>...</td>\n",
       "      <td>...</td>\n",
       "      <td>...</td>\n",
       "      <td>...</td>\n",
       "      <td>...</td>\n",
       "      <td>...</td>\n",
       "      <td>...</td>\n",
       "      <td>...</td>\n",
       "      <td>...</td>\n",
       "    </tr>\n",
       "    <tr>\n",
       "      <th>pixel_7_4</th>\n",
       "      <td>NaN</td>\n",
       "      <td>-0.102349</td>\n",
       "      <td>-0.134754</td>\n",
       "      <td>-0.065957</td>\n",
       "      <td>-0.082125</td>\n",
       "      <td>-0.351146</td>\n",
       "      <td>-0.383522</td>\n",
       "      <td>-0.178243</td>\n",
       "      <td>0.048996</td>\n",
       "      <td>-0.000604</td>\n",
       "      <td>...</td>\n",
       "      <td>0.105101</td>\n",
       "      <td>0.005697</td>\n",
       "      <td>-0.117908</td>\n",
       "      <td>-0.207957</td>\n",
       "      <td>0.058390</td>\n",
       "      <td>1.000000</td>\n",
       "      <td>0.609515</td>\n",
       "      <td>0.243305</td>\n",
       "      <td>0.103015</td>\n",
       "      <td>-0.196083</td>\n",
       "    </tr>\n",
       "    <tr>\n",
       "      <th>pixel_7_5</th>\n",
       "      <td>NaN</td>\n",
       "      <td>-0.029870</td>\n",
       "      <td>-0.041183</td>\n",
       "      <td>-0.054936</td>\n",
       "      <td>-0.215809</td>\n",
       "      <td>-0.268818</td>\n",
       "      <td>-0.304111</td>\n",
       "      <td>-0.141174</td>\n",
       "      <td>0.033409</td>\n",
       "      <td>0.071488</td>\n",
       "      <td>...</td>\n",
       "      <td>0.262795</td>\n",
       "      <td>-0.003056</td>\n",
       "      <td>-0.043889</td>\n",
       "      <td>-0.091839</td>\n",
       "      <td>-0.094956</td>\n",
       "      <td>0.609515</td>\n",
       "      <td>1.000000</td>\n",
       "      <td>0.648328</td>\n",
       "      <td>0.261991</td>\n",
       "      <td>-0.079100</td>\n",
       "    </tr>\n",
       "    <tr>\n",
       "      <th>pixel_7_6</th>\n",
       "      <td>NaN</td>\n",
       "      <td>0.026547</td>\n",
       "      <td>0.072599</td>\n",
       "      <td>0.053437</td>\n",
       "      <td>-0.250699</td>\n",
       "      <td>-0.267659</td>\n",
       "      <td>-0.178945</td>\n",
       "      <td>-0.063220</td>\n",
       "      <td>0.020689</td>\n",
       "      <td>0.111569</td>\n",
       "      <td>...</td>\n",
       "      <td>0.511726</td>\n",
       "      <td>-0.011932</td>\n",
       "      <td>0.014557</td>\n",
       "      <td>0.035369</td>\n",
       "      <td>0.006849</td>\n",
       "      <td>0.243305</td>\n",
       "      <td>0.648328</td>\n",
       "      <td>1.000000</td>\n",
       "      <td>0.620428</td>\n",
       "      <td>-0.114007</td>\n",
       "    </tr>\n",
       "    <tr>\n",
       "      <th>pixel_7_7</th>\n",
       "      <td>NaN</td>\n",
       "      <td>-0.043889</td>\n",
       "      <td>0.082523</td>\n",
       "      <td>0.081971</td>\n",
       "      <td>-0.215349</td>\n",
       "      <td>-0.167727</td>\n",
       "      <td>-0.080309</td>\n",
       "      <td>-0.024505</td>\n",
       "      <td>-0.005226</td>\n",
       "      <td>-0.001404</td>\n",
       "      <td>...</td>\n",
       "      <td>0.563989</td>\n",
       "      <td>-0.004625</td>\n",
       "      <td>-0.047089</td>\n",
       "      <td>0.031193</td>\n",
       "      <td>0.099671</td>\n",
       "      <td>0.103015</td>\n",
       "      <td>0.261991</td>\n",
       "      <td>0.620428</td>\n",
       "      <td>1.000000</td>\n",
       "      <td>-0.181929</td>\n",
       "    </tr>\n",
       "    <tr>\n",
       "      <th>class</th>\n",
       "      <td>NaN</td>\n",
       "      <td>-0.051834</td>\n",
       "      <td>-0.011836</td>\n",
       "      <td>-0.011489</td>\n",
       "      <td>0.100801</td>\n",
       "      <td>0.193362</td>\n",
       "      <td>0.197343</td>\n",
       "      <td>0.101085</td>\n",
       "      <td>0.020813</td>\n",
       "      <td>-0.012439</td>\n",
       "      <td>...</td>\n",
       "      <td>-0.099312</td>\n",
       "      <td>-0.020518</td>\n",
       "      <td>-0.053950</td>\n",
       "      <td>0.006367</td>\n",
       "      <td>-0.019790</td>\n",
       "      <td>-0.196083</td>\n",
       "      <td>-0.079100</td>\n",
       "      <td>-0.114007</td>\n",
       "      <td>-0.181929</td>\n",
       "      <td>1.000000</td>\n",
       "    </tr>\n",
       "  </tbody>\n",
       "</table>\n",
       "<p>65 rows × 65 columns</p>\n",
       "</div>"
      ],
      "text/plain": [
       "           pixel_0_0  pixel_0_1  pixel_0_2  pixel_0_3  pixel_0_4  pixel_0_5  \\\n",
       "pixel_0_0        NaN        NaN        NaN        NaN        NaN        NaN   \n",
       "pixel_0_1        NaN   1.000000   0.556618   0.207814  -0.018761   0.060776   \n",
       "pixel_0_2        NaN   0.556618   1.000000   0.560180  -0.084235   0.043569   \n",
       "pixel_0_3        NaN   0.207814   0.560180   1.000000   0.023938  -0.171377   \n",
       "pixel_0_4        NaN  -0.018761  -0.084235   0.023938   1.000000   0.507731   \n",
       "...              ...        ...        ...        ...        ...        ...   \n",
       "pixel_7_4        NaN  -0.102349  -0.134754  -0.065957  -0.082125  -0.351146   \n",
       "pixel_7_5        NaN  -0.029870  -0.041183  -0.054936  -0.215809  -0.268818   \n",
       "pixel_7_6        NaN   0.026547   0.072599   0.053437  -0.250699  -0.267659   \n",
       "pixel_7_7        NaN  -0.043889   0.082523   0.081971  -0.215349  -0.167727   \n",
       "class            NaN  -0.051834  -0.011836  -0.011489   0.100801   0.193362   \n",
       "\n",
       "           pixel_0_6  pixel_0_7  pixel_1_0  pixel_1_1  ...  pixel_6_7  \\\n",
       "pixel_0_0        NaN        NaN        NaN        NaN  ...        NaN   \n",
       "pixel_0_1   0.048388  -0.038927   0.032320   0.556372  ...  -0.045342   \n",
       "pixel_0_2   0.002841  -0.062278   0.022311   0.582259  ...  -0.003804   \n",
       "pixel_0_3  -0.115732  -0.040139   0.035663   0.328344  ...   0.075335   \n",
       "pixel_0_4   0.127764   0.010065   0.042065   0.051657  ...  -0.212220   \n",
       "...              ...        ...        ...        ...  ...        ...   \n",
       "pixel_7_4  -0.383522  -0.178243   0.048996  -0.000604  ...   0.105101   \n",
       "pixel_7_5  -0.304111  -0.141174   0.033409   0.071488  ...   0.262795   \n",
       "pixel_7_6  -0.178945  -0.063220   0.020689   0.111569  ...   0.511726   \n",
       "pixel_7_7  -0.080309  -0.024505  -0.005226  -0.001404  ...   0.563989   \n",
       "class       0.197343   0.101085   0.020813  -0.012439  ...  -0.099312   \n",
       "\n",
       "           pixel_7_0  pixel_7_1  pixel_7_2  pixel_7_3  pixel_7_4  pixel_7_5  \\\n",
       "pixel_0_0        NaN        NaN        NaN        NaN        NaN        NaN   \n",
       "pixel_0_1  -0.007905   0.855610   0.555727   0.147646  -0.102349  -0.029870   \n",
       "pixel_0_2  -0.025837   0.515276   0.937623   0.499840  -0.134754  -0.041183   \n",
       "pixel_0_3  -0.049085   0.175804   0.560326   0.767945  -0.065957  -0.054936   \n",
       "pixel_0_4   0.017352  -0.047223  -0.020176  -0.008867  -0.082125  -0.215809   \n",
       "...              ...        ...        ...        ...        ...        ...   \n",
       "pixel_7_4   0.005697  -0.117908  -0.207957   0.058390   1.000000   0.609515   \n",
       "pixel_7_5  -0.003056  -0.043889  -0.091839  -0.094956   0.609515   1.000000   \n",
       "pixel_7_6  -0.011932   0.014557   0.035369   0.006849   0.243305   0.648328   \n",
       "pixel_7_7  -0.004625  -0.047089   0.031193   0.099671   0.103015   0.261991   \n",
       "class      -0.020518  -0.053950   0.006367  -0.019790  -0.196083  -0.079100   \n",
       "\n",
       "           pixel_7_6  pixel_7_7     class  \n",
       "pixel_0_0        NaN        NaN       NaN  \n",
       "pixel_0_1   0.026547  -0.043889 -0.051834  \n",
       "pixel_0_2   0.072599   0.082523 -0.011836  \n",
       "pixel_0_3   0.053437   0.081971 -0.011489  \n",
       "pixel_0_4  -0.250699  -0.215349  0.100801  \n",
       "...              ...        ...       ...  \n",
       "pixel_7_4   0.243305   0.103015 -0.196083  \n",
       "pixel_7_5   0.648328   0.261991 -0.079100  \n",
       "pixel_7_6   1.000000   0.620428 -0.114007  \n",
       "pixel_7_7   0.620428   1.000000 -0.181929  \n",
       "class      -0.114007  -0.181929  1.000000  \n",
       "\n",
       "[65 rows x 65 columns]"
      ]
     },
     "execution_count": 193,
     "metadata": {},
     "output_type": "execute_result"
    }
   ],
   "source": [
    "# Now lets get the correlation by looking at the class column\n",
    "df_digits_corr.corr()"
   ]
  },
  {
   "cell_type": "markdown",
   "metadata": {},
   "source": [
    "We can see how negative values affects in a negative way the type of the class, a positive value affects in a positive way in the class and a 0 value does not affects in the class\n"
   ]
  },
  {
   "cell_type": "markdown",
   "metadata": {},
   "source": [
    "#### 3) Repeat each of the experiments seen in class with the K-Nearest Neighbors model, providing arguments for each of the steps taken along the process, and commenting on the partial results obtained with the selected dataset. Please use as many performance metrics as needed to illustrate the particularities of the selected dataset (e.g. imbalanced classes)."
   ]
  },
  {
   "cell_type": "markdown",
   "metadata": {},
   "source": [
    "# K-Nearest using K-Fold (Not stratified)\n",
    "\n",
    "Now let's use K-Neighbors model to classify and predict each sample of our dataset. First of all, is required the dataset split into train and test data. To do that, it is posisble to use the train_test_split model or the StratifiedShuffleSplit one. The StratifiedShuffleSplit model is used when the distribution of examples across the classes is not equal (imbalanced classes). In other words, an imbalance occurs when one or more classes have very low proportions in the training data as compared to the other classes. We are going to use both of them to see wich one is better.\n",
    "\n",
    "We are also goint to see the cross validation method seen in class."
   ]
  },
  {
   "cell_type": "code",
   "execution_count": 194,
   "metadata": {},
   "outputs": [],
   "source": [
    "KF = KFold(n_splits = 5)\n",
    "n_vecinos = 5"
   ]
  },
  {
   "cell_type": "code",
   "execution_count": 195,
   "metadata": {},
   "outputs": [],
   "source": [
    "# declaring accuracies variable to store the acuracy of each strat\n",
    "accuracies = []\n",
    "\n",
    "for train_index, test_index in KF.split(X, y):\n",
    "    X_train, X_test = X[train_index], X[test_index]\n",
    "    y_train, y_test = y[train_index], y[test_index]\n",
    "    \n",
    "    clf = KNeighborsClassifier(n_neighbors=n_vecinos)\n",
    "\n",
    "    #entreno el algoritmo con las particiones de train\n",
    "    clf.fit(X_train,y_train)\n",
    "\n",
    "    # Prediceme ahora la parte de test\n",
    "    y_pred = clf.predict(X_test)\n",
    "    \n",
    "    accuracies.append(100.*sum(y_pred==y_test)/len(y_test))"
   ]
  },
  {
   "cell_type": "code",
   "execution_count": 196,
   "metadata": {},
   "outputs": [
    {
     "name": "stdout",
     "output_type": "stream",
     "text": [
      "ejemplos para cada clase:  Counter({1: 146, 3: 146, 5: 145, 4: 144, 6: 144, 0: 143, 2: 143, 7: 143, 9: 143, 8: 141})\n",
      "Acierto:  [95.0, 96.38888888888889, 96.37883008356546, 98.05013927576601, 96.37883008356546] %\n",
      "Acierto:  96.43933766635716 %\n"
     ]
    }
   ],
   "source": [
    "#print balanced class\n",
    "print(\"ejemplos para cada clase: \", collections.Counter(y_train))\n",
    "    \n",
    "#print numero de aciertos\n",
    "print(\"Acierto: \",str(accuracies),\"%\")\n",
    "#print media de aciertos\n",
    "print(\"Acierto: \",str(np.mean(accuracies)),\"%\")"
   ]
  },
  {
   "cell_type": "code",
   "execution_count": 197,
   "metadata": {},
   "outputs": [
    {
     "data": {
      "text/plain": [
       "<sklearn.metrics._plot.confusion_matrix.ConfusionMatrixDisplay at 0x2c04d792df0>"
      ]
     },
     "execution_count": 197,
     "metadata": {},
     "output_type": "execute_result"
    },
    {
     "data": {
      "image/png": "[encoded data removed]",
      "text/plain": [
       "<Figure size 432x288 with 2 Axes>"
      ]
     },
     "metadata": {
      "needs_background": "light"
     },
     "output_type": "display_data"
    }
   ],
   "source": [
    "from sklearn.metrics import plot_confusion_matrix\n",
    "\n",
    "plot_confusion_matrix(clf,X_test,y_test)"
   ]
  },
  {
   "cell_type": "markdown",
   "metadata": {},
   "source": [
    "Just by doing a K-flod validation followed by a KNN model we can see that the acuraccy is very good. Lest see if we can make it better with stratified k-fold validation."
   ]
  },
  {
   "cell_type": "markdown",
   "metadata": {},
   "source": [
    "# K-Nearest using Strattified Shuffle Split (Stratified K-Fold)"
   ]
  },
  {
   "cell_type": "markdown",
   "metadata": {},
   "source": [
    "#### n_splits = 10 n_vecinos = 5"
   ]
  },
  {
   "cell_type": "code",
   "execution_count": 198,
   "metadata": {},
   "outputs": [],
   "source": [
    "# First we create the splits we want for the training of the dataset and the number of neighbors for the KNN model \n",
    "sss = StratifiedShuffleSplit(n_splits=10,test_size=0.1,random_state=0)\n",
    "n_vecinos = 5"
   ]
  },
  {
   "cell_type": "code",
   "execution_count": 199,
   "metadata": {},
   "outputs": [],
   "source": [
    "# declaring accuracies variable to store the acuracy of each strat\n",
    "accuracies = []\n",
    "\n",
    "for train_index, test_index in sss.split(X, y):\n",
    "    X_train, X_test = X[train_index], X[test_index]\n",
    "    y_train, y_test = y[train_index], y[test_index]\n",
    "    \n",
    "    clf = KNeighborsClassifier(n_neighbors=n_vecinos)\n",
    "\n",
    "    #entreno el algoritmo con las particiones de train\n",
    "    clf.fit(X_train,y_train)\n",
    "\n",
    "    # Prediceme ahora la parte de test\n",
    "    y_pred = clf.predict(X_test)\n",
    "    \n",
    "    accuracies.append(100.*sum(y_pred==y_test)/len(y_test))"
   ]
  },
  {
   "cell_type": "code",
   "execution_count": 200,
   "metadata": {},
   "outputs": [
    {
     "name": "stdout",
     "output_type": "stream",
     "text": [
      "ejemplos para cada clase:  Counter({3: 165, 5: 164, 1: 164, 6: 163, 4: 163, 9: 162, 7: 161, 0: 160, 2: 159, 8: 156})\n",
      "Acierto:  [98.88888888888889, 97.77777777777777, 98.33333333333333, 98.33333333333333, 98.88888888888889, 97.77777777777777, 98.88888888888889, 99.44444444444444, 99.44444444444444, 100.0] %\n",
      "Acierto:  98.77777777777777 %\n"
     ]
    }
   ],
   "source": [
    "#print balanced class\n",
    "print(\"ejemplos para cada clase: \", collections.Counter(y_train))\n",
    "    \n",
    "#print numero de aciertos\n",
    "print(\"Acierto: \",str(accuracies),\"%\")\n",
    "#print media de aciertos\n",
    "print(\"Acierto: \",str(np.mean(accuracies)),\"%\")"
   ]
  },
  {
   "cell_type": "code",
   "execution_count": 201,
   "metadata": {},
   "outputs": [
    {
     "data": {
      "text/plain": [
       "<sklearn.metrics._plot.confusion_matrix.ConfusionMatrixDisplay at 0x2c04e95e970>"
      ]
     },
     "execution_count": 201,
     "metadata": {},
     "output_type": "execute_result"
    },
    {
     "data": {
      "image/png": "[encoded data removed]",
      "text/plain": [
       "<Figure size 432x288 with 2 Axes>"
      ]
     },
     "metadata": {
      "needs_background": "light"
     },
     "output_type": "display_data"
    }
   ],
   "source": [
    "from sklearn.metrics import plot_confusion_matrix\n",
    "\n",
    "plot_confusion_matrix(clf,X_test,y_test)"
   ]
  },
  {
   "cell_type": "markdown",
   "metadata": {},
   "source": [
    "##### n_splits = 10 n_vecinos = 3 "
   ]
  },
  {
   "cell_type": "code",
   "execution_count": 202,
   "metadata": {},
   "outputs": [],
   "source": [
    "sss = StratifiedShuffleSplit(n_splits=10,test_size=0.1,random_state=0)\n",
    "n_vecinos = 3"
   ]
  },
  {
   "cell_type": "code",
   "execution_count": 203,
   "metadata": {},
   "outputs": [],
   "source": [
    "# declaring accuracies variable to store the acuracy of each strat\n",
    "accuracies = []\n",
    "\n",
    "for train_index, test_index in sss.split(X, y):\n",
    "    X_train, X_test = X[train_index], X[test_index]\n",
    "    y_train, y_test = y[train_index], y[test_index]\n",
    "    \n",
    "    clf = KNeighborsClassifier(n_neighbors=n_vecinos)\n",
    "\n",
    "    #entreno el algoritmo con las particiones de train\n",
    "    clf.fit(X_train,y_train)\n",
    "\n",
    "    # Prediceme ahora la parte de test\n",
    "    y_pred = clf.predict(X_test)\n",
    "    \n",
    "    accuracies.append(100.*sum(y_pred==y_test)/len(y_test))"
   ]
  },
  {
   "cell_type": "code",
   "execution_count": 204,
   "metadata": {},
   "outputs": [
    {
     "name": "stdout",
     "output_type": "stream",
     "text": [
      "ejemplos para cada clase:  Counter({3: 165, 5: 164, 1: 164, 6: 163, 4: 163, 9: 162, 7: 161, 0: 160, 2: 159, 8: 156})\n",
      "Acierto:  [99.44444444444444, 97.77777777777777, 98.33333333333333, 98.33333333333333, 98.33333333333333, 98.33333333333333, 98.88888888888889, 98.88888888888889, 99.44444444444444, 99.44444444444444] %\n",
      "Acierto:  98.72222222222223 %\n"
     ]
    }
   ],
   "source": [
    "#print balanced class\n",
    "print(\"ejemplos para cada clase: \", collections.Counter(y_train))\n",
    "    \n",
    "#print numero de aciertos\n",
    "print(\"Acierto: \",str(accuracies),\"%\")\n",
    "#print media de aciertos\n",
    "print(\"Acierto: \",str(np.mean(accuracies)),\"%\")\n"
   ]
  },
  {
   "cell_type": "code",
   "execution_count": 205,
   "metadata": {},
   "outputs": [
    {
     "data": {
      "text/plain": [
       "<sklearn.metrics._plot.confusion_matrix.ConfusionMatrixDisplay at 0x2c04d79ca60>"
      ]
     },
     "execution_count": 205,
     "metadata": {},
     "output_type": "execute_result"
    },
    {
     "data": {
      "image/png": "[encoded data removed]",
      "text/plain": [
       "<Figure size 432x288 with 2 Axes>"
      ]
     },
     "metadata": {
      "needs_background": "light"
     },
     "output_type": "display_data"
    }
   ],
   "source": [
    "from sklearn.metrics import plot_confusion_matrix\n",
    "\n",
    "plot_confusion_matrix(clf,X_test,y_test)"
   ]
  },
  {
   "cell_type": "markdown",
   "metadata": {},
   "source": [
    "##### n_splits = 10 n_vecinos = 15"
   ]
  },
  {
   "cell_type": "code",
   "execution_count": 206,
   "metadata": {},
   "outputs": [],
   "source": [
    "sss = StratifiedShuffleSplit(n_splits=10,test_size=0.1,random_state=0)\n",
    "n_vecinos = 15"
   ]
  },
  {
   "cell_type": "code",
   "execution_count": 207,
   "metadata": {},
   "outputs": [],
   "source": [
    "# declaring accuracies variable to store the acuracy of each strat\n",
    "accuracies = []\n",
    "\n",
    "for train_index, test_index in sss.split(X, y):\n",
    "    X_train, X_test = X[train_index], X[test_index]\n",
    "    y_train, y_test = y[train_index], y[test_index]\n",
    "    \n",
    "    clf = KNeighborsClassifier(n_neighbors=n_vecinos)\n",
    "\n",
    "    #entreno el algoritmo con las particiones de train\n",
    "    clf.fit(X_train,y_train)\n",
    "\n",
    "    # Prediceme ahora la parte de test\n",
    "    y_pred = clf.predict(X_test)\n",
    "    \n",
    "    accuracies.append(100.*sum(y_pred==y_test)/len(y_test))"
   ]
  },
  {
   "cell_type": "code",
   "execution_count": 208,
   "metadata": {},
   "outputs": [
    {
     "name": "stdout",
     "output_type": "stream",
     "text": [
      "ejemplos para cada clase:  Counter({3: 165, 5: 164, 1: 164, 6: 163, 4: 163, 9: 162, 7: 161, 0: 160, 2: 159, 8: 156})\n",
      "Acierto:  [97.22222222222223, 97.77777777777777, 97.22222222222223, 98.33333333333333, 95.55555555555556, 97.22222222222223, 98.88888888888889, 99.44444444444444, 96.66666666666667, 98.33333333333333] %\n",
      "Acierto:  97.66666666666666 %\n"
     ]
    }
   ],
   "source": [
    "#print balanced class\n",
    "print(\"ejemplos para cada clase: \", collections.Counter(y_train))\n",
    "    \n",
    "#print numero de aciertos\n",
    "print(\"Acierto: \",str(accuracies),\"%\")\n",
    "#print media de aciertos\n",
    "print(\"Acierto: \",str(np.mean(accuracies)),\"%\")"
   ]
  },
  {
   "cell_type": "code",
   "execution_count": 209,
   "metadata": {},
   "outputs": [
    {
     "data": {
      "text/plain": [
       "<sklearn.metrics._plot.confusion_matrix.ConfusionMatrixDisplay at 0x2c04f8ba190>"
      ]
     },
     "execution_count": 209,
     "metadata": {},
     "output_type": "execute_result"
    },
    {
     "data": {
      "image/png": "[encoded data removed]",
      "text/plain": [
       "<Figure size 432x288 with 2 Axes>"
      ]
     },
     "metadata": {
      "needs_background": "light"
     },
     "output_type": "display_data"
    }
   ],
   "source": [
    "from sklearn.metrics import plot_confusion_matrix\n",
    "\n",
    "plot_confusion_matrix(clf,X_test,y_test)"
   ]
  },
  {
   "cell_type": "markdown",
   "metadata": {},
   "source": [
    "##### n_splits = 5 n_vecinos = 15"
   ]
  },
  {
   "cell_type": "code",
   "execution_count": 210,
   "metadata": {},
   "outputs": [],
   "source": [
    "sss = StratifiedShuffleSplit(n_splits=5,test_size=0.1,random_state=0)\n",
    "n_vecinos = 15"
   ]
  },
  {
   "cell_type": "code",
   "execution_count": 211,
   "metadata": {},
   "outputs": [],
   "source": [
    "# declaring accuracies variable to store the acuracy of each strat\n",
    "accuracies = []\n",
    "\n",
    "for train_index, test_index in sss.split(X, y):\n",
    "    X_train, X_test = X[train_index], X[test_index]\n",
    "    y_train, y_test = y[train_index], y[test_index]\n",
    "    \n",
    "    clf = KNeighborsClassifier(n_neighbors=n_vecinos)\n",
    "\n",
    "    #entreno el algoritmo con las particiones de train\n",
    "    clf.fit(X_train,y_train)\n",
    "\n",
    "    # Prediceme ahora la parte de test\n",
    "    y_pred = clf.predict(X_test)\n",
    "    \n",
    "    accuracies.append(100.*sum(y_pred==y_test)/len(y_test))"
   ]
  },
  {
   "cell_type": "code",
   "execution_count": 212,
   "metadata": {},
   "outputs": [
    {
     "name": "stdout",
     "output_type": "stream",
     "text": [
      "ejemplos para cada clase:  Counter({3: 165, 1: 164, 5: 164, 4: 163, 6: 163, 9: 162, 7: 161, 0: 160, 2: 159, 8: 156})\n",
      "Acierto:  [97.22222222222223, 97.77777777777777, 97.22222222222223, 98.33333333333333, 95.55555555555556] %\n",
      "Acierto:  97.22222222222221 %\n"
     ]
    }
   ],
   "source": [
    "#print balanced class\n",
    "print(\"ejemplos para cada clase: \", collections.Counter(y_train))\n",
    "    \n",
    "#print numero de aciertos\n",
    "print(\"Acierto: \",str(accuracies),\"%\")\n",
    "#print media de aciertos\n",
    "print(\"Acierto: \",str(np.mean(accuracies)),\"%\")"
   ]
  },
  {
   "cell_type": "code",
   "execution_count": 213,
   "metadata": {},
   "outputs": [
    {
     "data": {
      "text/plain": [
       "<sklearn.metrics._plot.confusion_matrix.ConfusionMatrixDisplay at 0x2c050e01580>"
      ]
     },
     "execution_count": 213,
     "metadata": {},
     "output_type": "execute_result"
    },
    {
     "data": {
      "image/png": "[encoded data removed]",
      "text/plain": [
       "<Figure size 432x288 with 2 Axes>"
      ]
     },
     "metadata": {
      "needs_background": "light"
     },
     "output_type": "display_data"
    }
   ],
   "source": [
    "from sklearn.metrics import plot_confusion_matrix\n",
    "\n",
    "plot_confusion_matrix(clf,X_test,y_test)"
   ]
  },
  {
   "cell_type": "markdown",
   "metadata": {},
   "source": [
    "##### n_splits = 3 n_vecinos = 3"
   ]
  },
  {
   "cell_type": "code",
   "execution_count": 214,
   "metadata": {},
   "outputs": [],
   "source": [
    "sss = StratifiedShuffleSplit(n_splits=3,test_size=0.1,random_state=0)\n",
    "n_vecinos = 3"
   ]
  },
  {
   "cell_type": "code",
   "execution_count": 215,
   "metadata": {},
   "outputs": [],
   "source": [
    "# declaring accuracies variable to store the acuracy of each strat\n",
    "accuracies = []\n",
    "\n",
    "for train_index, test_index in sss.split(X, y):\n",
    "    X_train, X_test = X[train_index], X[test_index]\n",
    "    y_train, y_test = y[train_index], y[test_index]\n",
    "    \n",
    "    clf = KNeighborsClassifier(n_neighbors=n_vecinos)\n",
    "\n",
    "    #entreno el algoritmo con las particiones de train\n",
    "    clf.fit(X_train,y_train)\n",
    "\n",
    "    # Prediceme ahora la parte de test\n",
    "    y_pred = clf.predict(X_test)\n",
    "    \n",
    "    accuracies.append(100.*sum(y_pred==y_test)/len(y_test))"
   ]
  },
  {
   "cell_type": "code",
   "execution_count": 216,
   "metadata": {},
   "outputs": [
    {
     "name": "stdout",
     "output_type": "stream",
     "text": [
      "ejemplos para cada clase:  Counter({3: 165, 1: 164, 5: 164, 4: 163, 6: 163, 9: 162, 7: 161, 0: 160, 2: 159, 8: 156})\n",
      "Acierto:  [99.44444444444444, 97.77777777777777, 98.33333333333333] %\n",
      "Acierto:  98.51851851851852 %\n"
     ]
    }
   ],
   "source": [
    "#print balanced class\n",
    "print(\"ejemplos para cada clase: \", collections.Counter(y_train))\n",
    "    \n",
    "#print numero de aciertos\n",
    "print(\"Acierto: \",str(accuracies),\"%\")\n",
    "#print media de aciertos\n",
    "print(\"Acierto: \",str(np.mean(accuracies)),\"%\")"
   ]
  },
  {
   "cell_type": "code",
   "execution_count": 217,
   "metadata": {},
   "outputs": [
    {
     "data": {
      "text/plain": [
       "<sklearn.metrics._plot.confusion_matrix.ConfusionMatrixDisplay at 0x2c050e01310>"
      ]
     },
     "execution_count": 217,
     "metadata": {},
     "output_type": "execute_result"
    },
    {
     "data": {
      "image/png": "[encoded data removed]",
      "text/plain": [
       "<Figure size 432x288 with 2 Axes>"
      ]
     },
     "metadata": {
      "needs_background": "light"
     },
     "output_type": "display_data"
    }
   ],
   "source": [
    "from sklearn.metrics import plot_confusion_matrix\n",
    "\n",
    "plot_confusion_matrix(clf,X_test,y_test)"
   ]
  },
  {
   "cell_type": "markdown",
   "metadata": {},
   "source": [
    "**Conclusion**\n",
    "\n",
    "As we can see we get a much better result than only using K-Fold validation, even tho our data is well balanced.\n",
    "\n",
    "K-Fold validation 96.43933 %\n",
    "\n",
    "Stratified K-Fold validation 98.777 %\n"
   ]
  },
  {
   "cell_type": "markdown",
   "metadata": {},
   "source": [
    "# K-Nearest using Cross Validation\n",
    "\n",
    "\n",
    "In this case we are going to use the cross validation"
   ]
  },
  {
   "cell_type": "code",
   "execution_count": 273,
   "metadata": {},
   "outputs": [],
   "source": [
    "# we create one strat for the cross validation because the data is unbalanced \n",
    "sss = StratifiedShuffleSplit(n_splits=1,test_size=0.1,random_state=0)"
   ]
  },
  {
   "cell_type": "code",
   "execution_count": 274,
   "metadata": {},
   "outputs": [],
   "source": [
    "# we set the train test split\n",
    "for train_index, test_index in sss.split(X, y):\n",
    "    X_train, X_test = X[train_index], X[test_index]\n",
    "    y_train, y_test = y[train_index], y[test_index]"
   ]
  },
  {
   "cell_type": "code",
   "execution_count": 275,
   "metadata": {},
   "outputs": [],
   "source": [
    "# we set some diferent neighbors values so that the gridsearch method can find the mos apropied\n",
    "params =  {'n_neighbors' : [3,5,9,11,13]}"
   ]
  },
  {
   "cell_type": "code",
   "execution_count": 276,
   "metadata": {},
   "outputs": [
    {
     "data": {
      "text/plain": [
       "GridSearchCV(cv=5, estimator=KNeighborsClassifier(),\n",
       "             param_grid={'n_neighbors': [3, 5, 9, 11, 13]}, scoring='accuracy')"
      ]
     },
     "execution_count": 276,
     "metadata": {},
     "output_type": "execute_result"
    }
   ],
   "source": [
    "from sklearn.model_selection import GridSearchCV\n",
    "clf = KNeighborsClassifier()\n",
    "gs = GridSearchCV(estimator=clf,param_grid=params,scoring='accuracy',cv=5)\n",
    "gs.fit(X_train,y_train)"
   ]
  },
  {
   "cell_type": "code",
   "execution_count": 277,
   "metadata": {},
   "outputs": [],
   "source": [
    "resultsCV = gs.cv_results_\n",
    "# we get the best convination of the grid search\n",
    "clfBest = gs.best_estimator_\n",
    "# we train the model with the best convination\n",
    "clfBest.fit(X_train,y_train)\n",
    "# we predict the value separated in the train test fase\n",
    "y_pred = clfBest.predict(X_test)"
   ]
  },
  {
   "cell_type": "code",
   "execution_count": 278,
   "metadata": {},
   "outputs": [
    {
     "data": {
      "text/plain": [
       "{'mean_fit_time': array([0.01441417, 0.01419129, 0.01458344, 0.0142086 , 0.01718478]),\n",
       " 'std_fit_time': array([0.00100363, 0.00040354, 0.00049726, 0.00038436, 0.00542789]),\n",
       " 'mean_score_time': array([0.04700098, 0.05000091, 0.04602075, 0.04580865, 0.05079298]),\n",
       " 'std_score_time': array([0.00283321, 0.00807557, 0.00063525, 0.00117335, 0.00531488]),\n",
       " 'param_n_neighbors': masked_array(data=[3, 5, 9, 11, 13],\n",
       "              mask=[False, False, False, False, False],\n",
       "        fill_value='?',\n",
       "             dtype=object),\n",
       " 'params': [{'n_neighbors': 3},\n",
       "  {'n_neighbors': 5},\n",
       "  {'n_neighbors': 9},\n",
       "  {'n_neighbors': 11},\n",
       "  {'n_neighbors': 13}],\n",
       " 'split0_test_score': array([0.98765432, 0.98148148, 0.97839506, 0.97530864, 0.97839506]),\n",
       " 'split1_test_score': array([0.98148148, 0.9845679 , 0.98765432, 0.98148148, 0.9845679 ]),\n",
       " 'split2_test_score': array([0.98452012, 0.9876161 , 0.98142415, 0.97832817, 0.97832817]),\n",
       " 'split3_test_score': array([0.98452012, 0.9876161 , 0.98452012, 0.98142415, 0.9752322 ]),\n",
       " 'split4_test_score': array([0.98452012, 0.98452012, 0.98142415, 0.98142415, 0.9752322 ]),\n",
       " 'mean_test_score': array([0.98453923, 0.98516034, 0.98268356, 0.97959332, 0.97835111]),\n",
       " 'std_test_score': array([0.00195216, 0.00229593, 0.00315103, 0.00245878, 0.00340899]),\n",
       " 'rank_test_score': array([2, 1, 3, 4, 5])}"
      ]
     },
     "execution_count": 278,
     "metadata": {},
     "output_type": "execute_result"
    }
   ],
   "source": [
    "#printing the best combination of parameters\n",
    "gs.cv_results_"
   ]
  },
  {
   "cell_type": "code",
   "execution_count": 280,
   "metadata": {},
   "outputs": [
    {
     "data": {
      "text/plain": [
       "{'n_neighbors': 5}"
      ]
     },
     "execution_count": 280,
     "metadata": {},
     "output_type": "execute_result"
    }
   ],
   "source": [
    "gs.best_params_"
   ]
  },
  {
   "cell_type": "code",
   "execution_count": 224,
   "metadata": {},
   "outputs": [
    {
     "name": "stdout",
     "output_type": "stream",
     "text": [
      "Acuracy score is:  0.9888888888888889\n"
     ]
    }
   ],
   "source": [
    "from sklearn.metrics import accuracy_score\n",
    "\n",
    "print('Acuracy score is: ',accuracy_score(y_test, y_pred))"
   ]
  },
  {
   "cell_type": "code",
   "execution_count": 225,
   "metadata": {},
   "outputs": [
    {
     "data": {
      "text/plain": [
       "<sklearn.metrics._plot.confusion_matrix.ConfusionMatrixDisplay at 0x2c050dde550>"
      ]
     },
     "execution_count": 225,
     "metadata": {},
     "output_type": "execute_result"
    },
    {
     "data": {
      "image/png": "[encoded data removed]",
      "text/plain": [
       "<Figure size 432x288 with 2 Axes>"
      ]
     },
     "metadata": {
      "needs_background": "light"
     },
     "output_type": "display_data"
    }
   ],
   "source": [
    "from sklearn.metrics import plot_confusion_matrix\n",
    "\n",
    "plot_confusion_matrix(clfBest,X_test,y_test)"
   ]
  },
  {
   "cell_type": "code",
   "execution_count": 226,
   "metadata": {},
   "outputs": [
    {
     "name": "stdout",
     "output_type": "stream",
     "text": [
      "ejemplos para cada clase:  Counter({3: 165, 1: 164, 5: 164, 4: 163, 6: 163, 9: 162, 7: 161, 0: 160, 2: 159, 8: 156})\n"
     ]
    }
   ],
   "source": [
    "#print balanced class\n",
    "print(\"ejemplos para cada clase: \", collections.Counter(y_train))"
   ]
  },
  {
   "cell_type": "markdown",
   "metadata": {},
   "source": [
    "- #### Precision score : it indicates how accurate the positive predictions are "
   ]
  },
  {
   "cell_type": "code",
   "execution_count": 227,
   "metadata": {},
   "outputs": [
    {
     "name": "stdout",
     "output_type": "stream",
     "text": [
      "precision score is:  0.9894736842105264\n"
     ]
    }
   ],
   "source": [
    "from sklearn.metrics import precision_score\n",
    "print('precision score is: ',precision_score(y_test, y_pred,average='macro'))"
   ]
  },
  {
   "cell_type": "markdown",
   "metadata": {},
   "source": [
    "- #### Recall score : it is thhe coverage of actual positive samples "
   ]
  },
  {
   "cell_type": "code",
   "execution_count": 228,
   "metadata": {},
   "outputs": [
    {
     "name": "stdout",
     "output_type": "stream",
     "text": [
      "recall score is:  0.9888888888888889\n"
     ]
    }
   ],
   "source": [
    "from sklearn.metrics import recall_score\n",
    "print('recall score is: ',recall_score(y_test, y_pred,average='macro'))"
   ]
  },
  {
   "cell_type": "markdown",
   "metadata": {},
   "source": [
    "- #### Hybrid metric, usefull for unbalanced classes as it happens in this case "
   ]
  },
  {
   "cell_type": "code",
   "execution_count": 229,
   "metadata": {},
   "outputs": [
    {
     "name": "stdout",
     "output_type": "stream",
     "text": [
      "f1 score is:  0.9888803088803089\n"
     ]
    }
   ],
   "source": [
    "from sklearn.metrics import f1_score\n",
    "print('f1 score is: ',f1_score(y_test, y_pred,average='macro'))"
   ]
  },
  {
   "cell_type": "markdown",
   "metadata": {},
   "source": [
    "**Conclusion**\n",
    "\n",
    "As it was to be spected because of the balanced class we get a better result by using cross validation\n",
    "\n",
    "K-Fold validation 96.43933 %\n",
    "\n",
    "Stratified K-Fold validation 98.777 %\n",
    "\n",
    "Cross validation 98.888%"
   ]
  },
  {
   "cell_type": "markdown",
   "metadata": {},
   "source": [
    "#### 4) Read the Scikit-learn library documentation and configure the automated validation script so that the GridSearchCV() function uses leave-one-out cross-validation instead of k-fold. Which conclusions can be drawn from the mean cross-validation scores and the test scores using a k-neighbor model with optimized k?"
   ]
  },
  {
   "cell_type": "markdown",
   "metadata": {},
   "source": [
    "# K-Nearest Neighbors using leave one out cross validation"
   ]
  },
  {
   "cell_type": "markdown",
   "metadata": {},
   "source": [
    "- In this case we are going to do a cross validation but using leave one out instead of the k-fold method"
   ]
  },
  {
   "cell_type": "code",
   "execution_count": 230,
   "metadata": {},
   "outputs": [],
   "source": [
    "# we import the leave on eout method\n",
    "from sklearn.model_selection import LeaveOneOut\n",
    "LOO = LeaveOneOut()"
   ]
  },
  {
   "cell_type": "code",
   "execution_count": 231,
   "metadata": {},
   "outputs": [],
   "source": [
    "# we create one strat for the cross validation because the data is unbalanced \n",
    "sss = StratifiedShuffleSplit(n_splits=1,test_size=0.1,random_state=0)"
   ]
  },
  {
   "cell_type": "code",
   "execution_count": 232,
   "metadata": {},
   "outputs": [],
   "source": [
    "# we set the train test split\n",
    "for train_index, test_index in sss.split(X, y):\n",
    "    X_train, X_test = X[train_index], X[test_index]\n",
    "    y_train, y_test = y[train_index], y[test_index]\n"
   ]
  },
  {
   "cell_type": "code",
   "execution_count": 233,
   "metadata": {},
   "outputs": [],
   "source": [
    "# get the bests neighbors param for grid search\n",
    "params =  {'n_neighbors' : [3,5,9,11,13]}"
   ]
  },
  {
   "cell_type": "code",
   "execution_count": 234,
   "metadata": {},
   "outputs": [
    {
     "data": {
      "text/plain": [
       "GridSearchCV(cv=LeaveOneOut(), estimator=KNeighborsClassifier(),\n",
       "             param_grid={'n_neighbors': [3, 5, 9, 11, 13]}, scoring='accuracy')"
      ]
     },
     "execution_count": 234,
     "metadata": {},
     "output_type": "execute_result"
    }
   ],
   "source": [
    "clf = KNeighborsClassifier()\n",
    "gs = GridSearchCV(estimator=clf,param_grid=params,scoring='accuracy',cv=LOO)\n",
    "gs.fit(X_train,y_train)"
   ]
  },
  {
   "cell_type": "code",
   "execution_count": 235,
   "metadata": {},
   "outputs": [],
   "source": [
    "resultsCV = gs.cv_results_\n",
    "#cogemos la mejor combinacion\n",
    "clfBest = gs.best_estimator_\n",
    "#entreno con la mejor combinacion\n",
    "clfBest.fit(X_train,y_train)\n",
    "#predigo con este entrenamiento\n",
    "y_pred = clfBest.predict(X_test)"
   ]
  },
  {
   "cell_type": "code",
   "execution_count": 236,
   "metadata": {},
   "outputs": [
    {
     "data": {
      "text/plain": [
       "KNeighborsClassifier()"
      ]
     },
     "execution_count": 236,
     "metadata": {},
     "output_type": "execute_result"
    }
   ],
   "source": [
    "#printing the best combination of parameters\n",
    "clfBest"
   ]
  },
  {
   "cell_type": "code",
   "execution_count": 237,
   "metadata": {},
   "outputs": [
    {
     "name": "stdout",
     "output_type": "stream",
     "text": [
      "0.9888888888888889\n"
     ]
    }
   ],
   "source": [
    "from sklearn.metrics import accuracy_score\n",
    "\n",
    "print(accuracy_score(y_test, y_pred))"
   ]
  },
  {
   "cell_type": "code",
   "execution_count": 238,
   "metadata": {},
   "outputs": [
    {
     "data": {
      "text/plain": [
       "<sklearn.metrics._plot.confusion_matrix.ConfusionMatrixDisplay at 0x2c04f8a49a0>"
      ]
     },
     "execution_count": 238,
     "metadata": {},
     "output_type": "execute_result"
    },
    {
     "data": {
      "image/png": "[encoded data removed]",
      "text/plain": [
       "<Figure size 432x288 with 2 Axes>"
      ]
     },
     "metadata": {
      "needs_background": "light"
     },
     "output_type": "display_data"
    }
   ],
   "source": [
    "from sklearn.metrics import plot_confusion_matrix\n",
    "\n",
    "plot_confusion_matrix(clfBest,X_test,y_test)"
   ]
  },
  {
   "cell_type": "markdown",
   "metadata": {},
   "source": [
    "**Conclusions:**\n",
    "\n",
    "LeaveOneOut results are the same as the cross-validation results with optimized k (K=5).In both we get a 98.888% accuracy."
   ]
  },
  {
   "cell_type": "markdown",
   "metadata": {},
   "source": [
    "#### 5) Elaborate on the need for stratifying the cross-validation process analyzing the distribution of samples by class. If so, please show with empirical evidence what could occur if such a stratification was not performed, specially when decreasing the number of samples of the dataset."
   ]
  },
  {
   "cell_type": "markdown",
   "metadata": {},
   "source": [
    "# KNN method with not stratified cross validation\n"
   ]
  },
  {
   "cell_type": "code",
   "execution_count": 239,
   "metadata": {},
   "outputs": [],
   "source": [
    "from sklearn.model_selection import train_test_split\n",
    "\n",
    "X_train, X_test, y_train, y_test = train_test_split(X, y,test_size=0.4,random_state=0)"
   ]
  },
  {
   "cell_type": "code",
   "execution_count": 240,
   "metadata": {},
   "outputs": [],
   "source": [
    "params =  {'n_neighbors' : [3,5,9,11,13]}"
   ]
  },
  {
   "cell_type": "code",
   "execution_count": 241,
   "metadata": {},
   "outputs": [
    {
     "data": {
      "text/plain": [
       "GridSearchCV(cv=5, estimator=KNeighborsClassifier(),\n",
       "             param_grid={'n_neighbors': [3, 5, 9, 11, 13]}, scoring='accuracy')"
      ]
     },
     "execution_count": 241,
     "metadata": {},
     "output_type": "execute_result"
    }
   ],
   "source": [
    "clf = KNeighborsClassifier()\n",
    "\n",
    "gs = GridSearchCV(estimator=clf,param_grid=params,scoring='accuracy',cv=5)\n",
    "\n",
    "gs.fit(X_train,y_train)"
   ]
  },
  {
   "cell_type": "code",
   "execution_count": 242,
   "metadata": {},
   "outputs": [],
   "source": [
    "resultsCV = gs.cv_results_\n",
    "\n",
    "#cogemos la mejor combinacion\n",
    "clfBest = gs.best_estimator_\n",
    "\n",
    "#entreno con la mejor combinacion\n",
    "clfBest.fit(X_train,y_train)\n",
    "\n",
    "#predigo con este entrenamiento\n",
    "y_pred = clfBest.predict(X_test)"
   ]
  },
  {
   "cell_type": "code",
   "execution_count": 281,
   "metadata": {},
   "outputs": [
    {
     "data": {
      "text/plain": [
       "{'n_neighbors': 5}"
      ]
     },
     "execution_count": 281,
     "metadata": {},
     "output_type": "execute_result"
    }
   ],
   "source": [
    "#print best params selected\n",
    "gs.best_params_"
   ]
  },
  {
   "cell_type": "code",
   "execution_count": 248,
   "metadata": {},
   "outputs": [
    {
     "name": "stdout",
     "output_type": "stream",
     "text": [
      "0.9791376912378303\n"
     ]
    }
   ],
   "source": [
    "from sklearn.metrics import accuracy_score\n",
    "\n",
    "print(accuracy_score(y_test, y_pred))"
   ]
  },
  {
   "cell_type": "code",
   "execution_count": 249,
   "metadata": {},
   "outputs": [
    {
     "data": {
      "text/plain": [
       "<sklearn.metrics._plot.confusion_matrix.ConfusionMatrixDisplay at 0x2c0511e16a0>"
      ]
     },
     "execution_count": 249,
     "metadata": {},
     "output_type": "execute_result"
    },
    {
     "data": {
      "image/png": "[encoded data removed]",
      "text/plain": [
       "<Figure size 432x288 with 2 Axes>"
      ]
     },
     "metadata": {
      "needs_background": "light"
     },
     "output_type": "display_data"
    }
   ],
   "source": [
    "from sklearn.metrics import plot_confusion_matrix\n",
    "\n",
    "plot_confusion_matrix(clfBest,X_test,y_test)"
   ]
  },
  {
   "cell_type": "markdown",
   "metadata": {},
   "source": [
    "**Conclusion**\n",
    "\n",
    "Not stratified = 97.9137% accuracy (k=5)\n",
    "\n",
    "stratified = 98.888%% accuracy (k=5)\n",
    "\n",
    "As we could predict by using not stratiffied cross validation we get a worst result this is because the clases are not perfectly balanced and if we dont stratiffy our data the model migth not be getting a adecuate number of data for both classes. the results could be even worst if we decreased the amount of data we have abaliable because the test train split could be even more unbalanaced."
   ]
  },
  {
   "cell_type": "markdown",
   "metadata": {},
   "source": [
    "#### 6) Include in the set of hyper-parameters adjusted via cross-validation process the weights of the distance metric between samples according to the “weights” parameter of the model in Scikit-learn. Compute the model’s performance when distance metric weights are fine-tuned within cross-validation with respect to only tuning the number of neighbors (K)."
   ]
  },
  {
   "cell_type": "markdown",
   "metadata": {},
   "source": [
    "To solve this section we only have to compare the model accuracy using GridSearchCV without 'uniform' in the 'weights' parameter with the accuracy using 'distance' in 'weights' parameter."
   ]
  },
  {
   "cell_type": "markdown",
   "metadata": {},
   "source": [
    "# KNN using cross validation adding weights\n"
   ]
  },
  {
   "cell_type": "code",
   "execution_count": 282,
   "metadata": {},
   "outputs": [],
   "source": [
    "sss = StratifiedShuffleSplit(n_splits=1,test_size=0.1,random_state=0)"
   ]
  },
  {
   "cell_type": "code",
   "execution_count": 283,
   "metadata": {},
   "outputs": [],
   "source": [
    "for train_index, test_index in sss.split(X, y):\n",
    "    X_train, X_test = X[train_index], X[test_index]\n",
    "    y_train, y_test = y[train_index], y[test_index]"
   ]
  },
  {
   "cell_type": "code",
   "execution_count": 284,
   "metadata": {},
   "outputs": [],
   "source": [
    "params =  {'n_neighbors' : [3,5,9,11,13], 'weights' : ['uniform','distance']}"
   ]
  },
  {
   "cell_type": "code",
   "execution_count": 285,
   "metadata": {},
   "outputs": [
    {
     "data": {
      "text/plain": [
       "GridSearchCV(cv=5, estimator=KNeighborsClassifier(),\n",
       "             param_grid={'n_neighbors': [3, 5, 9, 11, 13],\n",
       "                         'weights': ['uniform', 'distance']},\n",
       "             scoring='accuracy')"
      ]
     },
     "execution_count": 285,
     "metadata": {},
     "output_type": "execute_result"
    }
   ],
   "source": [
    "clf = KNeighborsClassifier()\n",
    "\n",
    "gs = GridSearchCV(estimator=clf,param_grid=params,scoring='accuracy',cv=5)\n",
    "\n",
    "gs.fit(X_train,y_train)"
   ]
  },
  {
   "cell_type": "code",
   "execution_count": 286,
   "metadata": {},
   "outputs": [],
   "source": [
    "resultsCV = gs.cv_results_\n",
    "\n",
    "#cogemos la mejor combinacion\n",
    "clfBest = gs.best_estimator_\n",
    "\n",
    "#entreno con la mejor combinacion\n",
    "clfBest.fit(X_train,y_train)\n",
    "\n",
    "#predigo con este entrenamiento\n",
    "y_pred = clfBest.predict(X_test)"
   ]
  },
  {
   "cell_type": "code",
   "execution_count": 287,
   "metadata": {},
   "outputs": [
    {
     "data": {
      "text/plain": [
       "KNeighborsClassifier(weights='distance')"
      ]
     },
     "execution_count": 287,
     "metadata": {},
     "output_type": "execute_result"
    }
   ],
   "source": [
    "#printing the best combination of parameters\n",
    "clfBest"
   ]
  },
  {
   "cell_type": "code",
   "execution_count": 288,
   "metadata": {},
   "outputs": [
    {
     "data": {
      "text/plain": [
       "{'n_neighbors': 5, 'weights': 'distance'}"
      ]
     },
     "execution_count": 288,
     "metadata": {},
     "output_type": "execute_result"
    }
   ],
   "source": [
    "gs.best_params_"
   ]
  },
  {
   "cell_type": "code",
   "execution_count": 289,
   "metadata": {},
   "outputs": [
    {
     "name": "stdout",
     "output_type": "stream",
     "text": [
      "0.9944444444444445\n"
     ]
    }
   ],
   "source": [
    "from sklearn.metrics import accuracy_score\n",
    "\n",
    "print(accuracy_score(y_test, y_pred))"
   ]
  },
  {
   "cell_type": "code",
   "execution_count": 290,
   "metadata": {},
   "outputs": [
    {
     "data": {
      "text/plain": [
       "<sklearn.metrics._plot.confusion_matrix.ConfusionMatrixDisplay at 0x2c0511e1970>"
      ]
     },
     "execution_count": 290,
     "metadata": {},
     "output_type": "execute_result"
    },
    {
     "data": {
      "image/png": "[encoded data removed]",
      "text/plain": [
       "<Figure size 432x288 with 2 Axes>"
      ]
     },
     "metadata": {
      "needs_background": "light"
     },
     "output_type": "display_data"
    }
   ],
   "source": [
    "from sklearn.metrics import plot_confusion_matrix\n",
    "\n",
    "plot_confusion_matrix(clfBest,X_test,y_test)"
   ]
  },
  {
   "cell_type": "markdown",
   "metadata": {},
   "source": [
    "**Conclusions:**\n",
    "\n",
    "the model's performance for an optimal number of neighbors (k = 5) and weights distance is 99.4444% way better than the one we got before because when we dont specify the wigths params it takes 'uniform' as defalut."
   ]
  },
  {
   "cell_type": "markdown",
   "metadata": {},
   "source": [
    "#### 7) Following the same approach as in the last section, enter the type of distance metric (“metric” parameter) within the cross-validation process. Evaluates the results and gains / losses of generalizability of the model."
   ]
  },
  {
   "cell_type": "markdown",
   "metadata": {},
   "source": [
    "# KNN cross validation adding weights and metrics"
   ]
  },
  {
   "cell_type": "code",
   "execution_count": 309,
   "metadata": {},
   "outputs": [],
   "source": [
    "sss = StratifiedShuffleSplit(n_splits=1,test_size=0.1,random_state=0)"
   ]
  },
  {
   "cell_type": "code",
   "execution_count": 310,
   "metadata": {},
   "outputs": [],
   "source": [
    "for train_index, test_index in sss.split(X, y):\n",
    "    X_train, X_test = X[train_index], X[test_index]\n",
    "    y_train, y_test = y[train_index], y[test_index]"
   ]
  },
  {
   "cell_type": "code",
   "execution_count": 311,
   "metadata": {},
   "outputs": [],
   "source": [
    "params =  {'n_neighbors' : [3,5,9,11,13], 'weights' : ['uniform','distance'],'p' : [1,2,3,4]}"
   ]
  },
  {
   "cell_type": "code",
   "execution_count": 312,
   "metadata": {},
   "outputs": [
    {
     "data": {
      "text/plain": [
       "GridSearchCV(cv=5, estimator=KNeighborsClassifier(),\n",
       "             param_grid={'n_neighbors': [3, 5, 9, 11, 13], 'p': [1, 2, 3, 4],\n",
       "                         'weights': ['uniform', 'distance']},\n",
       "             scoring='accuracy')"
      ]
     },
     "execution_count": 312,
     "metadata": {},
     "output_type": "execute_result"
    }
   ],
   "source": [
    "clf = KNeighborsClassifier()\n",
    "\n",
    "gs = GridSearchCV(estimator=clf,param_grid=params,scoring='accuracy',cv=5)\n",
    "\n",
    "gs.fit(X_train,y_train)"
   ]
  },
  {
   "cell_type": "code",
   "execution_count": 313,
   "metadata": {},
   "outputs": [],
   "source": [
    "resultsCV = gs.cv_results_\n",
    "\n",
    "#cogemos la mejor combinacion\n",
    "clfBest = gs.best_estimator_\n",
    "\n",
    "#entreno con la mejor combinacion\n",
    "clfBest.fit(X_train,y_train)\n",
    "\n",
    "#predigo con este entrenamiento\n",
    "y_pred = clfBest.predict(X_test)"
   ]
  },
  {
   "cell_type": "code",
   "execution_count": 314,
   "metadata": {},
   "outputs": [
    {
     "data": {
      "text/plain": [
       "KNeighborsClassifier(n_neighbors=3, p=4, weights='distance')"
      ]
     },
     "execution_count": 314,
     "metadata": {},
     "output_type": "execute_result"
    }
   ],
   "source": [
    "#printing the best combination of parameters\n",
    "clfBest"
   ]
  },
  {
   "cell_type": "code",
   "execution_count": 315,
   "metadata": {},
   "outputs": [
    {
     "data": {
      "text/plain": [
       "{'n_neighbors': 3, 'p': 4, 'weights': 'distance'}"
      ]
     },
     "execution_count": 315,
     "metadata": {},
     "output_type": "execute_result"
    }
   ],
   "source": [
    "gs.best_params_"
   ]
  },
  {
   "cell_type": "code",
   "execution_count": 316,
   "metadata": {},
   "outputs": [
    {
     "name": "stdout",
     "output_type": "stream",
     "text": [
      "0.9833333333333333\n"
     ]
    }
   ],
   "source": [
    "from sklearn.metrics import accuracy_score\n",
    "\n",
    "print(accuracy_score(y_test, y_pred))"
   ]
  },
  {
   "cell_type": "code",
   "execution_count": 317,
   "metadata": {},
   "outputs": [
    {
     "data": {
      "text/plain": [
       "<sklearn.metrics._plot.confusion_matrix.ConfusionMatrixDisplay at 0x2c052c0a580>"
      ]
     },
     "execution_count": 317,
     "metadata": {},
     "output_type": "execute_result"
    },
    {
     "data": {
      "image/png": "[encoded data removed]",
      "text/plain": [
       "<Figure size 432x288 with 2 Axes>"
      ]
     },
     "metadata": {
      "needs_background": "light"
     },
     "output_type": "display_data"
    }
   ],
   "source": [
    "from sklearn.metrics import plot_confusion_matrix\n",
    "\n",
    "plot_confusion_matrix(clfBest,X_test,y_test)"
   ]
  },
  {
   "cell_type": "markdown",
   "metadata": {},
   "source": [
    "**Conclusions:**\n",
    "\n",
    "the model's performance for an optimal number of neighbors (k = 3), weights 'distance' and p '4' is 98.3333% so in this case adding the 'p' param made our model acuracy´s worst than in the case before."
   ]
  },
  {
   "cell_type": "code",
   "execution_count": null,
   "metadata": {},
   "outputs": [],
   "source": []
  }
 ],
 "metadata": {
  "kernelspec": {
   "display_name": "Python 3",
   "language": "python",
   "name": "python3"
  },
  "language_info": {
   "codemirror_mode": {
    "name": "ipython",
    "version": 3
   },
   "file_extension": ".py",
   "mimetype": "text/x-python",
   "name": "python",
   "nbconvert_exporter": "python",
   "pygments_lexer": "ipython3",
   "version": "3.8.5"
  }
 },
 "nbformat": 4,
 "nbformat_minor": 4
}
