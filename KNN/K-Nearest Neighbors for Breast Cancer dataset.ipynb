{
 "cells": [
  {
   "cell_type": "markdown",
   "metadata": {},
   "source": [
    "# K-Nearest Neighbors in depth. Breast Cancer dataset\n",
    "\n",
    "\n",
    "\n",
    "\n",
    "In this task we are going to perform a full analysis of the breast cancer datatset provided by scikit learn followed by the implementation of K-Nearest neighbors model to predict the output of the type of cancer given some pacient data.\n",
    "The K-Nearest neighbors model is going to be trained in diferent ways so that we can see wich one give us the best results.\n"
   ]
  },
  {
   "cell_type": "markdown",
   "metadata": {},
   "source": [
    "#### 1) Describe the dataset in dimensions such as number of features, number of categories, and number of samples per category using Python. "
   ]
  },
  {
   "cell_type": "markdown",
   "metadata": {},
   "source": [
    "- First we are going to import some of the libraries that we are going to use to perform the excercice. \n"
   ]
  },
  {
   "cell_type": "code",
   "execution_count": 171,
   "metadata": {},
   "outputs": [],
   "source": [
    "# =============================================================================\n",
    "# libraries\n",
    "# =============================================================================\n",
    "\n",
    "import numpy as np\n",
    "import seaborn as sns\n",
    "import collections\n",
    "from matplotlib import pyplot as plt\n",
    "import pandas as pd\n",
    "from sklearn.model_selection import GridSearchCV\n",
    "from sklearn.model_selection import KFold\n",
    "from sklearn.model_selection import StratifiedShuffleSplit\n",
    "from sklearn.neighbors import KNeighborsClassifier\n",
    "from sklearn.model_selection import train_test_split\n",
    "from sklearn.metrics import mean_absolute_error\n",
    "from sklearn.metrics import accuracy_score\n",
    "from sklearn.metrics import plot_confusion_matrix"
   ]
  },
  {
   "cell_type": "markdown",
   "metadata": {},
   "source": [
    "- Now that we have imported the libraries we are going to import the dataset and we are going to perform a first analysis and visulization of the number of features, number of clases and number of samples by categories."
   ]
  },
  {
   "cell_type": "code",
   "execution_count": 172,
   "metadata": {},
   "outputs": [],
   "source": [
    "from sklearn.datasets import load_breast_cancer\n",
    "Breast_Cancer = load_breast_cancer()\n",
    "X = Breast_Cancer.data\n",
    "y = Breast_Cancer.target\n",
    "columns = Breast_Cancer.feature_names"
   ]
  },
  {
   "cell_type": "markdown",
   "metadata": {},
   "source": [
    "In the 'X' variable we have the features of the dataset and in the 'y' variable we have the output given the features of the 'X' data\n",
    "Lest see the size of both of them"
   ]
  },
  {
   "cell_type": "code",
   "execution_count": 173,
   "metadata": {},
   "outputs": [
    {
     "data": {
      "text/plain": [
       "(569, 30)"
      ]
     },
     "execution_count": 173,
     "metadata": {},
     "output_type": "execute_result"
    }
   ],
   "source": [
    "X.shape\n"
   ]
  },
  {
   "cell_type": "code",
   "execution_count": 174,
   "metadata": {},
   "outputs": [
    {
     "data": {
      "text/plain": [
       "(569,)"
      ]
     },
     "execution_count": 174,
     "metadata": {},
     "output_type": "execute_result"
    }
   ],
   "source": [
    "y.shape"
   ]
  },
  {
   "cell_type": "markdown",
   "metadata": {},
   "source": [
    "We can see that the features variable has a total of 30 features and a length of 569 pacients, as it was expected we have 569 solutions for each pacient in the output variable."
   ]
  },
  {
   "cell_type": "markdown",
   "metadata": {},
   "source": [
    "- Now we are going to check the output of the dataset, that means the kind of class we are going to find in the output and how many samples are for each of them\n"
   ]
  },
  {
   "cell_type": "code",
   "execution_count": 175,
   "metadata": {},
   "outputs": [
    {
     "name": "stdout",
     "output_type": "stream",
     "text": [
      "Examples for each class:  Counter({1: 357, 0: 212})\n"
     ]
    }
   ],
   "source": [
    "print(\"Examples for each class: \", collections.Counter(y) )"
   ]
  },
  {
   "cell_type": "code",
   "execution_count": 176,
   "metadata": {
    "scrolled": true
   },
   "outputs": [
    {
     "name": "stderr",
     "output_type": "stream",
     "text": [
      "C:\\Users\\franc\\anaconda3\\lib\\site-packages\\seaborn\\_decorators.py:36: FutureWarning: Pass the following variable as a keyword arg: x. From version 0.12, the only valid positional argument will be `data`, and passing other arguments without an explicit keyword will result in an error or misinterpretation.\n",
      "  warnings.warn(\n"
     ]
    },
    {
     "data": {
      "text/plain": [
       "<AxesSubplot:ylabel='count'>"
      ]
     },
     "execution_count": 176,
     "metadata": {},
     "output_type": "execute_result"
    },
    {
     "data": {
      "image/png": "[encoded data removed]",
      "text/plain": [
       "<Figure size 432x288 with 1 Axes>"
      ]
     },
     "metadata": {
      "needs_background": "light"
     },
     "output_type": "display_data"
    }
   ],
   "source": [
    "sns.countplot(y)"
   ]
  },
  {
   "cell_type": "markdown",
   "metadata": {},
   "source": [
    "We can see that there are 357 persons in our dataset that has a 1 type of classifications, wich means that have bening cancer. In the other hand we have 212 pacients that have a 0 output wich means malign type of cancer. \n",
    "In conclusion we could say that we dont have a really well balanced class so maybe the stratified k fold kind of validation could be our best choice."
   ]
  },
  {
   "cell_type": "markdown",
   "metadata": {},
   "source": [
    "#### 2) Represent the statistical support of every feature graphically, resorting to Matplotlib’s boxplot function. Are there any outliers that can be detected by simple visual inspection? If so, devise a handcrafted method to detect and isolate such examples."
   ]
  },
  {
   "cell_type": "markdown",
   "metadata": {},
   "source": [
    "- Having clear wich is the main structure of our dataset, we are going to represent the statatistical support of every feature using Matplotlib´s boxplot function"
   ]
  },
  {
   "cell_type": "code",
   "execution_count": 266,
   "metadata": {},
   "outputs": [
    {
     "data": {
      "text/plain": [
       "{'whiskers': [<matplotlib.lines.Line2D at 0x1927169f370>,\n",
       "  <matplotlib.lines.Line2D at 0x1927169f6d0>,\n",
       "  <matplotlib.lines.Line2D at 0x192716aaaf0>,\n",
       "  <matplotlib.lines.Line2D at 0x192716aae20>,\n",
       "  <matplotlib.lines.Line2D at 0x192716c41c0>,\n",
       "  <matplotlib.lines.Line2D at 0x192716c44f0>,\n",
       "  <matplotlib.lines.Line2D at 0x192716ce850>,\n",
       "  <matplotlib.lines.Line2D at 0x192716ceb80>,\n",
       "  <matplotlib.lines.Line2D at 0x192716dcee0>,\n",
       "  <matplotlib.lines.Line2D at 0x192716e6250>,\n",
       "  <matplotlib.lines.Line2D at 0x192716f55b0>,\n",
       "  <matplotlib.lines.Line2D at 0x192716f58e0>,\n",
       "  <matplotlib.lines.Line2D at 0x192716ffc40>,\n",
       "  <matplotlib.lines.Line2D at 0x192716fff70>,\n",
       "  <matplotlib.lines.Line2D at 0x19271719310>,\n",
       "  <matplotlib.lines.Line2D at 0x19271719640>,\n",
       "  <matplotlib.lines.Line2D at 0x192717259a0>,\n",
       "  <matplotlib.lines.Line2D at 0x19271725cd0>,\n",
       "  <matplotlib.lines.Line2D at 0x1927173e070>,\n",
       "  <matplotlib.lines.Line2D at 0x1927173e3a0>,\n",
       "  <matplotlib.lines.Line2D at 0x1927174a700>,\n",
       "  <matplotlib.lines.Line2D at 0x1927174aa30>,\n",
       "  <matplotlib.lines.Line2D at 0x19271757d90>,\n",
       "  <matplotlib.lines.Line2D at 0x19271762100>,\n",
       "  <matplotlib.lines.Line2D at 0x19271770460>,\n",
       "  <matplotlib.lines.Line2D at 0x19271770790>,\n",
       "  <matplotlib.lines.Line2D at 0x1927177caf0>,\n",
       "  <matplotlib.lines.Line2D at 0x1927177ce20>,\n",
       "  <matplotlib.lines.Line2D at 0x192717941c0>,\n",
       "  <matplotlib.lines.Line2D at 0x192717944f0>,\n",
       "  <matplotlib.lines.Line2D at 0x192717a0850>,\n",
       "  <matplotlib.lines.Line2D at 0x192717a0b80>,\n",
       "  <matplotlib.lines.Line2D at 0x192717acee0>,\n",
       "  <matplotlib.lines.Line2D at 0x192717b8250>,\n",
       "  <matplotlib.lines.Line2D at 0x192717c35b0>,\n",
       "  <matplotlib.lines.Line2D at 0x192717c38e0>,\n",
       "  <matplotlib.lines.Line2D at 0x192717d1c40>,\n",
       "  <matplotlib.lines.Line2D at 0x192717d1f70>,\n",
       "  <matplotlib.lines.Line2D at 0x192717eb310>,\n",
       "  <matplotlib.lines.Line2D at 0x192717eb640>,\n",
       "  <matplotlib.lines.Line2D at 0x192717f69a0>,\n",
       "  <matplotlib.lines.Line2D at 0x192717f6cd0>,\n",
       "  <matplotlib.lines.Line2D at 0x1927180f070>,\n",
       "  <matplotlib.lines.Line2D at 0x1927180f3a0>,\n",
       "  <matplotlib.lines.Line2D at 0x1927181b700>,\n",
       "  <matplotlib.lines.Line2D at 0x1927181ba30>,\n",
       "  <matplotlib.lines.Line2D at 0x19271828d90>,\n",
       "  <matplotlib.lines.Line2D at 0x19271835100>,\n",
       "  <matplotlib.lines.Line2D at 0x19271841460>,\n",
       "  <matplotlib.lines.Line2D at 0x19271841790>,\n",
       "  <matplotlib.lines.Line2D at 0x1927184daf0>,\n",
       "  <matplotlib.lines.Line2D at 0x1927184de20>,\n",
       "  <matplotlib.lines.Line2D at 0x192718651c0>,\n",
       "  <matplotlib.lines.Line2D at 0x192718654f0>,\n",
       "  <matplotlib.lines.Line2D at 0x1927186f850>,\n",
       "  <matplotlib.lines.Line2D at 0x1927186fb80>,\n",
       "  <matplotlib.lines.Line2D at 0x1926e034d00>,\n",
       "  <matplotlib.lines.Line2D at 0x1926e052670>,\n",
       "  <matplotlib.lines.Line2D at 0x1926a0c39a0>,\n",
       "  <matplotlib.lines.Line2D at 0x1926b212be0>],\n",
       " 'caps': [<matplotlib.lines.Line2D at 0x1927169fa30>,\n",
       "  <matplotlib.lines.Line2D at 0x1927169fd90>,\n",
       "  <matplotlib.lines.Line2D at 0x192716b6190>,\n",
       "  <matplotlib.lines.Line2D at 0x192716b64c0>,\n",
       "  <matplotlib.lines.Line2D at 0x192716c4820>,\n",
       "  <matplotlib.lines.Line2D at 0x192716c4b50>,\n",
       "  <matplotlib.lines.Line2D at 0x192716ceeb0>,\n",
       "  <matplotlib.lines.Line2D at 0x192716dc220>,\n",
       "  <matplotlib.lines.Line2D at 0x192716e6580>,\n",
       "  <matplotlib.lines.Line2D at 0x192716e68b0>,\n",
       "  <matplotlib.lines.Line2D at 0x192716f5c10>,\n",
       "  <matplotlib.lines.Line2D at 0x192716f5f40>,\n",
       "  <matplotlib.lines.Line2D at 0x1927170b2e0>,\n",
       "  <matplotlib.lines.Line2D at 0x1927170b610>,\n",
       "  <matplotlib.lines.Line2D at 0x19271719970>,\n",
       "  <matplotlib.lines.Line2D at 0x19271719ca0>,\n",
       "  <matplotlib.lines.Line2D at 0x19271732040>,\n",
       "  <matplotlib.lines.Line2D at 0x19271732370>,\n",
       "  <matplotlib.lines.Line2D at 0x1927173e6d0>,\n",
       "  <matplotlib.lines.Line2D at 0x1927173ea00>,\n",
       "  <matplotlib.lines.Line2D at 0x1927174ad60>,\n",
       "  <matplotlib.lines.Line2D at 0x192717570d0>,\n",
       "  <matplotlib.lines.Line2D at 0x19271762430>,\n",
       "  <matplotlib.lines.Line2D at 0x19271762760>,\n",
       "  <matplotlib.lines.Line2D at 0x19271770ac0>,\n",
       "  <matplotlib.lines.Line2D at 0x19271770df0>,\n",
       "  <matplotlib.lines.Line2D at 0x19271787190>,\n",
       "  <matplotlib.lines.Line2D at 0x192717874c0>,\n",
       "  <matplotlib.lines.Line2D at 0x19271794820>,\n",
       "  <matplotlib.lines.Line2D at 0x19271794b50>,\n",
       "  <matplotlib.lines.Line2D at 0x192717a0eb0>,\n",
       "  <matplotlib.lines.Line2D at 0x192717ac220>,\n",
       "  <matplotlib.lines.Line2D at 0x192717b8580>,\n",
       "  <matplotlib.lines.Line2D at 0x192717b88b0>,\n",
       "  <matplotlib.lines.Line2D at 0x192717c3c10>,\n",
       "  <matplotlib.lines.Line2D at 0x192717c3f40>,\n",
       "  <matplotlib.lines.Line2D at 0x192717dd2e0>,\n",
       "  <matplotlib.lines.Line2D at 0x192717dd610>,\n",
       "  <matplotlib.lines.Line2D at 0x192717eb970>,\n",
       "  <matplotlib.lines.Line2D at 0x192717ebca0>,\n",
       "  <matplotlib.lines.Line2D at 0x19271804040>,\n",
       "  <matplotlib.lines.Line2D at 0x19271804370>,\n",
       "  <matplotlib.lines.Line2D at 0x1927180f6d0>,\n",
       "  <matplotlib.lines.Line2D at 0x1927180fa00>,\n",
       "  <matplotlib.lines.Line2D at 0x1927181bd60>,\n",
       "  <matplotlib.lines.Line2D at 0x192718280d0>,\n",
       "  <matplotlib.lines.Line2D at 0x19271835430>,\n",
       "  <matplotlib.lines.Line2D at 0x19271835760>,\n",
       "  <matplotlib.lines.Line2D at 0x19271841ac0>,\n",
       "  <matplotlib.lines.Line2D at 0x19271841df0>,\n",
       "  <matplotlib.lines.Line2D at 0x19271859190>,\n",
       "  <matplotlib.lines.Line2D at 0x192718594c0>,\n",
       "  <matplotlib.lines.Line2D at 0x19271865820>,\n",
       "  <matplotlib.lines.Line2D at 0x19271865b50>,\n",
       "  <matplotlib.lines.Line2D at 0x1927186feb0>,\n",
       "  <matplotlib.lines.Line2D at 0x1927187d220>,\n",
       "  <matplotlib.lines.Line2D at 0x1926e01b0a0>,\n",
       "  <matplotlib.lines.Line2D at 0x1926d181520>,\n",
       "  <matplotlib.lines.Line2D at 0x192697bebb0>,\n",
       "  <matplotlib.lines.Line2D at 0x1926b3b2eb0>],\n",
       " 'boxes': [<matplotlib.lines.Line2D at 0x19271689fd0>,\n",
       "  <matplotlib.lines.Line2D at 0x192716aa7c0>,\n",
       "  <matplotlib.lines.Line2D at 0x192716b6e50>,\n",
       "  <matplotlib.lines.Line2D at 0x192716ce520>,\n",
       "  <matplotlib.lines.Line2D at 0x192716dcbb0>,\n",
       "  <matplotlib.lines.Line2D at 0x192716f5280>,\n",
       "  <matplotlib.lines.Line2D at 0x192716ff910>,\n",
       "  <matplotlib.lines.Line2D at 0x1927170bfa0>,\n",
       "  <matplotlib.lines.Line2D at 0x19271725670>,\n",
       "  <matplotlib.lines.Line2D at 0x19271732d00>,\n",
       "  <matplotlib.lines.Line2D at 0x1927174a3d0>,\n",
       "  <matplotlib.lines.Line2D at 0x19271757a60>,\n",
       "  <matplotlib.lines.Line2D at 0x19271770130>,\n",
       "  <matplotlib.lines.Line2D at 0x1927177c7c0>,\n",
       "  <matplotlib.lines.Line2D at 0x19271787e50>,\n",
       "  <matplotlib.lines.Line2D at 0x192717a0520>,\n",
       "  <matplotlib.lines.Line2D at 0x192717acbb0>,\n",
       "  <matplotlib.lines.Line2D at 0x192717c3280>,\n",
       "  <matplotlib.lines.Line2D at 0x192717d1910>,\n",
       "  <matplotlib.lines.Line2D at 0x192717ddfa0>,\n",
       "  <matplotlib.lines.Line2D at 0x192717f6670>,\n",
       "  <matplotlib.lines.Line2D at 0x19271804d00>,\n",
       "  <matplotlib.lines.Line2D at 0x1927181b3d0>,\n",
       "  <matplotlib.lines.Line2D at 0x19271828a60>,\n",
       "  <matplotlib.lines.Line2D at 0x19271841130>,\n",
       "  <matplotlib.lines.Line2D at 0x1927184d7c0>,\n",
       "  <matplotlib.lines.Line2D at 0x19271859e50>,\n",
       "  <matplotlib.lines.Line2D at 0x1927186f520>,\n",
       "  <matplotlib.lines.Line2D at 0x1926d4558e0>,\n",
       "  <matplotlib.lines.Line2D at 0x1926d331220>],\n",
       " 'medians': [<matplotlib.lines.Line2D at 0x192716aa130>,\n",
       "  <matplotlib.lines.Line2D at 0x192716b67f0>,\n",
       "  <matplotlib.lines.Line2D at 0x192716c4e80>,\n",
       "  <matplotlib.lines.Line2D at 0x192716dc550>,\n",
       "  <matplotlib.lines.Line2D at 0x192716e6be0>,\n",
       "  <matplotlib.lines.Line2D at 0x192716ff2b0>,\n",
       "  <matplotlib.lines.Line2D at 0x1927170b940>,\n",
       "  <matplotlib.lines.Line2D at 0x19271719fd0>,\n",
       "  <matplotlib.lines.Line2D at 0x192717326a0>,\n",
       "  <matplotlib.lines.Line2D at 0x1927173ed30>,\n",
       "  <matplotlib.lines.Line2D at 0x19271757400>,\n",
       "  <matplotlib.lines.Line2D at 0x19271762a90>,\n",
       "  <matplotlib.lines.Line2D at 0x1927177c160>,\n",
       "  <matplotlib.lines.Line2D at 0x192717877f0>,\n",
       "  <matplotlib.lines.Line2D at 0x19271794e80>,\n",
       "  <matplotlib.lines.Line2D at 0x192717ac550>,\n",
       "  <matplotlib.lines.Line2D at 0x192717b8be0>,\n",
       "  <matplotlib.lines.Line2D at 0x192717d12b0>,\n",
       "  <matplotlib.lines.Line2D at 0x192717dd940>,\n",
       "  <matplotlib.lines.Line2D at 0x192717ebfd0>,\n",
       "  <matplotlib.lines.Line2D at 0x192718046a0>,\n",
       "  <matplotlib.lines.Line2D at 0x1927180fd30>,\n",
       "  <matplotlib.lines.Line2D at 0x19271828400>,\n",
       "  <matplotlib.lines.Line2D at 0x19271835a90>,\n",
       "  <matplotlib.lines.Line2D at 0x1927184d160>,\n",
       "  <matplotlib.lines.Line2D at 0x192718597f0>,\n",
       "  <matplotlib.lines.Line2D at 0x19271865e80>,\n",
       "  <matplotlib.lines.Line2D at 0x1926d656700>,\n",
       "  <matplotlib.lines.Line2D at 0x1926e020760>,\n",
       "  <matplotlib.lines.Line2D at 0x1926a0c60a0>],\n",
       " 'fliers': [<matplotlib.lines.Line2D at 0x192716aa490>,\n",
       "  <matplotlib.lines.Line2D at 0x192716b6b20>,\n",
       "  <matplotlib.lines.Line2D at 0x192716ce1f0>,\n",
       "  <matplotlib.lines.Line2D at 0x192716dc880>,\n",
       "  <matplotlib.lines.Line2D at 0x192716e6f10>,\n",
       "  <matplotlib.lines.Line2D at 0x192716ff5e0>,\n",
       "  <matplotlib.lines.Line2D at 0x1927170bc70>,\n",
       "  <matplotlib.lines.Line2D at 0x19271725340>,\n",
       "  <matplotlib.lines.Line2D at 0x192717329d0>,\n",
       "  <matplotlib.lines.Line2D at 0x1927174a0a0>,\n",
       "  <matplotlib.lines.Line2D at 0x19271757730>,\n",
       "  <matplotlib.lines.Line2D at 0x19271762dc0>,\n",
       "  <matplotlib.lines.Line2D at 0x1927177c490>,\n",
       "  <matplotlib.lines.Line2D at 0x19271787b20>,\n",
       "  <matplotlib.lines.Line2D at 0x192717a01f0>,\n",
       "  <matplotlib.lines.Line2D at 0x192717ac880>,\n",
       "  <matplotlib.lines.Line2D at 0x192717b8f10>,\n",
       "  <matplotlib.lines.Line2D at 0x192717d15e0>,\n",
       "  <matplotlib.lines.Line2D at 0x192717ddc70>,\n",
       "  <matplotlib.lines.Line2D at 0x192717f6340>,\n",
       "  <matplotlib.lines.Line2D at 0x192718049d0>,\n",
       "  <matplotlib.lines.Line2D at 0x1927181b0a0>,\n",
       "  <matplotlib.lines.Line2D at 0x19271828730>,\n",
       "  <matplotlib.lines.Line2D at 0x19271835dc0>,\n",
       "  <matplotlib.lines.Line2D at 0x1927184d490>,\n",
       "  <matplotlib.lines.Line2D at 0x19271859b20>,\n",
       "  <matplotlib.lines.Line2D at 0x1927186f1f0>,\n",
       "  <matplotlib.lines.Line2D at 0x1926b550910>,\n",
       "  <matplotlib.lines.Line2D at 0x1926d24aeb0>,\n",
       "  <matplotlib.lines.Line2D at 0x192706c4400>],\n",
       " 'means': []}"
      ]
     },
     "execution_count": 266,
     "metadata": {},
     "output_type": "execute_result"
    },
    {
     "data": {
      "image/png": "[encoded data removed]",
      "text/plain": [
       "<Figure size 432x288 with 1 Axes>"
      ]
     },
     "metadata": {
      "needs_background": "light"
     },
     "output_type": "display_data"
    }
   ],
   "source": [
    "plt.boxplot(X)"
   ]
  },
  {
   "cell_type": "markdown",
   "metadata": {},
   "source": [
    "By giving a first look to the boxplot output the first thing that comes to mind is that it is not well scaled so lest scale it so we can get more information."
   ]
  },
  {
   "cell_type": "code",
   "execution_count": 178,
   "metadata": {},
   "outputs": [],
   "source": [
    "from sklearn.preprocessing import MinMaxScaler\n",
    "\n",
    "miScaler = MinMaxScaler()\n",
    "X = miScaler.fit_transform(X)"
   ]
  },
  {
   "cell_type": "code",
   "execution_count": 179,
   "metadata": {},
   "outputs": [
    {
     "data": {
      "text/plain": [
       "{'whiskers': [<matplotlib.lines.Line2D at 0x1926e098f70>,\n",
       "  <matplotlib.lines.Line2D at 0x1926e0ab310>,\n",
       "  <matplotlib.lines.Line2D at 0x1926e0b9790>,\n",
       "  <matplotlib.lines.Line2D at 0x1926e0b9af0>,\n",
       "  <matplotlib.lines.Line2D at 0x1926e0c4f70>,\n",
       "  <matplotlib.lines.Line2D at 0x1926e0cf310>,\n",
       "  <matplotlib.lines.Line2D at 0x1926e0dd790>,\n",
       "  <matplotlib.lines.Line2D at 0x1926e0ddaf0>,\n",
       "  <matplotlib.lines.Line2D at 0x1926e0e9f70>,\n",
       "  <matplotlib.lines.Line2D at 0x1926e0f1310>,\n",
       "  <matplotlib.lines.Line2D at 0x1926e0fe790>,\n",
       "  <matplotlib.lines.Line2D at 0x1926e0feaf0>,\n",
       "  <matplotlib.lines.Line2D at 0x1926e10af70>,\n",
       "  <matplotlib.lines.Line2D at 0x1926e114310>,\n",
       "  <matplotlib.lines.Line2D at 0x1926e122790>,\n",
       "  <matplotlib.lines.Line2D at 0x1926e122af0>,\n",
       "  <matplotlib.lines.Line2D at 0x1926e12cf70>,\n",
       "  <matplotlib.lines.Line2D at 0x1926e137310>,\n",
       "  <matplotlib.lines.Line2D at 0x1926e146790>,\n",
       "  <matplotlib.lines.Line2D at 0x1926e146af0>,\n",
       "  <matplotlib.lines.Line2D at 0x1926e151f70>,\n",
       "  <matplotlib.lines.Line2D at 0x1926e15b310>,\n",
       "  <matplotlib.lines.Line2D at 0x1926e168790>,\n",
       "  <matplotlib.lines.Line2D at 0x1926e168af0>,\n",
       "  <matplotlib.lines.Line2D at 0x1926e174f70>,\n",
       "  <matplotlib.lines.Line2D at 0x1926e17d310>,\n",
       "  <matplotlib.lines.Line2D at 0x1926e18a790>,\n",
       "  <matplotlib.lines.Line2D at 0x1926e18aaf0>,\n",
       "  <matplotlib.lines.Line2D at 0x1926e196f70>,\n",
       "  <matplotlib.lines.Line2D at 0x1926e1a0310>,\n",
       "  <matplotlib.lines.Line2D at 0x1926e1ae790>,\n",
       "  <matplotlib.lines.Line2D at 0x1926e1aeaf0>,\n",
       "  <matplotlib.lines.Line2D at 0x1926e1b8f70>,\n",
       "  <matplotlib.lines.Line2D at 0x1926e1c4310>,\n",
       "  <matplotlib.lines.Line2D at 0x1926e1d0790>,\n",
       "  <matplotlib.lines.Line2D at 0x1926e1d0af0>,\n",
       "  <matplotlib.lines.Line2D at 0x1926e1dcf70>,\n",
       "  <matplotlib.lines.Line2D at 0x1926e1e7310>,\n",
       "  <matplotlib.lines.Line2D at 0x1926e1f4790>,\n",
       "  <matplotlib.lines.Line2D at 0x1926e1f4af0>,\n",
       "  <matplotlib.lines.Line2D at 0x1926e200f70>,\n",
       "  <matplotlib.lines.Line2D at 0x1926e20a310>,\n",
       "  <matplotlib.lines.Line2D at 0x1926e217790>,\n",
       "  <matplotlib.lines.Line2D at 0x1926e217af0>,\n",
       "  <matplotlib.lines.Line2D at 0x1926e223f70>,\n",
       "  <matplotlib.lines.Line2D at 0x1926e22d310>,\n",
       "  <matplotlib.lines.Line2D at 0x1926e239790>,\n",
       "  <matplotlib.lines.Line2D at 0x1926e239af0>,\n",
       "  <matplotlib.lines.Line2D at 0x1926e244f70>,\n",
       "  <matplotlib.lines.Line2D at 0x1926e250310>,\n",
       "  <matplotlib.lines.Line2D at 0x1926e25d790>,\n",
       "  <matplotlib.lines.Line2D at 0x1926e25daf0>,\n",
       "  <matplotlib.lines.Line2D at 0x1926e269f70>,\n",
       "  <matplotlib.lines.Line2D at 0x1926e272310>,\n",
       "  <matplotlib.lines.Line2D at 0x1926e280790>,\n",
       "  <matplotlib.lines.Line2D at 0x1926e280af0>,\n",
       "  <matplotlib.lines.Line2D at 0x1926e28be50>,\n",
       "  <matplotlib.lines.Line2D at 0x1926e2961c0>,\n",
       "  <matplotlib.lines.Line2D at 0x1926e2a3520>,\n",
       "  <matplotlib.lines.Line2D at 0x1926e2a3850>],\n",
       " 'caps': [<matplotlib.lines.Line2D at 0x1926e0ab670>,\n",
       "  <matplotlib.lines.Line2D at 0x1926e0ab9d0>,\n",
       "  <matplotlib.lines.Line2D at 0x1926e0b9e50>,\n",
       "  <matplotlib.lines.Line2D at 0x1926e0c41f0>,\n",
       "  <matplotlib.lines.Line2D at 0x1926e0cf670>,\n",
       "  <matplotlib.lines.Line2D at 0x1926e0cf9d0>,\n",
       "  <matplotlib.lines.Line2D at 0x1926e0dde50>,\n",
       "  <matplotlib.lines.Line2D at 0x1926e0e91f0>,\n",
       "  <matplotlib.lines.Line2D at 0x1926e0f1670>,\n",
       "  <matplotlib.lines.Line2D at 0x1926e0f19d0>,\n",
       "  <matplotlib.lines.Line2D at 0x1926e0fee50>,\n",
       "  <matplotlib.lines.Line2D at 0x1926e10a1f0>,\n",
       "  <matplotlib.lines.Line2D at 0x1926e114670>,\n",
       "  <matplotlib.lines.Line2D at 0x1926e1149d0>,\n",
       "  <matplotlib.lines.Line2D at 0x1926e122e50>,\n",
       "  <matplotlib.lines.Line2D at 0x1926e12c1f0>,\n",
       "  <matplotlib.lines.Line2D at 0x1926e137670>,\n",
       "  <matplotlib.lines.Line2D at 0x1926e1379d0>,\n",
       "  <matplotlib.lines.Line2D at 0x1926e146e50>,\n",
       "  <matplotlib.lines.Line2D at 0x1926e1511f0>,\n",
       "  <matplotlib.lines.Line2D at 0x1926e15b670>,\n",
       "  <matplotlib.lines.Line2D at 0x1926e15b9d0>,\n",
       "  <matplotlib.lines.Line2D at 0x1926e168e50>,\n",
       "  <matplotlib.lines.Line2D at 0x1926e1741f0>,\n",
       "  <matplotlib.lines.Line2D at 0x1926e17d670>,\n",
       "  <matplotlib.lines.Line2D at 0x1926e17d9d0>,\n",
       "  <matplotlib.lines.Line2D at 0x1926e18ae50>,\n",
       "  <matplotlib.lines.Line2D at 0x1926e1961f0>,\n",
       "  <matplotlib.lines.Line2D at 0x1926e1a0670>,\n",
       "  <matplotlib.lines.Line2D at 0x1926e1a09d0>,\n",
       "  <matplotlib.lines.Line2D at 0x1926e1aee50>,\n",
       "  <matplotlib.lines.Line2D at 0x1926e1b81f0>,\n",
       "  <matplotlib.lines.Line2D at 0x1926e1c4670>,\n",
       "  <matplotlib.lines.Line2D at 0x1926e1c49d0>,\n",
       "  <matplotlib.lines.Line2D at 0x1926e1d0e50>,\n",
       "  <matplotlib.lines.Line2D at 0x1926e1dc1f0>,\n",
       "  <matplotlib.lines.Line2D at 0x1926e1e7670>,\n",
       "  <matplotlib.lines.Line2D at 0x1926e1e79d0>,\n",
       "  <matplotlib.lines.Line2D at 0x1926e1f4e50>,\n",
       "  <matplotlib.lines.Line2D at 0x1926e2001f0>,\n",
       "  <matplotlib.lines.Line2D at 0x1926e20a670>,\n",
       "  <matplotlib.lines.Line2D at 0x1926e20a9d0>,\n",
       "  <matplotlib.lines.Line2D at 0x1926e217e50>,\n",
       "  <matplotlib.lines.Line2D at 0x1926e2231f0>,\n",
       "  <matplotlib.lines.Line2D at 0x1926e22d670>,\n",
       "  <matplotlib.lines.Line2D at 0x1926e22d9d0>,\n",
       "  <matplotlib.lines.Line2D at 0x1926e239e50>,\n",
       "  <matplotlib.lines.Line2D at 0x1926e2441f0>,\n",
       "  <matplotlib.lines.Line2D at 0x1926e250670>,\n",
       "  <matplotlib.lines.Line2D at 0x1926e2509d0>,\n",
       "  <matplotlib.lines.Line2D at 0x1926e25de50>,\n",
       "  <matplotlib.lines.Line2D at 0x1926e2691f0>,\n",
       "  <matplotlib.lines.Line2D at 0x1926e272670>,\n",
       "  <matplotlib.lines.Line2D at 0x1926e2729d0>,\n",
       "  <matplotlib.lines.Line2D at 0x1926e280e20>,\n",
       "  <matplotlib.lines.Line2D at 0x1926e28b190>,\n",
       "  <matplotlib.lines.Line2D at 0x1926e2964f0>,\n",
       "  <matplotlib.lines.Line2D at 0x1926e296820>,\n",
       "  <matplotlib.lines.Line2D at 0x1926e2a3b80>,\n",
       "  <matplotlib.lines.Line2D at 0x1926e2a3eb0>],\n",
       " 'boxes': [<matplotlib.lines.Line2D at 0x1926e098c10>,\n",
       "  <matplotlib.lines.Line2D at 0x1926e0b9430>,\n",
       "  <matplotlib.lines.Line2D at 0x1926e0c4c10>,\n",
       "  <matplotlib.lines.Line2D at 0x1926e0dd430>,\n",
       "  <matplotlib.lines.Line2D at 0x1926e0e9c10>,\n",
       "  <matplotlib.lines.Line2D at 0x1926e0fe430>,\n",
       "  <matplotlib.lines.Line2D at 0x1926e10ac10>,\n",
       "  <matplotlib.lines.Line2D at 0x1926e122430>,\n",
       "  <matplotlib.lines.Line2D at 0x1926e12cc10>,\n",
       "  <matplotlib.lines.Line2D at 0x1926e146430>,\n",
       "  <matplotlib.lines.Line2D at 0x1926e151c10>,\n",
       "  <matplotlib.lines.Line2D at 0x1926e168430>,\n",
       "  <matplotlib.lines.Line2D at 0x1926e174c10>,\n",
       "  <matplotlib.lines.Line2D at 0x1926e18a430>,\n",
       "  <matplotlib.lines.Line2D at 0x1926e196c10>,\n",
       "  <matplotlib.lines.Line2D at 0x1926e1ae430>,\n",
       "  <matplotlib.lines.Line2D at 0x1926e1b8c10>,\n",
       "  <matplotlib.lines.Line2D at 0x1926e1d0430>,\n",
       "  <matplotlib.lines.Line2D at 0x1926e1dcc10>,\n",
       "  <matplotlib.lines.Line2D at 0x1926e1f4430>,\n",
       "  <matplotlib.lines.Line2D at 0x1926e200c10>,\n",
       "  <matplotlib.lines.Line2D at 0x1926e217430>,\n",
       "  <matplotlib.lines.Line2D at 0x1926e223c10>,\n",
       "  <matplotlib.lines.Line2D at 0x1926e239430>,\n",
       "  <matplotlib.lines.Line2D at 0x1926e244c10>,\n",
       "  <matplotlib.lines.Line2D at 0x1926e25d430>,\n",
       "  <matplotlib.lines.Line2D at 0x1926e269c10>,\n",
       "  <matplotlib.lines.Line2D at 0x1926e280430>,\n",
       "  <matplotlib.lines.Line2D at 0x1926e28bb20>,\n",
       "  <matplotlib.lines.Line2D at 0x1926e2a31f0>],\n",
       " 'medians': [<matplotlib.lines.Line2D at 0x1926e0abd30>,\n",
       "  <matplotlib.lines.Line2D at 0x1926e0c4550>,\n",
       "  <matplotlib.lines.Line2D at 0x1926e0cfd30>,\n",
       "  <matplotlib.lines.Line2D at 0x1926e0e9550>,\n",
       "  <matplotlib.lines.Line2D at 0x1926e0f1d30>,\n",
       "  <matplotlib.lines.Line2D at 0x1926e10a550>,\n",
       "  <matplotlib.lines.Line2D at 0x1926e114d30>,\n",
       "  <matplotlib.lines.Line2D at 0x1926e12c550>,\n",
       "  <matplotlib.lines.Line2D at 0x1926e137d30>,\n",
       "  <matplotlib.lines.Line2D at 0x1926e151550>,\n",
       "  <matplotlib.lines.Line2D at 0x1926e15bd30>,\n",
       "  <matplotlib.lines.Line2D at 0x1926e174550>,\n",
       "  <matplotlib.lines.Line2D at 0x1926e17dd30>,\n",
       "  <matplotlib.lines.Line2D at 0x1926e196550>,\n",
       "  <matplotlib.lines.Line2D at 0x1926e1a0d30>,\n",
       "  <matplotlib.lines.Line2D at 0x1926e1b8550>,\n",
       "  <matplotlib.lines.Line2D at 0x1926e1c4d30>,\n",
       "  <matplotlib.lines.Line2D at 0x1926e1dc550>,\n",
       "  <matplotlib.lines.Line2D at 0x1926e1e7d30>,\n",
       "  <matplotlib.lines.Line2D at 0x1926e200550>,\n",
       "  <matplotlib.lines.Line2D at 0x1926e20ad30>,\n",
       "  <matplotlib.lines.Line2D at 0x1926e223550>,\n",
       "  <matplotlib.lines.Line2D at 0x1926e22dd30>,\n",
       "  <matplotlib.lines.Line2D at 0x1926e244550>,\n",
       "  <matplotlib.lines.Line2D at 0x1926e250d30>,\n",
       "  <matplotlib.lines.Line2D at 0x1926e269550>,\n",
       "  <matplotlib.lines.Line2D at 0x1926e272d30>,\n",
       "  <matplotlib.lines.Line2D at 0x1926e28b4c0>,\n",
       "  <matplotlib.lines.Line2D at 0x1926e296b50>,\n",
       "  <matplotlib.lines.Line2D at 0x1926e2af220>],\n",
       " 'fliers': [<matplotlib.lines.Line2D at 0x1926e0b90d0>,\n",
       "  <matplotlib.lines.Line2D at 0x1926e0c48b0>,\n",
       "  <matplotlib.lines.Line2D at 0x1926e0dd0d0>,\n",
       "  <matplotlib.lines.Line2D at 0x1926e0e98b0>,\n",
       "  <matplotlib.lines.Line2D at 0x1926e0fe0d0>,\n",
       "  <matplotlib.lines.Line2D at 0x1926e10a8b0>,\n",
       "  <matplotlib.lines.Line2D at 0x1926e1220d0>,\n",
       "  <matplotlib.lines.Line2D at 0x1926e12c8b0>,\n",
       "  <matplotlib.lines.Line2D at 0x1926e1460d0>,\n",
       "  <matplotlib.lines.Line2D at 0x1926e1518b0>,\n",
       "  <matplotlib.lines.Line2D at 0x1926e1680d0>,\n",
       "  <matplotlib.lines.Line2D at 0x1926e1748b0>,\n",
       "  <matplotlib.lines.Line2D at 0x1926e18a0d0>,\n",
       "  <matplotlib.lines.Line2D at 0x1926e1968b0>,\n",
       "  <matplotlib.lines.Line2D at 0x1926e1ae0d0>,\n",
       "  <matplotlib.lines.Line2D at 0x1926e1b88b0>,\n",
       "  <matplotlib.lines.Line2D at 0x1926e1d00d0>,\n",
       "  <matplotlib.lines.Line2D at 0x1926e1dc8b0>,\n",
       "  <matplotlib.lines.Line2D at 0x1926e1f40d0>,\n",
       "  <matplotlib.lines.Line2D at 0x1926e2008b0>,\n",
       "  <matplotlib.lines.Line2D at 0x1926e2170d0>,\n",
       "  <matplotlib.lines.Line2D at 0x1926e2238b0>,\n",
       "  <matplotlib.lines.Line2D at 0x1926e2390d0>,\n",
       "  <matplotlib.lines.Line2D at 0x1926e2448b0>,\n",
       "  <matplotlib.lines.Line2D at 0x1926e25d0d0>,\n",
       "  <matplotlib.lines.Line2D at 0x1926e2698b0>,\n",
       "  <matplotlib.lines.Line2D at 0x1926e2800d0>,\n",
       "  <matplotlib.lines.Line2D at 0x1926e28b7f0>,\n",
       "  <matplotlib.lines.Line2D at 0x1926e296e80>,\n",
       "  <matplotlib.lines.Line2D at 0x1926e2af550>],\n",
       " 'means': []}"
      ]
     },
     "execution_count": 179,
     "metadata": {},
     "output_type": "execute_result"
    },
    {
     "data": {
      "image/png": "[encoded data removed]",
      "text/plain": [
       "<Figure size 432x288 with 1 Axes>"
      ]
     },
     "metadata": {
      "needs_background": "light"
     },
     "output_type": "display_data"
    }
   ],
   "source": [
    "plt.boxplot(X)"
   ]
  },
  {
   "cell_type": "markdown",
   "metadata": {},
   "source": [
    "By looking at the boxplot we could think that there are a lot of outliers, in order to try and detect them we are going to perfomr the IRQ method that uses de first and third percentile to isolate the outliers. \n",
    "By doing this it does not mean that the outliers we detect has to be outliers because we dont have information about wich kind of value we can find in the dataset.\n",
    "We dont really know if a value of 1.5 is an outlier for the feature number 22 for example, we could think it is an outlier but maybe it is a key value to determine the type of cancer, so in order to eliminate the outliers with a good knowledge we would have to ask someone that knows the values and that can explain us the range in the value we have in each feature."
   ]
  },
  {
   "cell_type": "code",
   "execution_count": 180,
   "metadata": {},
   "outputs": [
    {
     "data": {
      "text/html": [
       "<div>\n",
       "<style scoped>\n",
       "    .dataframe tbody tr th:only-of-type {\n",
       "        vertical-align: middle;\n",
       "    }\n",
       "\n",
       "    .dataframe tbody tr th {\n",
       "        vertical-align: top;\n",
       "    }\n",
       "\n",
       "    .dataframe thead th {\n",
       "        text-align: right;\n",
       "    }\n",
       "</style>\n",
       "<table border=\"1\" class=\"dataframe\">\n",
       "  <thead>\n",
       "    <tr style=\"text-align: right;\">\n",
       "      <th></th>\n",
       "      <th>mean radius</th>\n",
       "      <th>mean texture</th>\n",
       "      <th>mean perimeter</th>\n",
       "      <th>mean area</th>\n",
       "      <th>mean smoothness</th>\n",
       "      <th>mean compactness</th>\n",
       "      <th>mean concavity</th>\n",
       "      <th>mean concave points</th>\n",
       "      <th>mean symmetry</th>\n",
       "      <th>mean fractal dimension</th>\n",
       "      <th>...</th>\n",
       "      <th>worst radius</th>\n",
       "      <th>worst texture</th>\n",
       "      <th>worst perimeter</th>\n",
       "      <th>worst area</th>\n",
       "      <th>worst smoothness</th>\n",
       "      <th>worst compactness</th>\n",
       "      <th>worst concavity</th>\n",
       "      <th>worst concave points</th>\n",
       "      <th>worst symmetry</th>\n",
       "      <th>worst fractal dimension</th>\n",
       "    </tr>\n",
       "  </thead>\n",
       "  <tbody>\n",
       "    <tr>\n",
       "      <th>0</th>\n",
       "      <td>0.521037</td>\n",
       "      <td>0.022658</td>\n",
       "      <td>0.545989</td>\n",
       "      <td>0.363733</td>\n",
       "      <td>0.593753</td>\n",
       "      <td>0.792037</td>\n",
       "      <td>0.703140</td>\n",
       "      <td>0.731113</td>\n",
       "      <td>0.686364</td>\n",
       "      <td>0.605518</td>\n",
       "      <td>...</td>\n",
       "      <td>0.620776</td>\n",
       "      <td>0.141525</td>\n",
       "      <td>0.668310</td>\n",
       "      <td>0.450698</td>\n",
       "      <td>0.601136</td>\n",
       "      <td>0.619292</td>\n",
       "      <td>0.568610</td>\n",
       "      <td>0.912027</td>\n",
       "      <td>0.598462</td>\n",
       "      <td>0.418864</td>\n",
       "    </tr>\n",
       "    <tr>\n",
       "      <th>1</th>\n",
       "      <td>0.643144</td>\n",
       "      <td>0.272574</td>\n",
       "      <td>0.615783</td>\n",
       "      <td>0.501591</td>\n",
       "      <td>0.289880</td>\n",
       "      <td>0.181768</td>\n",
       "      <td>0.203608</td>\n",
       "      <td>0.348757</td>\n",
       "      <td>0.379798</td>\n",
       "      <td>0.141323</td>\n",
       "      <td>...</td>\n",
       "      <td>0.606901</td>\n",
       "      <td>0.303571</td>\n",
       "      <td>0.539818</td>\n",
       "      <td>0.435214</td>\n",
       "      <td>0.347553</td>\n",
       "      <td>0.154563</td>\n",
       "      <td>0.192971</td>\n",
       "      <td>0.639175</td>\n",
       "      <td>0.233590</td>\n",
       "      <td>0.222878</td>\n",
       "    </tr>\n",
       "    <tr>\n",
       "      <th>2</th>\n",
       "      <td>0.601496</td>\n",
       "      <td>0.390260</td>\n",
       "      <td>0.595743</td>\n",
       "      <td>0.449417</td>\n",
       "      <td>0.514309</td>\n",
       "      <td>0.431017</td>\n",
       "      <td>0.462512</td>\n",
       "      <td>0.635686</td>\n",
       "      <td>0.509596</td>\n",
       "      <td>0.211247</td>\n",
       "      <td>...</td>\n",
       "      <td>0.556386</td>\n",
       "      <td>0.360075</td>\n",
       "      <td>0.508442</td>\n",
       "      <td>0.374508</td>\n",
       "      <td>0.483590</td>\n",
       "      <td>0.385375</td>\n",
       "      <td>0.359744</td>\n",
       "      <td>0.835052</td>\n",
       "      <td>0.403706</td>\n",
       "      <td>0.213433</td>\n",
       "    </tr>\n",
       "    <tr>\n",
       "      <th>3</th>\n",
       "      <td>0.210090</td>\n",
       "      <td>0.360839</td>\n",
       "      <td>0.233501</td>\n",
       "      <td>0.102906</td>\n",
       "      <td>0.811321</td>\n",
       "      <td>0.811361</td>\n",
       "      <td>0.565604</td>\n",
       "      <td>0.522863</td>\n",
       "      <td>0.776263</td>\n",
       "      <td>1.000000</td>\n",
       "      <td>...</td>\n",
       "      <td>0.248310</td>\n",
       "      <td>0.385928</td>\n",
       "      <td>0.241347</td>\n",
       "      <td>0.094008</td>\n",
       "      <td>0.915472</td>\n",
       "      <td>0.814012</td>\n",
       "      <td>0.548642</td>\n",
       "      <td>0.884880</td>\n",
       "      <td>1.000000</td>\n",
       "      <td>0.773711</td>\n",
       "    </tr>\n",
       "    <tr>\n",
       "      <th>4</th>\n",
       "      <td>0.629893</td>\n",
       "      <td>0.156578</td>\n",
       "      <td>0.630986</td>\n",
       "      <td>0.489290</td>\n",
       "      <td>0.430351</td>\n",
       "      <td>0.347893</td>\n",
       "      <td>0.463918</td>\n",
       "      <td>0.518390</td>\n",
       "      <td>0.378283</td>\n",
       "      <td>0.186816</td>\n",
       "      <td>...</td>\n",
       "      <td>0.519744</td>\n",
       "      <td>0.123934</td>\n",
       "      <td>0.506948</td>\n",
       "      <td>0.341575</td>\n",
       "      <td>0.437364</td>\n",
       "      <td>0.172415</td>\n",
       "      <td>0.319489</td>\n",
       "      <td>0.558419</td>\n",
       "      <td>0.157500</td>\n",
       "      <td>0.142595</td>\n",
       "    </tr>\n",
       "  </tbody>\n",
       "</table>\n",
       "<p>5 rows × 30 columns</p>\n",
       "</div>"
      ],
      "text/plain": [
       "   mean radius  mean texture  mean perimeter  mean area  mean smoothness  \\\n",
       "0     0.521037      0.022658        0.545989   0.363733         0.593753   \n",
       "1     0.643144      0.272574        0.615783   0.501591         0.289880   \n",
       "2     0.601496      0.390260        0.595743   0.449417         0.514309   \n",
       "3     0.210090      0.360839        0.233501   0.102906         0.811321   \n",
       "4     0.629893      0.156578        0.630986   0.489290         0.430351   \n",
       "\n",
       "   mean compactness  mean concavity  mean concave points  mean symmetry  \\\n",
       "0          0.792037        0.703140             0.731113       0.686364   \n",
       "1          0.181768        0.203608             0.348757       0.379798   \n",
       "2          0.431017        0.462512             0.635686       0.509596   \n",
       "3          0.811361        0.565604             0.522863       0.776263   \n",
       "4          0.347893        0.463918             0.518390       0.378283   \n",
       "\n",
       "   mean fractal dimension  ...  worst radius  worst texture  worst perimeter  \\\n",
       "0                0.605518  ...      0.620776       0.141525         0.668310   \n",
       "1                0.141323  ...      0.606901       0.303571         0.539818   \n",
       "2                0.211247  ...      0.556386       0.360075         0.508442   \n",
       "3                1.000000  ...      0.248310       0.385928         0.241347   \n",
       "4                0.186816  ...      0.519744       0.123934         0.506948   \n",
       "\n",
       "   worst area  worst smoothness  worst compactness  worst concavity  \\\n",
       "0    0.450698          0.601136           0.619292         0.568610   \n",
       "1    0.435214          0.347553           0.154563         0.192971   \n",
       "2    0.374508          0.483590           0.385375         0.359744   \n",
       "3    0.094008          0.915472           0.814012         0.548642   \n",
       "4    0.341575          0.437364           0.172415         0.319489   \n",
       "\n",
       "   worst concave points  worst symmetry  worst fractal dimension  \n",
       "0              0.912027        0.598462                 0.418864  \n",
       "1              0.639175        0.233590                 0.222878  \n",
       "2              0.835052        0.403706                 0.213433  \n",
       "3              0.884880        1.000000                 0.773711  \n",
       "4              0.558419        0.157500                 0.142595  \n",
       "\n",
       "[5 rows x 30 columns]"
      ]
     },
     "execution_count": 180,
     "metadata": {},
     "output_type": "execute_result"
    }
   ],
   "source": [
    "# In order to operate with the data we are going to use dataframes\n",
    "cancer_df = pd.DataFrame(X)\n",
    "cancer_df.columns = columns\n",
    "cancer_df.head()"
   ]
  },
  {
   "cell_type": "code",
   "execution_count": 181,
   "metadata": {},
   "outputs": [
    {
     "data": {
      "text/plain": [
       "(569, 30)"
      ]
     },
     "execution_count": 181,
     "metadata": {},
     "output_type": "execute_result"
    }
   ],
   "source": [
    "# get the shape of the cancer dataframe\n",
    "cancer_df.shape"
   ]
  },
  {
   "cell_type": "markdown",
   "metadata": {},
   "source": [
    "- IRQ method for outlier detection"
   ]
  },
  {
   "cell_type": "code",
   "execution_count": 182,
   "metadata": {},
   "outputs": [
    {
     "name": "stdout",
     "output_type": "stream",
     "text": [
      "mean radius                0.193100\n",
      "mean texture               0.190396\n",
      "mean perimeter             0.199917\n",
      "mean area                  0.153722\n",
      "mean smoothness            0.170895\n",
      "mean compactness           0.200847\n",
      "mean concavity             0.236973\n",
      "mean concave points        0.266849\n",
      "mean symmetry              0.170707\n",
      "mean fractal dimension     0.177338\n",
      "radius error               0.089263\n",
      "texture error              0.141465\n",
      "perimeter error            0.082505\n",
      "area error                 0.051065\n",
      "smoothness error           0.101200\n",
      "compactness error          0.145477\n",
      "concavity error            0.068081\n",
      "concave points error       0.133965\n",
      "symmetry error             0.117071\n",
      "fractal dimension error    0.079806\n",
      "worst radius               0.205621\n",
      "worst texture              0.230277\n",
      "worst perimeter            0.205638\n",
      "worst area                 0.139771\n",
      "worst smoothness           0.194149\n",
      "worst compactness          0.186182\n",
      "worst concavity            0.214377\n",
      "worst concave points       0.331512\n",
      "worst symmetry             0.133057\n",
      "worst fractal dimension    0.135249\n",
      "dtype: float64\n"
     ]
    }
   ],
   "source": [
    "# get first Q\n",
    "Q1 = cancer_df.quantile(0.25)\n",
    "# get third Q\n",
    "Q3 = cancer_df.quantile(0.75)\n",
    "# get IRQ value for every feature\n",
    "IQR = Q3 - Q1\n",
    "print(IQR)"
   ]
  },
  {
   "cell_type": "code",
   "execution_count": 183,
   "metadata": {},
   "outputs": [
    {
     "name": "stdout",
     "output_type": "stream",
     "text": [
      "     mean radius  mean texture  mean perimeter  mean area  mean smoothness  \\\n",
      "0          False         False           False      False            False   \n",
      "1          False         False           False      False            False   \n",
      "2          False         False           False      False            False   \n",
      "3          False         False           False      False             True   \n",
      "4          False         False           False      False            False   \n",
      "..           ...           ...             ...        ...              ...   \n",
      "564        False         False           False       True            False   \n",
      "565        False         False           False      False            False   \n",
      "566        False         False           False      False            False   \n",
      "567        False         False           False      False            False   \n",
      "568        False         False           False      False             True   \n",
      "\n",
      "     mean compactness  mean concavity  mean concave points  mean symmetry  \\\n",
      "0                True            True                False          False   \n",
      "1               False           False                False          False   \n",
      "2               False           False                False          False   \n",
      "3                True           False                False           True   \n",
      "4               False           False                False          False   \n",
      "..                ...             ...                  ...            ...   \n",
      "564             False           False                False          False   \n",
      "565             False           False                False          False   \n",
      "566             False           False                False          False   \n",
      "567              True            True                False          False   \n",
      "568             False           False                False          False   \n",
      "\n",
      "     mean fractal dimension  ...  worst radius  worst texture  \\\n",
      "0                     False  ...         False          False   \n",
      "1                     False  ...         False          False   \n",
      "2                     False  ...         False          False   \n",
      "3                      True  ...         False          False   \n",
      "4                     False  ...         False          False   \n",
      "..                      ...  ...           ...            ...   \n",
      "564                   False  ...         False          False   \n",
      "565                   False  ...         False          False   \n",
      "566                   False  ...         False          False   \n",
      "567                   False  ...         False          False   \n",
      "568                   False  ...         False          False   \n",
      "\n",
      "     worst perimeter  worst area  worst smoothness  worst compactness  \\\n",
      "0              False        True             False               True   \n",
      "1              False        True             False              False   \n",
      "2              False       False             False              False   \n",
      "3              False       False              True               True   \n",
      "4              False       False             False              False   \n",
      "..               ...         ...               ...                ...   \n",
      "564            False        True             False              False   \n",
      "565            False       False             False              False   \n",
      "566            False       False             False              False   \n",
      "567            False       False             False               True   \n",
      "568            False       False             False              False   \n",
      "\n",
      "     worst concavity  worst concave points  worst symmetry  \\\n",
      "0              False                 False            True   \n",
      "1              False                 False           False   \n",
      "2              False                 False           False   \n",
      "3              False                 False            True   \n",
      "4              False                 False           False   \n",
      "..               ...                   ...             ...   \n",
      "564            False                 False           False   \n",
      "565            False                 False           False   \n",
      "566            False                 False           False   \n",
      "567             True                 False           False   \n",
      "568            False                 False           False   \n",
      "\n",
      "     worst fractal dimension  \n",
      "0                      False  \n",
      "1                      False  \n",
      "2                      False  \n",
      "3                       True  \n",
      "4                      False  \n",
      "..                       ...  \n",
      "564                    False  \n",
      "565                    False  \n",
      "566                    False  \n",
      "567                     True  \n",
      "568                    False  \n",
      "\n",
      "[569 rows x 30 columns]\n"
     ]
    }
   ],
   "source": [
    "# print outliers in the dataframe\n",
    "print((cancer_df < (Q1 - 1.5 * IQR)) |(cancer_df > (Q3 + 1.5 * IQR)))"
   ]
  },
  {
   "cell_type": "code",
   "execution_count": 184,
   "metadata": {},
   "outputs": [],
   "source": [
    "# get the outliers in a different dataset\n",
    "cancer_outliers = cancer_df[((cancer_df < (Q1 - 1.5 * IQR)) |(cancer_df > (Q3 + 1.5 * IQR))).any(axis=1)]"
   ]
  },
  {
   "cell_type": "code",
   "execution_count": 185,
   "metadata": {},
   "outputs": [
    {
     "data": {
      "text/plain": [
       "(171, 30)"
      ]
     },
     "execution_count": 185,
     "metadata": {},
     "output_type": "execute_result"
    }
   ],
   "source": [
    "cancer_outliers.shape"
   ]
  },
  {
   "cell_type": "code",
   "execution_count": 186,
   "metadata": {},
   "outputs": [],
   "source": [
    "# get the original dataset without the outliers\n",
    "cancer_df_out = cancer_df[~((cancer_df < (Q1 - 1.5 * IQR)) |(cancer_df > (Q3 + 1.5 * IQR))).any(axis=1)]"
   ]
  },
  {
   "cell_type": "code",
   "execution_count": 187,
   "metadata": {},
   "outputs": [
    {
     "data": {
      "text/plain": [
       "(398, 30)"
      ]
     },
     "execution_count": 187,
     "metadata": {},
     "output_type": "execute_result"
    }
   ],
   "source": [
    "cancer_df_out.shape"
   ]
  },
  {
   "cell_type": "markdown",
   "metadata": {},
   "source": [
    "- In order to keep visualizing the data we are going to analyce how each feature affects to the diagnosis."
   ]
  },
  {
   "cell_type": "markdown",
   "metadata": {},
   "source": [
    "First we are going to add the 'y' variable with the type of cancer to the features dataset"
   ]
  },
  {
   "cell_type": "code",
   "execution_count": 188,
   "metadata": {},
   "outputs": [],
   "source": [
    "df_cancer_corr = cancer_df"
   ]
  },
  {
   "cell_type": "code",
   "execution_count": 189,
   "metadata": {},
   "outputs": [
    {
     "data": {
      "text/html": [
       "<div>\n",
       "<style scoped>\n",
       "    .dataframe tbody tr th:only-of-type {\n",
       "        vertical-align: middle;\n",
       "    }\n",
       "\n",
       "    .dataframe tbody tr th {\n",
       "        vertical-align: top;\n",
       "    }\n",
       "\n",
       "    .dataframe thead th {\n",
       "        text-align: right;\n",
       "    }\n",
       "</style>\n",
       "<table border=\"1\" class=\"dataframe\">\n",
       "  <thead>\n",
       "    <tr style=\"text-align: right;\">\n",
       "      <th></th>\n",
       "      <th>mean radius</th>\n",
       "      <th>mean texture</th>\n",
       "      <th>mean perimeter</th>\n",
       "      <th>mean area</th>\n",
       "      <th>mean smoothness</th>\n",
       "      <th>mean compactness</th>\n",
       "      <th>mean concavity</th>\n",
       "      <th>mean concave points</th>\n",
       "      <th>mean symmetry</th>\n",
       "      <th>mean fractal dimension</th>\n",
       "      <th>...</th>\n",
       "      <th>worst texture</th>\n",
       "      <th>worst perimeter</th>\n",
       "      <th>worst area</th>\n",
       "      <th>worst smoothness</th>\n",
       "      <th>worst compactness</th>\n",
       "      <th>worst concavity</th>\n",
       "      <th>worst concave points</th>\n",
       "      <th>worst symmetry</th>\n",
       "      <th>worst fractal dimension</th>\n",
       "      <th>Diagnosis</th>\n",
       "    </tr>\n",
       "  </thead>\n",
       "  <tbody>\n",
       "    <tr>\n",
       "      <th>0</th>\n",
       "      <td>0.521037</td>\n",
       "      <td>0.022658</td>\n",
       "      <td>0.545989</td>\n",
       "      <td>0.363733</td>\n",
       "      <td>0.593753</td>\n",
       "      <td>0.792037</td>\n",
       "      <td>0.703140</td>\n",
       "      <td>0.731113</td>\n",
       "      <td>0.686364</td>\n",
       "      <td>0.605518</td>\n",
       "      <td>...</td>\n",
       "      <td>0.141525</td>\n",
       "      <td>0.668310</td>\n",
       "      <td>0.450698</td>\n",
       "      <td>0.601136</td>\n",
       "      <td>0.619292</td>\n",
       "      <td>0.568610</td>\n",
       "      <td>0.912027</td>\n",
       "      <td>0.598462</td>\n",
       "      <td>0.418864</td>\n",
       "      <td>0</td>\n",
       "    </tr>\n",
       "    <tr>\n",
       "      <th>1</th>\n",
       "      <td>0.643144</td>\n",
       "      <td>0.272574</td>\n",
       "      <td>0.615783</td>\n",
       "      <td>0.501591</td>\n",
       "      <td>0.289880</td>\n",
       "      <td>0.181768</td>\n",
       "      <td>0.203608</td>\n",
       "      <td>0.348757</td>\n",
       "      <td>0.379798</td>\n",
       "      <td>0.141323</td>\n",
       "      <td>...</td>\n",
       "      <td>0.303571</td>\n",
       "      <td>0.539818</td>\n",
       "      <td>0.435214</td>\n",
       "      <td>0.347553</td>\n",
       "      <td>0.154563</td>\n",
       "      <td>0.192971</td>\n",
       "      <td>0.639175</td>\n",
       "      <td>0.233590</td>\n",
       "      <td>0.222878</td>\n",
       "      <td>0</td>\n",
       "    </tr>\n",
       "    <tr>\n",
       "      <th>2</th>\n",
       "      <td>0.601496</td>\n",
       "      <td>0.390260</td>\n",
       "      <td>0.595743</td>\n",
       "      <td>0.449417</td>\n",
       "      <td>0.514309</td>\n",
       "      <td>0.431017</td>\n",
       "      <td>0.462512</td>\n",
       "      <td>0.635686</td>\n",
       "      <td>0.509596</td>\n",
       "      <td>0.211247</td>\n",
       "      <td>...</td>\n",
       "      <td>0.360075</td>\n",
       "      <td>0.508442</td>\n",
       "      <td>0.374508</td>\n",
       "      <td>0.483590</td>\n",
       "      <td>0.385375</td>\n",
       "      <td>0.359744</td>\n",
       "      <td>0.835052</td>\n",
       "      <td>0.403706</td>\n",
       "      <td>0.213433</td>\n",
       "      <td>0</td>\n",
       "    </tr>\n",
       "    <tr>\n",
       "      <th>3</th>\n",
       "      <td>0.210090</td>\n",
       "      <td>0.360839</td>\n",
       "      <td>0.233501</td>\n",
       "      <td>0.102906</td>\n",
       "      <td>0.811321</td>\n",
       "      <td>0.811361</td>\n",
       "      <td>0.565604</td>\n",
       "      <td>0.522863</td>\n",
       "      <td>0.776263</td>\n",
       "      <td>1.000000</td>\n",
       "      <td>...</td>\n",
       "      <td>0.385928</td>\n",
       "      <td>0.241347</td>\n",
       "      <td>0.094008</td>\n",
       "      <td>0.915472</td>\n",
       "      <td>0.814012</td>\n",
       "      <td>0.548642</td>\n",
       "      <td>0.884880</td>\n",
       "      <td>1.000000</td>\n",
       "      <td>0.773711</td>\n",
       "      <td>0</td>\n",
       "    </tr>\n",
       "    <tr>\n",
       "      <th>4</th>\n",
       "      <td>0.629893</td>\n",
       "      <td>0.156578</td>\n",
       "      <td>0.630986</td>\n",
       "      <td>0.489290</td>\n",
       "      <td>0.430351</td>\n",
       "      <td>0.347893</td>\n",
       "      <td>0.463918</td>\n",
       "      <td>0.518390</td>\n",
       "      <td>0.378283</td>\n",
       "      <td>0.186816</td>\n",
       "      <td>...</td>\n",
       "      <td>0.123934</td>\n",
       "      <td>0.506948</td>\n",
       "      <td>0.341575</td>\n",
       "      <td>0.437364</td>\n",
       "      <td>0.172415</td>\n",
       "      <td>0.319489</td>\n",
       "      <td>0.558419</td>\n",
       "      <td>0.157500</td>\n",
       "      <td>0.142595</td>\n",
       "      <td>0</td>\n",
       "    </tr>\n",
       "    <tr>\n",
       "      <th>...</th>\n",
       "      <td>...</td>\n",
       "      <td>...</td>\n",
       "      <td>...</td>\n",
       "      <td>...</td>\n",
       "      <td>...</td>\n",
       "      <td>...</td>\n",
       "      <td>...</td>\n",
       "      <td>...</td>\n",
       "      <td>...</td>\n",
       "      <td>...</td>\n",
       "      <td>...</td>\n",
       "      <td>...</td>\n",
       "      <td>...</td>\n",
       "      <td>...</td>\n",
       "      <td>...</td>\n",
       "      <td>...</td>\n",
       "      <td>...</td>\n",
       "      <td>...</td>\n",
       "      <td>...</td>\n",
       "      <td>...</td>\n",
       "      <td>...</td>\n",
       "    </tr>\n",
       "    <tr>\n",
       "      <th>564</th>\n",
       "      <td>0.690000</td>\n",
       "      <td>0.428813</td>\n",
       "      <td>0.678668</td>\n",
       "      <td>0.566490</td>\n",
       "      <td>0.526948</td>\n",
       "      <td>0.296055</td>\n",
       "      <td>0.571462</td>\n",
       "      <td>0.690358</td>\n",
       "      <td>0.336364</td>\n",
       "      <td>0.132056</td>\n",
       "      <td>...</td>\n",
       "      <td>0.383262</td>\n",
       "      <td>0.576174</td>\n",
       "      <td>0.452664</td>\n",
       "      <td>0.461137</td>\n",
       "      <td>0.178527</td>\n",
       "      <td>0.328035</td>\n",
       "      <td>0.761512</td>\n",
       "      <td>0.097575</td>\n",
       "      <td>0.105667</td>\n",
       "      <td>0</td>\n",
       "    </tr>\n",
       "    <tr>\n",
       "      <th>565</th>\n",
       "      <td>0.622320</td>\n",
       "      <td>0.626987</td>\n",
       "      <td>0.604036</td>\n",
       "      <td>0.474019</td>\n",
       "      <td>0.407782</td>\n",
       "      <td>0.257714</td>\n",
       "      <td>0.337395</td>\n",
       "      <td>0.486630</td>\n",
       "      <td>0.349495</td>\n",
       "      <td>0.113100</td>\n",
       "      <td>...</td>\n",
       "      <td>0.699094</td>\n",
       "      <td>0.520892</td>\n",
       "      <td>0.379915</td>\n",
       "      <td>0.300007</td>\n",
       "      <td>0.159997</td>\n",
       "      <td>0.256789</td>\n",
       "      <td>0.559450</td>\n",
       "      <td>0.198502</td>\n",
       "      <td>0.074315</td>\n",
       "      <td>0</td>\n",
       "    </tr>\n",
       "    <tr>\n",
       "      <th>566</th>\n",
       "      <td>0.455251</td>\n",
       "      <td>0.621238</td>\n",
       "      <td>0.445788</td>\n",
       "      <td>0.303118</td>\n",
       "      <td>0.288165</td>\n",
       "      <td>0.254340</td>\n",
       "      <td>0.216753</td>\n",
       "      <td>0.263519</td>\n",
       "      <td>0.267677</td>\n",
       "      <td>0.137321</td>\n",
       "      <td>...</td>\n",
       "      <td>0.589019</td>\n",
       "      <td>0.379949</td>\n",
       "      <td>0.230731</td>\n",
       "      <td>0.282177</td>\n",
       "      <td>0.273705</td>\n",
       "      <td>0.271805</td>\n",
       "      <td>0.487285</td>\n",
       "      <td>0.128721</td>\n",
       "      <td>0.151909</td>\n",
       "      <td>0</td>\n",
       "    </tr>\n",
       "    <tr>\n",
       "      <th>567</th>\n",
       "      <td>0.644564</td>\n",
       "      <td>0.663510</td>\n",
       "      <td>0.665538</td>\n",
       "      <td>0.475716</td>\n",
       "      <td>0.588336</td>\n",
       "      <td>0.790197</td>\n",
       "      <td>0.823336</td>\n",
       "      <td>0.755467</td>\n",
       "      <td>0.675253</td>\n",
       "      <td>0.425442</td>\n",
       "      <td>...</td>\n",
       "      <td>0.730277</td>\n",
       "      <td>0.668310</td>\n",
       "      <td>0.402035</td>\n",
       "      <td>0.619626</td>\n",
       "      <td>0.815758</td>\n",
       "      <td>0.749760</td>\n",
       "      <td>0.910653</td>\n",
       "      <td>0.497142</td>\n",
       "      <td>0.452315</td>\n",
       "      <td>0</td>\n",
       "    </tr>\n",
       "    <tr>\n",
       "      <th>568</th>\n",
       "      <td>0.036869</td>\n",
       "      <td>0.501522</td>\n",
       "      <td>0.028540</td>\n",
       "      <td>0.015907</td>\n",
       "      <td>0.000000</td>\n",
       "      <td>0.074351</td>\n",
       "      <td>0.000000</td>\n",
       "      <td>0.000000</td>\n",
       "      <td>0.266162</td>\n",
       "      <td>0.187026</td>\n",
       "      <td>...</td>\n",
       "      <td>0.489072</td>\n",
       "      <td>0.043578</td>\n",
       "      <td>0.020497</td>\n",
       "      <td>0.124084</td>\n",
       "      <td>0.036043</td>\n",
       "      <td>0.000000</td>\n",
       "      <td>0.000000</td>\n",
       "      <td>0.257441</td>\n",
       "      <td>0.100682</td>\n",
       "      <td>1</td>\n",
       "    </tr>\n",
       "  </tbody>\n",
       "</table>\n",
       "<p>569 rows × 31 columns</p>\n",
       "</div>"
      ],
      "text/plain": [
       "     mean radius  mean texture  mean perimeter  mean area  mean smoothness  \\\n",
       "0       0.521037      0.022658        0.545989   0.363733         0.593753   \n",
       "1       0.643144      0.272574        0.615783   0.501591         0.289880   \n",
       "2       0.601496      0.390260        0.595743   0.449417         0.514309   \n",
       "3       0.210090      0.360839        0.233501   0.102906         0.811321   \n",
       "4       0.629893      0.156578        0.630986   0.489290         0.430351   \n",
       "..           ...           ...             ...        ...              ...   \n",
       "564     0.690000      0.428813        0.678668   0.566490         0.526948   \n",
       "565     0.622320      0.626987        0.604036   0.474019         0.407782   \n",
       "566     0.455251      0.621238        0.445788   0.303118         0.288165   \n",
       "567     0.644564      0.663510        0.665538   0.475716         0.588336   \n",
       "568     0.036869      0.501522        0.028540   0.015907         0.000000   \n",
       "\n",
       "     mean compactness  mean concavity  mean concave points  mean symmetry  \\\n",
       "0            0.792037        0.703140             0.731113       0.686364   \n",
       "1            0.181768        0.203608             0.348757       0.379798   \n",
       "2            0.431017        0.462512             0.635686       0.509596   \n",
       "3            0.811361        0.565604             0.522863       0.776263   \n",
       "4            0.347893        0.463918             0.518390       0.378283   \n",
       "..                ...             ...                  ...            ...   \n",
       "564          0.296055        0.571462             0.690358       0.336364   \n",
       "565          0.257714        0.337395             0.486630       0.349495   \n",
       "566          0.254340        0.216753             0.263519       0.267677   \n",
       "567          0.790197        0.823336             0.755467       0.675253   \n",
       "568          0.074351        0.000000             0.000000       0.266162   \n",
       "\n",
       "     mean fractal dimension  ...  worst texture  worst perimeter  worst area  \\\n",
       "0                  0.605518  ...       0.141525         0.668310    0.450698   \n",
       "1                  0.141323  ...       0.303571         0.539818    0.435214   \n",
       "2                  0.211247  ...       0.360075         0.508442    0.374508   \n",
       "3                  1.000000  ...       0.385928         0.241347    0.094008   \n",
       "4                  0.186816  ...       0.123934         0.506948    0.341575   \n",
       "..                      ...  ...            ...              ...         ...   \n",
       "564                0.132056  ...       0.383262         0.576174    0.452664   \n",
       "565                0.113100  ...       0.699094         0.520892    0.379915   \n",
       "566                0.137321  ...       0.589019         0.379949    0.230731   \n",
       "567                0.425442  ...       0.730277         0.668310    0.402035   \n",
       "568                0.187026  ...       0.489072         0.043578    0.020497   \n",
       "\n",
       "     worst smoothness  worst compactness  worst concavity  \\\n",
       "0            0.601136           0.619292         0.568610   \n",
       "1            0.347553           0.154563         0.192971   \n",
       "2            0.483590           0.385375         0.359744   \n",
       "3            0.915472           0.814012         0.548642   \n",
       "4            0.437364           0.172415         0.319489   \n",
       "..                ...                ...              ...   \n",
       "564          0.461137           0.178527         0.328035   \n",
       "565          0.300007           0.159997         0.256789   \n",
       "566          0.282177           0.273705         0.271805   \n",
       "567          0.619626           0.815758         0.749760   \n",
       "568          0.124084           0.036043         0.000000   \n",
       "\n",
       "     worst concave points  worst symmetry  worst fractal dimension  Diagnosis  \n",
       "0                0.912027        0.598462                 0.418864          0  \n",
       "1                0.639175        0.233590                 0.222878          0  \n",
       "2                0.835052        0.403706                 0.213433          0  \n",
       "3                0.884880        1.000000                 0.773711          0  \n",
       "4                0.558419        0.157500                 0.142595          0  \n",
       "..                    ...             ...                      ...        ...  \n",
       "564              0.761512        0.097575                 0.105667          0  \n",
       "565              0.559450        0.198502                 0.074315          0  \n",
       "566              0.487285        0.128721                 0.151909          0  \n",
       "567              0.910653        0.497142                 0.452315          0  \n",
       "568              0.000000        0.257441                 0.100682          1  \n",
       "\n",
       "[569 rows x 31 columns]"
      ]
     },
     "execution_count": 189,
     "metadata": {},
     "output_type": "execute_result"
    }
   ],
   "source": [
    "df_cancer_corr['Diagnosis'] = y \n",
    "df_cancer_corr"
   ]
  },
  {
   "cell_type": "code",
   "execution_count": 190,
   "metadata": {},
   "outputs": [
    {
     "data": {
      "text/html": [
       "<div>\n",
       "<style scoped>\n",
       "    .dataframe tbody tr th:only-of-type {\n",
       "        vertical-align: middle;\n",
       "    }\n",
       "\n",
       "    .dataframe tbody tr th {\n",
       "        vertical-align: top;\n",
       "    }\n",
       "\n",
       "    .dataframe thead th {\n",
       "        text-align: right;\n",
       "    }\n",
       "</style>\n",
       "<table border=\"1\" class=\"dataframe\">\n",
       "  <thead>\n",
       "    <tr style=\"text-align: right;\">\n",
       "      <th></th>\n",
       "      <th>mean radius</th>\n",
       "      <th>mean texture</th>\n",
       "      <th>mean perimeter</th>\n",
       "      <th>mean area</th>\n",
       "      <th>mean smoothness</th>\n",
       "      <th>mean compactness</th>\n",
       "      <th>mean concavity</th>\n",
       "      <th>mean concave points</th>\n",
       "      <th>mean symmetry</th>\n",
       "      <th>mean fractal dimension</th>\n",
       "      <th>...</th>\n",
       "      <th>worst texture</th>\n",
       "      <th>worst perimeter</th>\n",
       "      <th>worst area</th>\n",
       "      <th>worst smoothness</th>\n",
       "      <th>worst compactness</th>\n",
       "      <th>worst concavity</th>\n",
       "      <th>worst concave points</th>\n",
       "      <th>worst symmetry</th>\n",
       "      <th>worst fractal dimension</th>\n",
       "      <th>Diagnosis</th>\n",
       "    </tr>\n",
       "  </thead>\n",
       "  <tbody>\n",
       "    <tr>\n",
       "      <th>mean radius</th>\n",
       "      <td>1.000000</td>\n",
       "      <td>0.323782</td>\n",
       "      <td>0.997855</td>\n",
       "      <td>0.987357</td>\n",
       "      <td>0.170581</td>\n",
       "      <td>0.506124</td>\n",
       "      <td>0.676764</td>\n",
       "      <td>0.822529</td>\n",
       "      <td>0.147741</td>\n",
       "      <td>-0.311631</td>\n",
       "      <td>...</td>\n",
       "      <td>0.297008</td>\n",
       "      <td>0.965137</td>\n",
       "      <td>0.941082</td>\n",
       "      <td>0.119616</td>\n",
       "      <td>0.413463</td>\n",
       "      <td>0.526911</td>\n",
       "      <td>0.744214</td>\n",
       "      <td>0.163953</td>\n",
       "      <td>0.007066</td>\n",
       "      <td>-0.730029</td>\n",
       "    </tr>\n",
       "    <tr>\n",
       "      <th>mean texture</th>\n",
       "      <td>0.323782</td>\n",
       "      <td>1.000000</td>\n",
       "      <td>0.329533</td>\n",
       "      <td>0.321086</td>\n",
       "      <td>-0.023389</td>\n",
       "      <td>0.236702</td>\n",
       "      <td>0.302418</td>\n",
       "      <td>0.293464</td>\n",
       "      <td>0.071401</td>\n",
       "      <td>-0.076437</td>\n",
       "      <td>...</td>\n",
       "      <td>0.912045</td>\n",
       "      <td>0.358040</td>\n",
       "      <td>0.343546</td>\n",
       "      <td>0.077503</td>\n",
       "      <td>0.277830</td>\n",
       "      <td>0.301025</td>\n",
       "      <td>0.295316</td>\n",
       "      <td>0.105008</td>\n",
       "      <td>0.119205</td>\n",
       "      <td>-0.415185</td>\n",
       "    </tr>\n",
       "    <tr>\n",
       "      <th>mean perimeter</th>\n",
       "      <td>0.997855</td>\n",
       "      <td>0.329533</td>\n",
       "      <td>1.000000</td>\n",
       "      <td>0.986507</td>\n",
       "      <td>0.207278</td>\n",
       "      <td>0.556936</td>\n",
       "      <td>0.716136</td>\n",
       "      <td>0.850977</td>\n",
       "      <td>0.183027</td>\n",
       "      <td>-0.261477</td>\n",
       "      <td>...</td>\n",
       "      <td>0.303038</td>\n",
       "      <td>0.970387</td>\n",
       "      <td>0.941550</td>\n",
       "      <td>0.150549</td>\n",
       "      <td>0.455774</td>\n",
       "      <td>0.563879</td>\n",
       "      <td>0.771241</td>\n",
       "      <td>0.189115</td>\n",
       "      <td>0.051019</td>\n",
       "      <td>-0.742636</td>\n",
       "    </tr>\n",
       "    <tr>\n",
       "      <th>mean area</th>\n",
       "      <td>0.987357</td>\n",
       "      <td>0.321086</td>\n",
       "      <td>0.986507</td>\n",
       "      <td>1.000000</td>\n",
       "      <td>0.177028</td>\n",
       "      <td>0.498502</td>\n",
       "      <td>0.685983</td>\n",
       "      <td>0.823269</td>\n",
       "      <td>0.151293</td>\n",
       "      <td>-0.283110</td>\n",
       "      <td>...</td>\n",
       "      <td>0.287489</td>\n",
       "      <td>0.959120</td>\n",
       "      <td>0.959213</td>\n",
       "      <td>0.123523</td>\n",
       "      <td>0.390410</td>\n",
       "      <td>0.512606</td>\n",
       "      <td>0.722017</td>\n",
       "      <td>0.143570</td>\n",
       "      <td>0.003738</td>\n",
       "      <td>-0.708984</td>\n",
       "    </tr>\n",
       "    <tr>\n",
       "      <th>mean smoothness</th>\n",
       "      <td>0.170581</td>\n",
       "      <td>-0.023389</td>\n",
       "      <td>0.207278</td>\n",
       "      <td>0.177028</td>\n",
       "      <td>1.000000</td>\n",
       "      <td>0.659123</td>\n",
       "      <td>0.521984</td>\n",
       "      <td>0.553695</td>\n",
       "      <td>0.557775</td>\n",
       "      <td>0.584792</td>\n",
       "      <td>...</td>\n",
       "      <td>0.036072</td>\n",
       "      <td>0.238853</td>\n",
       "      <td>0.206718</td>\n",
       "      <td>0.805324</td>\n",
       "      <td>0.472468</td>\n",
       "      <td>0.434926</td>\n",
       "      <td>0.503053</td>\n",
       "      <td>0.394309</td>\n",
       "      <td>0.499316</td>\n",
       "      <td>-0.358560</td>\n",
       "    </tr>\n",
       "    <tr>\n",
       "      <th>mean compactness</th>\n",
       "      <td>0.506124</td>\n",
       "      <td>0.236702</td>\n",
       "      <td>0.556936</td>\n",
       "      <td>0.498502</td>\n",
       "      <td>0.659123</td>\n",
       "      <td>1.000000</td>\n",
       "      <td>0.883121</td>\n",
       "      <td>0.831135</td>\n",
       "      <td>0.602641</td>\n",
       "      <td>0.565369</td>\n",
       "      <td>...</td>\n",
       "      <td>0.248133</td>\n",
       "      <td>0.590210</td>\n",
       "      <td>0.509604</td>\n",
       "      <td>0.565541</td>\n",
       "      <td>0.865809</td>\n",
       "      <td>0.816275</td>\n",
       "      <td>0.815573</td>\n",
       "      <td>0.510223</td>\n",
       "      <td>0.687382</td>\n",
       "      <td>-0.596534</td>\n",
       "    </tr>\n",
       "    <tr>\n",
       "      <th>mean concavity</th>\n",
       "      <td>0.676764</td>\n",
       "      <td>0.302418</td>\n",
       "      <td>0.716136</td>\n",
       "      <td>0.685983</td>\n",
       "      <td>0.521984</td>\n",
       "      <td>0.883121</td>\n",
       "      <td>1.000000</td>\n",
       "      <td>0.921391</td>\n",
       "      <td>0.500667</td>\n",
       "      <td>0.336783</td>\n",
       "      <td>...</td>\n",
       "      <td>0.299879</td>\n",
       "      <td>0.729565</td>\n",
       "      <td>0.675987</td>\n",
       "      <td>0.448822</td>\n",
       "      <td>0.754968</td>\n",
       "      <td>0.884103</td>\n",
       "      <td>0.861323</td>\n",
       "      <td>0.409464</td>\n",
       "      <td>0.514930</td>\n",
       "      <td>-0.696360</td>\n",
       "    </tr>\n",
       "    <tr>\n",
       "      <th>mean concave points</th>\n",
       "      <td>0.822529</td>\n",
       "      <td>0.293464</td>\n",
       "      <td>0.850977</td>\n",
       "      <td>0.823269</td>\n",
       "      <td>0.553695</td>\n",
       "      <td>0.831135</td>\n",
       "      <td>0.921391</td>\n",
       "      <td>1.000000</td>\n",
       "      <td>0.462497</td>\n",
       "      <td>0.166917</td>\n",
       "      <td>...</td>\n",
       "      <td>0.292752</td>\n",
       "      <td>0.855923</td>\n",
       "      <td>0.809630</td>\n",
       "      <td>0.452753</td>\n",
       "      <td>0.667454</td>\n",
       "      <td>0.752399</td>\n",
       "      <td>0.910155</td>\n",
       "      <td>0.375744</td>\n",
       "      <td>0.368661</td>\n",
       "      <td>-0.776614</td>\n",
       "    </tr>\n",
       "    <tr>\n",
       "      <th>mean symmetry</th>\n",
       "      <td>0.147741</td>\n",
       "      <td>0.071401</td>\n",
       "      <td>0.183027</td>\n",
       "      <td>0.151293</td>\n",
       "      <td>0.557775</td>\n",
       "      <td>0.602641</td>\n",
       "      <td>0.500667</td>\n",
       "      <td>0.462497</td>\n",
       "      <td>1.000000</td>\n",
       "      <td>0.479921</td>\n",
       "      <td>...</td>\n",
       "      <td>0.090651</td>\n",
       "      <td>0.219169</td>\n",
       "      <td>0.177193</td>\n",
       "      <td>0.426675</td>\n",
       "      <td>0.473200</td>\n",
       "      <td>0.433721</td>\n",
       "      <td>0.430297</td>\n",
       "      <td>0.699826</td>\n",
       "      <td>0.438413</td>\n",
       "      <td>-0.330499</td>\n",
       "    </tr>\n",
       "    <tr>\n",
       "      <th>mean fractal dimension</th>\n",
       "      <td>-0.311631</td>\n",
       "      <td>-0.076437</td>\n",
       "      <td>-0.261477</td>\n",
       "      <td>-0.283110</td>\n",
       "      <td>0.584792</td>\n",
       "      <td>0.565369</td>\n",
       "      <td>0.336783</td>\n",
       "      <td>0.166917</td>\n",
       "      <td>0.479921</td>\n",
       "      <td>1.000000</td>\n",
       "      <td>...</td>\n",
       "      <td>-0.051269</td>\n",
       "      <td>-0.205151</td>\n",
       "      <td>-0.231854</td>\n",
       "      <td>0.504942</td>\n",
       "      <td>0.458798</td>\n",
       "      <td>0.346234</td>\n",
       "      <td>0.175325</td>\n",
       "      <td>0.334019</td>\n",
       "      <td>0.767297</td>\n",
       "      <td>0.012838</td>\n",
       "    </tr>\n",
       "    <tr>\n",
       "      <th>radius error</th>\n",
       "      <td>0.679090</td>\n",
       "      <td>0.275869</td>\n",
       "      <td>0.691765</td>\n",
       "      <td>0.732562</td>\n",
       "      <td>0.301467</td>\n",
       "      <td>0.497473</td>\n",
       "      <td>0.631925</td>\n",
       "      <td>0.698050</td>\n",
       "      <td>0.303379</td>\n",
       "      <td>0.000111</td>\n",
       "      <td>...</td>\n",
       "      <td>0.194799</td>\n",
       "      <td>0.719684</td>\n",
       "      <td>0.751548</td>\n",
       "      <td>0.141919</td>\n",
       "      <td>0.287103</td>\n",
       "      <td>0.380585</td>\n",
       "      <td>0.531062</td>\n",
       "      <td>0.094543</td>\n",
       "      <td>0.049559</td>\n",
       "      <td>-0.567134</td>\n",
       "    </tr>\n",
       "    <tr>\n",
       "      <th>texture error</th>\n",
       "      <td>-0.097317</td>\n",
       "      <td>0.386358</td>\n",
       "      <td>-0.086761</td>\n",
       "      <td>-0.066280</td>\n",
       "      <td>0.068406</td>\n",
       "      <td>0.046205</td>\n",
       "      <td>0.076218</td>\n",
       "      <td>0.021480</td>\n",
       "      <td>0.128053</td>\n",
       "      <td>0.164174</td>\n",
       "      <td>...</td>\n",
       "      <td>0.409003</td>\n",
       "      <td>-0.102242</td>\n",
       "      <td>-0.083195</td>\n",
       "      <td>-0.073658</td>\n",
       "      <td>-0.092439</td>\n",
       "      <td>-0.068956</td>\n",
       "      <td>-0.119638</td>\n",
       "      <td>-0.128215</td>\n",
       "      <td>-0.045655</td>\n",
       "      <td>0.008303</td>\n",
       "    </tr>\n",
       "    <tr>\n",
       "      <th>perimeter error</th>\n",
       "      <td>0.674172</td>\n",
       "      <td>0.281673</td>\n",
       "      <td>0.693135</td>\n",
       "      <td>0.726628</td>\n",
       "      <td>0.296092</td>\n",
       "      <td>0.548905</td>\n",
       "      <td>0.660391</td>\n",
       "      <td>0.710650</td>\n",
       "      <td>0.313893</td>\n",
       "      <td>0.039830</td>\n",
       "      <td>...</td>\n",
       "      <td>0.200371</td>\n",
       "      <td>0.721031</td>\n",
       "      <td>0.730713</td>\n",
       "      <td>0.130054</td>\n",
       "      <td>0.341919</td>\n",
       "      <td>0.418899</td>\n",
       "      <td>0.554897</td>\n",
       "      <td>0.109930</td>\n",
       "      <td>0.085433</td>\n",
       "      <td>-0.556141</td>\n",
       "    </tr>\n",
       "    <tr>\n",
       "      <th>area error</th>\n",
       "      <td>0.735864</td>\n",
       "      <td>0.259845</td>\n",
       "      <td>0.744983</td>\n",
       "      <td>0.800086</td>\n",
       "      <td>0.246552</td>\n",
       "      <td>0.455653</td>\n",
       "      <td>0.617427</td>\n",
       "      <td>0.690299</td>\n",
       "      <td>0.223970</td>\n",
       "      <td>-0.090170</td>\n",
       "      <td>...</td>\n",
       "      <td>0.196497</td>\n",
       "      <td>0.761213</td>\n",
       "      <td>0.811408</td>\n",
       "      <td>0.125389</td>\n",
       "      <td>0.283257</td>\n",
       "      <td>0.385100</td>\n",
       "      <td>0.538166</td>\n",
       "      <td>0.074126</td>\n",
       "      <td>0.017539</td>\n",
       "      <td>-0.548236</td>\n",
       "    </tr>\n",
       "    <tr>\n",
       "      <th>smoothness error</th>\n",
       "      <td>-0.222600</td>\n",
       "      <td>0.006614</td>\n",
       "      <td>-0.202694</td>\n",
       "      <td>-0.166777</td>\n",
       "      <td>0.332375</td>\n",
       "      <td>0.135299</td>\n",
       "      <td>0.098564</td>\n",
       "      <td>0.027653</td>\n",
       "      <td>0.187321</td>\n",
       "      <td>0.401964</td>\n",
       "      <td>...</td>\n",
       "      <td>-0.074743</td>\n",
       "      <td>-0.217304</td>\n",
       "      <td>-0.182195</td>\n",
       "      <td>0.314457</td>\n",
       "      <td>-0.055558</td>\n",
       "      <td>-0.058298</td>\n",
       "      <td>-0.102007</td>\n",
       "      <td>-0.107342</td>\n",
       "      <td>0.101480</td>\n",
       "      <td>0.067016</td>\n",
       "    </tr>\n",
       "    <tr>\n",
       "      <th>compactness error</th>\n",
       "      <td>0.206000</td>\n",
       "      <td>0.191975</td>\n",
       "      <td>0.250744</td>\n",
       "      <td>0.212583</td>\n",
       "      <td>0.318943</td>\n",
       "      <td>0.738722</td>\n",
       "      <td>0.670279</td>\n",
       "      <td>0.490424</td>\n",
       "      <td>0.421659</td>\n",
       "      <td>0.559837</td>\n",
       "      <td>...</td>\n",
       "      <td>0.143003</td>\n",
       "      <td>0.260516</td>\n",
       "      <td>0.199371</td>\n",
       "      <td>0.227394</td>\n",
       "      <td>0.678780</td>\n",
       "      <td>0.639147</td>\n",
       "      <td>0.483208</td>\n",
       "      <td>0.277878</td>\n",
       "      <td>0.590973</td>\n",
       "      <td>-0.292999</td>\n",
       "    </tr>\n",
       "    <tr>\n",
       "      <th>concavity error</th>\n",
       "      <td>0.194204</td>\n",
       "      <td>0.143293</td>\n",
       "      <td>0.228082</td>\n",
       "      <td>0.207660</td>\n",
       "      <td>0.248396</td>\n",
       "      <td>0.570517</td>\n",
       "      <td>0.691270</td>\n",
       "      <td>0.439167</td>\n",
       "      <td>0.342627</td>\n",
       "      <td>0.446630</td>\n",
       "      <td>...</td>\n",
       "      <td>0.100241</td>\n",
       "      <td>0.226680</td>\n",
       "      <td>0.188353</td>\n",
       "      <td>0.168481</td>\n",
       "      <td>0.484858</td>\n",
       "      <td>0.662564</td>\n",
       "      <td>0.440472</td>\n",
       "      <td>0.197788</td>\n",
       "      <td>0.439329</td>\n",
       "      <td>-0.253730</td>\n",
       "    </tr>\n",
       "    <tr>\n",
       "      <th>concave points error</th>\n",
       "      <td>0.376169</td>\n",
       "      <td>0.163851</td>\n",
       "      <td>0.407217</td>\n",
       "      <td>0.372320</td>\n",
       "      <td>0.380676</td>\n",
       "      <td>0.642262</td>\n",
       "      <td>0.683260</td>\n",
       "      <td>0.615634</td>\n",
       "      <td>0.393298</td>\n",
       "      <td>0.341198</td>\n",
       "      <td>...</td>\n",
       "      <td>0.086741</td>\n",
       "      <td>0.394999</td>\n",
       "      <td>0.342271</td>\n",
       "      <td>0.215351</td>\n",
       "      <td>0.452888</td>\n",
       "      <td>0.549592</td>\n",
       "      <td>0.602450</td>\n",
       "      <td>0.143116</td>\n",
       "      <td>0.310655</td>\n",
       "      <td>-0.408042</td>\n",
       "    </tr>\n",
       "    <tr>\n",
       "      <th>symmetry error</th>\n",
       "      <td>-0.104321</td>\n",
       "      <td>0.009127</td>\n",
       "      <td>-0.081629</td>\n",
       "      <td>-0.072497</td>\n",
       "      <td>0.200774</td>\n",
       "      <td>0.229977</td>\n",
       "      <td>0.178009</td>\n",
       "      <td>0.095351</td>\n",
       "      <td>0.449137</td>\n",
       "      <td>0.345007</td>\n",
       "      <td>...</td>\n",
       "      <td>-0.077473</td>\n",
       "      <td>-0.103753</td>\n",
       "      <td>-0.110343</td>\n",
       "      <td>-0.012662</td>\n",
       "      <td>0.060255</td>\n",
       "      <td>0.037119</td>\n",
       "      <td>-0.030413</td>\n",
       "      <td>0.389402</td>\n",
       "      <td>0.078079</td>\n",
       "      <td>0.006522</td>\n",
       "    </tr>\n",
       "    <tr>\n",
       "      <th>fractal dimension error</th>\n",
       "      <td>-0.042641</td>\n",
       "      <td>0.054458</td>\n",
       "      <td>-0.005523</td>\n",
       "      <td>-0.019887</td>\n",
       "      <td>0.283607</td>\n",
       "      <td>0.507318</td>\n",
       "      <td>0.449301</td>\n",
       "      <td>0.257584</td>\n",
       "      <td>0.331786</td>\n",
       "      <td>0.688132</td>\n",
       "      <td>...</td>\n",
       "      <td>-0.003195</td>\n",
       "      <td>-0.001000</td>\n",
       "      <td>-0.022736</td>\n",
       "      <td>0.170568</td>\n",
       "      <td>0.390159</td>\n",
       "      <td>0.379975</td>\n",
       "      <td>0.215204</td>\n",
       "      <td>0.111094</td>\n",
       "      <td>0.591328</td>\n",
       "      <td>-0.077972</td>\n",
       "    </tr>\n",
       "    <tr>\n",
       "      <th>worst radius</th>\n",
       "      <td>0.969539</td>\n",
       "      <td>0.352573</td>\n",
       "      <td>0.969476</td>\n",
       "      <td>0.962746</td>\n",
       "      <td>0.213120</td>\n",
       "      <td>0.535315</td>\n",
       "      <td>0.688236</td>\n",
       "      <td>0.830318</td>\n",
       "      <td>0.185728</td>\n",
       "      <td>-0.253691</td>\n",
       "      <td>...</td>\n",
       "      <td>0.359921</td>\n",
       "      <td>0.993708</td>\n",
       "      <td>0.984015</td>\n",
       "      <td>0.216574</td>\n",
       "      <td>0.475820</td>\n",
       "      <td>0.573975</td>\n",
       "      <td>0.787424</td>\n",
       "      <td>0.243529</td>\n",
       "      <td>0.093492</td>\n",
       "      <td>-0.776454</td>\n",
       "    </tr>\n",
       "    <tr>\n",
       "      <th>worst texture</th>\n",
       "      <td>0.297008</td>\n",
       "      <td>0.912045</td>\n",
       "      <td>0.303038</td>\n",
       "      <td>0.287489</td>\n",
       "      <td>0.036072</td>\n",
       "      <td>0.248133</td>\n",
       "      <td>0.299879</td>\n",
       "      <td>0.292752</td>\n",
       "      <td>0.090651</td>\n",
       "      <td>-0.051269</td>\n",
       "      <td>...</td>\n",
       "      <td>1.000000</td>\n",
       "      <td>0.365098</td>\n",
       "      <td>0.345842</td>\n",
       "      <td>0.225429</td>\n",
       "      <td>0.360832</td>\n",
       "      <td>0.368366</td>\n",
       "      <td>0.359755</td>\n",
       "      <td>0.233027</td>\n",
       "      <td>0.219122</td>\n",
       "      <td>-0.456903</td>\n",
       "    </tr>\n",
       "    <tr>\n",
       "      <th>worst perimeter</th>\n",
       "      <td>0.965137</td>\n",
       "      <td>0.358040</td>\n",
       "      <td>0.970387</td>\n",
       "      <td>0.959120</td>\n",
       "      <td>0.238853</td>\n",
       "      <td>0.590210</td>\n",
       "      <td>0.729565</td>\n",
       "      <td>0.855923</td>\n",
       "      <td>0.219169</td>\n",
       "      <td>-0.205151</td>\n",
       "      <td>...</td>\n",
       "      <td>0.365098</td>\n",
       "      <td>1.000000</td>\n",
       "      <td>0.977578</td>\n",
       "      <td>0.236775</td>\n",
       "      <td>0.529408</td>\n",
       "      <td>0.618344</td>\n",
       "      <td>0.816322</td>\n",
       "      <td>0.269493</td>\n",
       "      <td>0.138957</td>\n",
       "      <td>-0.782914</td>\n",
       "    </tr>\n",
       "    <tr>\n",
       "      <th>worst area</th>\n",
       "      <td>0.941082</td>\n",
       "      <td>0.343546</td>\n",
       "      <td>0.941550</td>\n",
       "      <td>0.959213</td>\n",
       "      <td>0.206718</td>\n",
       "      <td>0.509604</td>\n",
       "      <td>0.675987</td>\n",
       "      <td>0.809630</td>\n",
       "      <td>0.177193</td>\n",
       "      <td>-0.231854</td>\n",
       "      <td>...</td>\n",
       "      <td>0.345842</td>\n",
       "      <td>0.977578</td>\n",
       "      <td>1.000000</td>\n",
       "      <td>0.209145</td>\n",
       "      <td>0.438296</td>\n",
       "      <td>0.543331</td>\n",
       "      <td>0.747419</td>\n",
       "      <td>0.209146</td>\n",
       "      <td>0.079647</td>\n",
       "      <td>-0.733825</td>\n",
       "    </tr>\n",
       "    <tr>\n",
       "      <th>worst smoothness</th>\n",
       "      <td>0.119616</td>\n",
       "      <td>0.077503</td>\n",
       "      <td>0.150549</td>\n",
       "      <td>0.123523</td>\n",
       "      <td>0.805324</td>\n",
       "      <td>0.565541</td>\n",
       "      <td>0.448822</td>\n",
       "      <td>0.452753</td>\n",
       "      <td>0.426675</td>\n",
       "      <td>0.504942</td>\n",
       "      <td>...</td>\n",
       "      <td>0.225429</td>\n",
       "      <td>0.236775</td>\n",
       "      <td>0.209145</td>\n",
       "      <td>1.000000</td>\n",
       "      <td>0.568187</td>\n",
       "      <td>0.518523</td>\n",
       "      <td>0.547691</td>\n",
       "      <td>0.493838</td>\n",
       "      <td>0.617624</td>\n",
       "      <td>-0.421465</td>\n",
       "    </tr>\n",
       "    <tr>\n",
       "      <th>worst compactness</th>\n",
       "      <td>0.413463</td>\n",
       "      <td>0.277830</td>\n",
       "      <td>0.455774</td>\n",
       "      <td>0.390410</td>\n",
       "      <td>0.472468</td>\n",
       "      <td>0.865809</td>\n",
       "      <td>0.754968</td>\n",
       "      <td>0.667454</td>\n",
       "      <td>0.473200</td>\n",
       "      <td>0.458798</td>\n",
       "      <td>...</td>\n",
       "      <td>0.360832</td>\n",
       "      <td>0.529408</td>\n",
       "      <td>0.438296</td>\n",
       "      <td>0.568187</td>\n",
       "      <td>1.000000</td>\n",
       "      <td>0.892261</td>\n",
       "      <td>0.801080</td>\n",
       "      <td>0.614441</td>\n",
       "      <td>0.810455</td>\n",
       "      <td>-0.590998</td>\n",
       "    </tr>\n",
       "    <tr>\n",
       "      <th>worst concavity</th>\n",
       "      <td>0.526911</td>\n",
       "      <td>0.301025</td>\n",
       "      <td>0.563879</td>\n",
       "      <td>0.512606</td>\n",
       "      <td>0.434926</td>\n",
       "      <td>0.816275</td>\n",
       "      <td>0.884103</td>\n",
       "      <td>0.752399</td>\n",
       "      <td>0.433721</td>\n",
       "      <td>0.346234</td>\n",
       "      <td>...</td>\n",
       "      <td>0.368366</td>\n",
       "      <td>0.618344</td>\n",
       "      <td>0.543331</td>\n",
       "      <td>0.518523</td>\n",
       "      <td>0.892261</td>\n",
       "      <td>1.000000</td>\n",
       "      <td>0.855434</td>\n",
       "      <td>0.532520</td>\n",
       "      <td>0.686511</td>\n",
       "      <td>-0.659610</td>\n",
       "    </tr>\n",
       "    <tr>\n",
       "      <th>worst concave points</th>\n",
       "      <td>0.744214</td>\n",
       "      <td>0.295316</td>\n",
       "      <td>0.771241</td>\n",
       "      <td>0.722017</td>\n",
       "      <td>0.503053</td>\n",
       "      <td>0.815573</td>\n",
       "      <td>0.861323</td>\n",
       "      <td>0.910155</td>\n",
       "      <td>0.430297</td>\n",
       "      <td>0.175325</td>\n",
       "      <td>...</td>\n",
       "      <td>0.359755</td>\n",
       "      <td>0.816322</td>\n",
       "      <td>0.747419</td>\n",
       "      <td>0.547691</td>\n",
       "      <td>0.801080</td>\n",
       "      <td>0.855434</td>\n",
       "      <td>1.000000</td>\n",
       "      <td>0.502528</td>\n",
       "      <td>0.511114</td>\n",
       "      <td>-0.793566</td>\n",
       "    </tr>\n",
       "    <tr>\n",
       "      <th>worst symmetry</th>\n",
       "      <td>0.163953</td>\n",
       "      <td>0.105008</td>\n",
       "      <td>0.189115</td>\n",
       "      <td>0.143570</td>\n",
       "      <td>0.394309</td>\n",
       "      <td>0.510223</td>\n",
       "      <td>0.409464</td>\n",
       "      <td>0.375744</td>\n",
       "      <td>0.699826</td>\n",
       "      <td>0.334019</td>\n",
       "      <td>...</td>\n",
       "      <td>0.233027</td>\n",
       "      <td>0.269493</td>\n",
       "      <td>0.209146</td>\n",
       "      <td>0.493838</td>\n",
       "      <td>0.614441</td>\n",
       "      <td>0.532520</td>\n",
       "      <td>0.502528</td>\n",
       "      <td>1.000000</td>\n",
       "      <td>0.537848</td>\n",
       "      <td>-0.416294</td>\n",
       "    </tr>\n",
       "    <tr>\n",
       "      <th>worst fractal dimension</th>\n",
       "      <td>0.007066</td>\n",
       "      <td>0.119205</td>\n",
       "      <td>0.051019</td>\n",
       "      <td>0.003738</td>\n",
       "      <td>0.499316</td>\n",
       "      <td>0.687382</td>\n",
       "      <td>0.514930</td>\n",
       "      <td>0.368661</td>\n",
       "      <td>0.438413</td>\n",
       "      <td>0.767297</td>\n",
       "      <td>...</td>\n",
       "      <td>0.219122</td>\n",
       "      <td>0.138957</td>\n",
       "      <td>0.079647</td>\n",
       "      <td>0.617624</td>\n",
       "      <td>0.810455</td>\n",
       "      <td>0.686511</td>\n",
       "      <td>0.511114</td>\n",
       "      <td>0.537848</td>\n",
       "      <td>1.000000</td>\n",
       "      <td>-0.323872</td>\n",
       "    </tr>\n",
       "    <tr>\n",
       "      <th>Diagnosis</th>\n",
       "      <td>-0.730029</td>\n",
       "      <td>-0.415185</td>\n",
       "      <td>-0.742636</td>\n",
       "      <td>-0.708984</td>\n",
       "      <td>-0.358560</td>\n",
       "      <td>-0.596534</td>\n",
       "      <td>-0.696360</td>\n",
       "      <td>-0.776614</td>\n",
       "      <td>-0.330499</td>\n",
       "      <td>0.012838</td>\n",
       "      <td>...</td>\n",
       "      <td>-0.456903</td>\n",
       "      <td>-0.782914</td>\n",
       "      <td>-0.733825</td>\n",
       "      <td>-0.421465</td>\n",
       "      <td>-0.590998</td>\n",
       "      <td>-0.659610</td>\n",
       "      <td>-0.793566</td>\n",
       "      <td>-0.416294</td>\n",
       "      <td>-0.323872</td>\n",
       "      <td>1.000000</td>\n",
       "    </tr>\n",
       "  </tbody>\n",
       "</table>\n",
       "<p>31 rows × 31 columns</p>\n",
       "</div>"
      ],
      "text/plain": [
       "                         mean radius  mean texture  mean perimeter  mean area  \\\n",
       "mean radius                 1.000000      0.323782        0.997855   0.987357   \n",
       "mean texture                0.323782      1.000000        0.329533   0.321086   \n",
       "mean perimeter              0.997855      0.329533        1.000000   0.986507   \n",
       "mean area                   0.987357      0.321086        0.986507   1.000000   \n",
       "mean smoothness             0.170581     -0.023389        0.207278   0.177028   \n",
       "mean compactness            0.506124      0.236702        0.556936   0.498502   \n",
       "mean concavity              0.676764      0.302418        0.716136   0.685983   \n",
       "mean concave points         0.822529      0.293464        0.850977   0.823269   \n",
       "mean symmetry               0.147741      0.071401        0.183027   0.151293   \n",
       "mean fractal dimension     -0.311631     -0.076437       -0.261477  -0.283110   \n",
       "radius error                0.679090      0.275869        0.691765   0.732562   \n",
       "texture error              -0.097317      0.386358       -0.086761  -0.066280   \n",
       "perimeter error             0.674172      0.281673        0.693135   0.726628   \n",
       "area error                  0.735864      0.259845        0.744983   0.800086   \n",
       "smoothness error           -0.222600      0.006614       -0.202694  -0.166777   \n",
       "compactness error           0.206000      0.191975        0.250744   0.212583   \n",
       "concavity error             0.194204      0.143293        0.228082   0.207660   \n",
       "concave points error        0.376169      0.163851        0.407217   0.372320   \n",
       "symmetry error             -0.104321      0.009127       -0.081629  -0.072497   \n",
       "fractal dimension error    -0.042641      0.054458       -0.005523  -0.019887   \n",
       "worst radius                0.969539      0.352573        0.969476   0.962746   \n",
       "worst texture               0.297008      0.912045        0.303038   0.287489   \n",
       "worst perimeter             0.965137      0.358040        0.970387   0.959120   \n",
       "worst area                  0.941082      0.343546        0.941550   0.959213   \n",
       "worst smoothness            0.119616      0.077503        0.150549   0.123523   \n",
       "worst compactness           0.413463      0.277830        0.455774   0.390410   \n",
       "worst concavity             0.526911      0.301025        0.563879   0.512606   \n",
       "worst concave points        0.744214      0.295316        0.771241   0.722017   \n",
       "worst symmetry              0.163953      0.105008        0.189115   0.143570   \n",
       "worst fractal dimension     0.007066      0.119205        0.051019   0.003738   \n",
       "Diagnosis                  -0.730029     -0.415185       -0.742636  -0.708984   \n",
       "\n",
       "                         mean smoothness  mean compactness  mean concavity  \\\n",
       "mean radius                     0.170581          0.506124        0.676764   \n",
       "mean texture                   -0.023389          0.236702        0.302418   \n",
       "mean perimeter                  0.207278          0.556936        0.716136   \n",
       "mean area                       0.177028          0.498502        0.685983   \n",
       "mean smoothness                 1.000000          0.659123        0.521984   \n",
       "mean compactness                0.659123          1.000000        0.883121   \n",
       "mean concavity                  0.521984          0.883121        1.000000   \n",
       "mean concave points             0.553695          0.831135        0.921391   \n",
       "mean symmetry                   0.557775          0.602641        0.500667   \n",
       "mean fractal dimension          0.584792          0.565369        0.336783   \n",
       "radius error                    0.301467          0.497473        0.631925   \n",
       "texture error                   0.068406          0.046205        0.076218   \n",
       "perimeter error                 0.296092          0.548905        0.660391   \n",
       "area error                      0.246552          0.455653        0.617427   \n",
       "smoothness error                0.332375          0.135299        0.098564   \n",
       "compactness error               0.318943          0.738722        0.670279   \n",
       "concavity error                 0.248396          0.570517        0.691270   \n",
       "concave points error            0.380676          0.642262        0.683260   \n",
       "symmetry error                  0.200774          0.229977        0.178009   \n",
       "fractal dimension error         0.283607          0.507318        0.449301   \n",
       "worst radius                    0.213120          0.535315        0.688236   \n",
       "worst texture                   0.036072          0.248133        0.299879   \n",
       "worst perimeter                 0.238853          0.590210        0.729565   \n",
       "worst area                      0.206718          0.509604        0.675987   \n",
       "worst smoothness                0.805324          0.565541        0.448822   \n",
       "worst compactness               0.472468          0.865809        0.754968   \n",
       "worst concavity                 0.434926          0.816275        0.884103   \n",
       "worst concave points            0.503053          0.815573        0.861323   \n",
       "worst symmetry                  0.394309          0.510223        0.409464   \n",
       "worst fractal dimension         0.499316          0.687382        0.514930   \n",
       "Diagnosis                      -0.358560         -0.596534       -0.696360   \n",
       "\n",
       "                         mean concave points  mean symmetry  \\\n",
       "mean radius                         0.822529       0.147741   \n",
       "mean texture                        0.293464       0.071401   \n",
       "mean perimeter                      0.850977       0.183027   \n",
       "mean area                           0.823269       0.151293   \n",
       "mean smoothness                     0.553695       0.557775   \n",
       "mean compactness                    0.831135       0.602641   \n",
       "mean concavity                      0.921391       0.500667   \n",
       "mean concave points                 1.000000       0.462497   \n",
       "mean symmetry                       0.462497       1.000000   \n",
       "mean fractal dimension              0.166917       0.479921   \n",
       "radius error                        0.698050       0.303379   \n",
       "texture error                       0.021480       0.128053   \n",
       "perimeter error                     0.710650       0.313893   \n",
       "area error                          0.690299       0.223970   \n",
       "smoothness error                    0.027653       0.187321   \n",
       "compactness error                   0.490424       0.421659   \n",
       "concavity error                     0.439167       0.342627   \n",
       "concave points error                0.615634       0.393298   \n",
       "symmetry error                      0.095351       0.449137   \n",
       "fractal dimension error             0.257584       0.331786   \n",
       "worst radius                        0.830318       0.185728   \n",
       "worst texture                       0.292752       0.090651   \n",
       "worst perimeter                     0.855923       0.219169   \n",
       "worst area                          0.809630       0.177193   \n",
       "worst smoothness                    0.452753       0.426675   \n",
       "worst compactness                   0.667454       0.473200   \n",
       "worst concavity                     0.752399       0.433721   \n",
       "worst concave points                0.910155       0.430297   \n",
       "worst symmetry                      0.375744       0.699826   \n",
       "worst fractal dimension             0.368661       0.438413   \n",
       "Diagnosis                          -0.776614      -0.330499   \n",
       "\n",
       "                         mean fractal dimension  ...  worst texture  \\\n",
       "mean radius                           -0.311631  ...       0.297008   \n",
       "mean texture                          -0.076437  ...       0.912045   \n",
       "mean perimeter                        -0.261477  ...       0.303038   \n",
       "mean area                             -0.283110  ...       0.287489   \n",
       "mean smoothness                        0.584792  ...       0.036072   \n",
       "mean compactness                       0.565369  ...       0.248133   \n",
       "mean concavity                         0.336783  ...       0.299879   \n",
       "mean concave points                    0.166917  ...       0.292752   \n",
       "mean symmetry                          0.479921  ...       0.090651   \n",
       "mean fractal dimension                 1.000000  ...      -0.051269   \n",
       "radius error                           0.000111  ...       0.194799   \n",
       "texture error                          0.164174  ...       0.409003   \n",
       "perimeter error                        0.039830  ...       0.200371   \n",
       "area error                            -0.090170  ...       0.196497   \n",
       "smoothness error                       0.401964  ...      -0.074743   \n",
       "compactness error                      0.559837  ...       0.143003   \n",
       "concavity error                        0.446630  ...       0.100241   \n",
       "concave points error                   0.341198  ...       0.086741   \n",
       "symmetry error                         0.345007  ...      -0.077473   \n",
       "fractal dimension error                0.688132  ...      -0.003195   \n",
       "worst radius                          -0.253691  ...       0.359921   \n",
       "worst texture                         -0.051269  ...       1.000000   \n",
       "worst perimeter                       -0.205151  ...       0.365098   \n",
       "worst area                            -0.231854  ...       0.345842   \n",
       "worst smoothness                       0.504942  ...       0.225429   \n",
       "worst compactness                      0.458798  ...       0.360832   \n",
       "worst concavity                        0.346234  ...       0.368366   \n",
       "worst concave points                   0.175325  ...       0.359755   \n",
       "worst symmetry                         0.334019  ...       0.233027   \n",
       "worst fractal dimension                0.767297  ...       0.219122   \n",
       "Diagnosis                              0.012838  ...      -0.456903   \n",
       "\n",
       "                         worst perimeter  worst area  worst smoothness  \\\n",
       "mean radius                     0.965137    0.941082          0.119616   \n",
       "mean texture                    0.358040    0.343546          0.077503   \n",
       "mean perimeter                  0.970387    0.941550          0.150549   \n",
       "mean area                       0.959120    0.959213          0.123523   \n",
       "mean smoothness                 0.238853    0.206718          0.805324   \n",
       "mean compactness                0.590210    0.509604          0.565541   \n",
       "mean concavity                  0.729565    0.675987          0.448822   \n",
       "mean concave points             0.855923    0.809630          0.452753   \n",
       "mean symmetry                   0.219169    0.177193          0.426675   \n",
       "mean fractal dimension         -0.205151   -0.231854          0.504942   \n",
       "radius error                    0.719684    0.751548          0.141919   \n",
       "texture error                  -0.102242   -0.083195         -0.073658   \n",
       "perimeter error                 0.721031    0.730713          0.130054   \n",
       "area error                      0.761213    0.811408          0.125389   \n",
       "smoothness error               -0.217304   -0.182195          0.314457   \n",
       "compactness error               0.260516    0.199371          0.227394   \n",
       "concavity error                 0.226680    0.188353          0.168481   \n",
       "concave points error            0.394999    0.342271          0.215351   \n",
       "symmetry error                 -0.103753   -0.110343         -0.012662   \n",
       "fractal dimension error        -0.001000   -0.022736          0.170568   \n",
       "worst radius                    0.993708    0.984015          0.216574   \n",
       "worst texture                   0.365098    0.345842          0.225429   \n",
       "worst perimeter                 1.000000    0.977578          0.236775   \n",
       "worst area                      0.977578    1.000000          0.209145   \n",
       "worst smoothness                0.236775    0.209145          1.000000   \n",
       "worst compactness               0.529408    0.438296          0.568187   \n",
       "worst concavity                 0.618344    0.543331          0.518523   \n",
       "worst concave points            0.816322    0.747419          0.547691   \n",
       "worst symmetry                  0.269493    0.209146          0.493838   \n",
       "worst fractal dimension         0.138957    0.079647          0.617624   \n",
       "Diagnosis                      -0.782914   -0.733825         -0.421465   \n",
       "\n",
       "                         worst compactness  worst concavity  \\\n",
       "mean radius                       0.413463         0.526911   \n",
       "mean texture                      0.277830         0.301025   \n",
       "mean perimeter                    0.455774         0.563879   \n",
       "mean area                         0.390410         0.512606   \n",
       "mean smoothness                   0.472468         0.434926   \n",
       "mean compactness                  0.865809         0.816275   \n",
       "mean concavity                    0.754968         0.884103   \n",
       "mean concave points               0.667454         0.752399   \n",
       "mean symmetry                     0.473200         0.433721   \n",
       "mean fractal dimension            0.458798         0.346234   \n",
       "radius error                      0.287103         0.380585   \n",
       "texture error                    -0.092439        -0.068956   \n",
       "perimeter error                   0.341919         0.418899   \n",
       "area error                        0.283257         0.385100   \n",
       "smoothness error                 -0.055558        -0.058298   \n",
       "compactness error                 0.678780         0.639147   \n",
       "concavity error                   0.484858         0.662564   \n",
       "concave points error              0.452888         0.549592   \n",
       "symmetry error                    0.060255         0.037119   \n",
       "fractal dimension error           0.390159         0.379975   \n",
       "worst radius                      0.475820         0.573975   \n",
       "worst texture                     0.360832         0.368366   \n",
       "worst perimeter                   0.529408         0.618344   \n",
       "worst area                        0.438296         0.543331   \n",
       "worst smoothness                  0.568187         0.518523   \n",
       "worst compactness                 1.000000         0.892261   \n",
       "worst concavity                   0.892261         1.000000   \n",
       "worst concave points              0.801080         0.855434   \n",
       "worst symmetry                    0.614441         0.532520   \n",
       "worst fractal dimension           0.810455         0.686511   \n",
       "Diagnosis                        -0.590998        -0.659610   \n",
       "\n",
       "                         worst concave points  worst symmetry  \\\n",
       "mean radius                          0.744214        0.163953   \n",
       "mean texture                         0.295316        0.105008   \n",
       "mean perimeter                       0.771241        0.189115   \n",
       "mean area                            0.722017        0.143570   \n",
       "mean smoothness                      0.503053        0.394309   \n",
       "mean compactness                     0.815573        0.510223   \n",
       "mean concavity                       0.861323        0.409464   \n",
       "mean concave points                  0.910155        0.375744   \n",
       "mean symmetry                        0.430297        0.699826   \n",
       "mean fractal dimension               0.175325        0.334019   \n",
       "radius error                         0.531062        0.094543   \n",
       "texture error                       -0.119638       -0.128215   \n",
       "perimeter error                      0.554897        0.109930   \n",
       "area error                           0.538166        0.074126   \n",
       "smoothness error                    -0.102007       -0.107342   \n",
       "compactness error                    0.483208        0.277878   \n",
       "concavity error                      0.440472        0.197788   \n",
       "concave points error                 0.602450        0.143116   \n",
       "symmetry error                      -0.030413        0.389402   \n",
       "fractal dimension error              0.215204        0.111094   \n",
       "worst radius                         0.787424        0.243529   \n",
       "worst texture                        0.359755        0.233027   \n",
       "worst perimeter                      0.816322        0.269493   \n",
       "worst area                           0.747419        0.209146   \n",
       "worst smoothness                     0.547691        0.493838   \n",
       "worst compactness                    0.801080        0.614441   \n",
       "worst concavity                      0.855434        0.532520   \n",
       "worst concave points                 1.000000        0.502528   \n",
       "worst symmetry                       0.502528        1.000000   \n",
       "worst fractal dimension              0.511114        0.537848   \n",
       "Diagnosis                           -0.793566       -0.416294   \n",
       "\n",
       "                         worst fractal dimension  Diagnosis  \n",
       "mean radius                             0.007066  -0.730029  \n",
       "mean texture                            0.119205  -0.415185  \n",
       "mean perimeter                          0.051019  -0.742636  \n",
       "mean area                               0.003738  -0.708984  \n",
       "mean smoothness                         0.499316  -0.358560  \n",
       "mean compactness                        0.687382  -0.596534  \n",
       "mean concavity                          0.514930  -0.696360  \n",
       "mean concave points                     0.368661  -0.776614  \n",
       "mean symmetry                           0.438413  -0.330499  \n",
       "mean fractal dimension                  0.767297   0.012838  \n",
       "radius error                            0.049559  -0.567134  \n",
       "texture error                          -0.045655   0.008303  \n",
       "perimeter error                         0.085433  -0.556141  \n",
       "area error                              0.017539  -0.548236  \n",
       "smoothness error                        0.101480   0.067016  \n",
       "compactness error                       0.590973  -0.292999  \n",
       "concavity error                         0.439329  -0.253730  \n",
       "concave points error                    0.310655  -0.408042  \n",
       "symmetry error                          0.078079   0.006522  \n",
       "fractal dimension error                 0.591328  -0.077972  \n",
       "worst radius                            0.093492  -0.776454  \n",
       "worst texture                           0.219122  -0.456903  \n",
       "worst perimeter                         0.138957  -0.782914  \n",
       "worst area                              0.079647  -0.733825  \n",
       "worst smoothness                        0.617624  -0.421465  \n",
       "worst compactness                       0.810455  -0.590998  \n",
       "worst concavity                         0.686511  -0.659610  \n",
       "worst concave points                    0.511114  -0.793566  \n",
       "worst symmetry                          0.537848  -0.416294  \n",
       "worst fractal dimension                 1.000000  -0.323872  \n",
       "Diagnosis                              -0.323872   1.000000  \n",
       "\n",
       "[31 rows x 31 columns]"
      ]
     },
     "execution_count": 190,
     "metadata": {},
     "output_type": "execute_result"
    }
   ],
   "source": [
    "# Now lets get the correlation by looking at the Diagnosis column\n",
    "df_cancer_corr.corr()"
   ]
  },
  {
   "cell_type": "markdown",
   "metadata": {},
   "source": [
    "We can see how negative values affects in a negative way the type of the diagnosis, a positive value affects in apositive wat in the diagnosis and a 0 value does not affect the diagnosis."
   ]
  },
  {
   "cell_type": "code",
   "execution_count": 192,
   "metadata": {},
   "outputs": [
    {
     "data": {
      "text/plain": [
       "<AxesSubplot:>"
      ]
     },
     "execution_count": 192,
     "metadata": {},
     "output_type": "execute_result"
    },
    {
     "data": {
      "image/png": "[encoded data removed]",
      "text/plain": [
       "<Figure size 1224x1224 with 2 Axes>"
      ]
     },
     "metadata": {
      "needs_background": "light"
     },
     "output_type": "display_data"
    }
   ],
   "source": [
    "plt.figure(figsize=(17,17))\n",
    "sns.heatmap(df_cancer_corr.corr(),annot=True)"
   ]
  },
  {
   "cell_type": "markdown",
   "metadata": {},
   "source": [
    "#### 3) Repeat each of the experiments seen in class with the K-Nearest Neighbors model, providing arguments for each of the steps taken along the process, and commenting on the partial results obtained with the selected dataset. Please use as many performance metrics as needed to illustrate the particularities of the selected dataset (e.g. imbalanced classes).\n",
    "\n",
    "Now let's use K-Neighbors model to classify and predict each sample of our dataset. First of all, is required the dataset split into train and test data. To do that, it is posisble to use the train_test_split model or the StratifiedShuffleSplit one. The StratifiedShuffleSplit model is used when the distribution of examples across the classes is not equal (imbalanced classes). In other words, an imbalance occurs when one or more classes have very low proportions in the training data as compared to the other classes. We are going to use both of them to see wich one is better.\n",
    "\n",
    "We are also goint to see the cross validation method seen in class."
   ]
  },
  {
   "cell_type": "markdown",
   "metadata": {},
   "source": [
    "# K-Nearest using K-Fold (Not stratified)"
   ]
  },
  {
   "cell_type": "code",
   "execution_count": 287,
   "metadata": {},
   "outputs": [],
   "source": [
    "KF = KFold(n_splits = 5)\n",
    "n_vecinos = 5"
   ]
  },
  {
   "cell_type": "code",
   "execution_count": 284,
   "metadata": {},
   "outputs": [],
   "source": [
    "# declaring accuracies variable to store the acuracy of each strat\n",
    "accuracies = []\n",
    "\n",
    "for train_index, test_index in KF.split(X):\n",
    "    X_train, X_test = X[train_index], X[test_index]\n",
    "    y_train, y_test = y[train_index], y[test_index]\n",
    "    \n",
    "    clf = KNeighborsClassifier(n_neighbors=n_vecinos)\n",
    "\n",
    "    #entreno el algoritmo con las particiones de train\n",
    "    clf.fit(X_train,y_train)\n",
    "\n",
    "    # Prediceme ahora la parte de test\n",
    "    y_pred = clf.predict(X_test)\n",
    "    \n",
    "    accuracies.append(100.*sum(y_pred==y_test)/len(y_test))"
   ]
  },
  {
   "cell_type": "code",
   "execution_count": 285,
   "metadata": {},
   "outputs": [
    {
     "name": "stdout",
     "output_type": "stream",
     "text": [
      "ejemplos para cada clase:  Counter({1: 270, 0: 186})\n",
      "Acierto:  [93.85964912280701, 98.24561403508773, 96.49122807017544, 98.24561403508773, 94.69026548672566] %\n",
      "Acierto:  96.30647414997671 %\n"
     ]
    }
   ],
   "source": [
    "#print balanced class\n",
    "print(\"ejemplos para cada clase: \", collections.Counter(y_train))\n",
    "    \n",
    "#print numero de aciertos\n",
    "print(\"Acierto: \",str(accuracies),\"%\")\n",
    "#print media de aciertos\n",
    "print(\"Acierto: \",str(np.mean(accuracies)),\"%\")\n"
   ]
  },
  {
   "cell_type": "code",
   "execution_count": 286,
   "metadata": {},
   "outputs": [
    {
     "data": {
      "text/plain": [
       "<sklearn.metrics._plot.confusion_matrix.ConfusionMatrixDisplay at 0x1927148dfd0>"
      ]
     },
     "execution_count": 286,
     "metadata": {},
     "output_type": "execute_result"
    },
    {
     "data": {
      "image/png": "[encoded data removed]",
      "text/plain": [
       "<Figure size 432x288 with 2 Axes>"
      ]
     },
     "metadata": {
      "needs_background": "light"
     },
     "output_type": "display_data"
    }
   ],
   "source": [
    "from sklearn.metrics import plot_confusion_matrix\n",
    "\n",
    "plot_confusion_matrix(clf,X_test,y_test)"
   ]
  },
  {
   "cell_type": "markdown",
   "metadata": {},
   "source": [
    "Just by doing a K-flod validation followed by a KNN model we can see that the acuraccy is very good even tho the data is not balanced.\n",
    "Lest see if we can make it better with stratified k-fold validation."
   ]
  },
  {
   "cell_type": "markdown",
   "metadata": {},
   "source": [
    "# K-Nearest using Strattified Shuffle Split (Stratified K-Fold)"
   ]
  },
  {
   "cell_type": "markdown",
   "metadata": {},
   "source": [
    "This training method is normaly used for unbalanced data"
   ]
  },
  {
   "cell_type": "markdown",
   "metadata": {},
   "source": [
    "##### n_splits = 10 n_vecinos = 5 "
   ]
  },
  {
   "cell_type": "code",
   "execution_count": 197,
   "metadata": {},
   "outputs": [],
   "source": [
    "# First we create the splits we want for the training of the dataset and the number of neighbors for the KNN model \n",
    "sss = StratifiedShuffleSplit(n_splits=10,test_size=0.1,random_state=0)\n",
    "n_vecinos = 5"
   ]
  },
  {
   "cell_type": "code",
   "execution_count": 198,
   "metadata": {},
   "outputs": [],
   "source": [
    "# declaring accuracies variable to store the acuracy of each strat\n",
    "accuracies = []\n",
    "\n",
    "for train_index, test_index in sss.split(X, y):\n",
    "    X_train, X_test = X[train_index], X[test_index]\n",
    "    y_train, y_test = y[train_index], y[test_index]\n",
    "    \n",
    "    clf = KNeighborsClassifier(n_neighbors=n_vecinos)\n",
    "\n",
    "    #entreno el algoritmo con las particiones de train\n",
    "    clf.fit(X_train,y_train)\n",
    "\n",
    "    # Prediceme ahora la parte de test\n",
    "    y_pred = clf.predict(X_test)\n",
    "    \n",
    "    accuracies.append(100.*sum(y_pred==y_test)/len(y_test))"
   ]
  },
  {
   "cell_type": "code",
   "execution_count": 199,
   "metadata": {},
   "outputs": [
    {
     "name": "stdout",
     "output_type": "stream",
     "text": [
      "ejemplos para cada clase:  Counter({1: 321, 0: 191})\n",
      "Acierto:  [92.98245614035088, 96.49122807017544, 98.24561403508773, 100.0, 92.98245614035088, 98.24561403508773, 98.24561403508773, 98.24561403508773, 92.98245614035088, 98.24561403508773] %\n",
      "Acierto:  96.66666666666667 %\n"
     ]
    }
   ],
   "source": [
    "#print balanced class\n",
    "print(\"ejemplos para cada clase: \", collections.Counter(y_train))\n",
    "    \n",
    "#print numero de aciertos\n",
    "print(\"Acierto: \",str(accuracies),\"%\")\n",
    "#print media de aciertos\n",
    "print(\"Acierto: \",str(np.mean(accuracies)),\"%\")\n"
   ]
  },
  {
   "cell_type": "code",
   "execution_count": 200,
   "metadata": {},
   "outputs": [
    {
     "data": {
      "text/plain": [
       "<sklearn.metrics._plot.confusion_matrix.ConfusionMatrixDisplay at 0x1926b4c6850>"
      ]
     },
     "execution_count": 200,
     "metadata": {},
     "output_type": "execute_result"
    },
    {
     "data": {
      "image/png": "[encoded data removed]",
      "text/plain": [
       "<Figure size 432x288 with 2 Axes>"
      ]
     },
     "metadata": {
      "needs_background": "light"
     },
     "output_type": "display_data"
    }
   ],
   "source": [
    "from sklearn.metrics import plot_confusion_matrix\n",
    "\n",
    "plot_confusion_matrix(clf,X_test,y_test)"
   ]
  },
  {
   "cell_type": "markdown",
   "metadata": {},
   "source": [
    "##### n_splits = 10 n_vecinos = 3 "
   ]
  },
  {
   "cell_type": "code",
   "execution_count": 201,
   "metadata": {},
   "outputs": [],
   "source": [
    "sss = StratifiedShuffleSplit(n_splits=10,test_size=0.1,random_state=0)\n",
    "n_vecinos = 3"
   ]
  },
  {
   "cell_type": "code",
   "execution_count": 202,
   "metadata": {},
   "outputs": [],
   "source": [
    "# declaring accuracies variable to store the acuracy of each strat\n",
    "accuracies = []\n",
    "\n",
    "for train_index, test_index in sss.split(X, y):\n",
    "    X_train, X_test = X[train_index], X[test_index]\n",
    "    y_train, y_test = y[train_index], y[test_index]\n",
    "    \n",
    "    clf = KNeighborsClassifier(n_neighbors=n_vecinos)\n",
    "\n",
    "    #entreno el algoritmo con las particiones de train\n",
    "    clf.fit(X_train,y_train)\n",
    "\n",
    "    # Prediceme ahora la parte de test\n",
    "    y_pred = clf.predict(X_test)\n",
    "    \n",
    "    accuracies.append(100.*sum(y_pred==y_test)/len(y_test))"
   ]
  },
  {
   "cell_type": "code",
   "execution_count": 203,
   "metadata": {},
   "outputs": [
    {
     "name": "stdout",
     "output_type": "stream",
     "text": [
      "ejemplos para cada clase:  Counter({1: 321, 0: 191})\n",
      "Acierto:  [94.73684210526316, 94.73684210526316, 98.24561403508773, 100.0, 91.2280701754386, 98.24561403508773, 96.49122807017544, 98.24561403508773, 92.98245614035088, 98.24561403508773] %\n",
      "Acierto:  96.3157894736842 %\n"
     ]
    }
   ],
   "source": [
    "#print balanced class\n",
    "print(\"ejemplos para cada clase: \", collections.Counter(y_train))\n",
    "    \n",
    "#print numero de aciertos\n",
    "print(\"Acierto: \",str(accuracies),\"%\")\n",
    "#print media de aciertos\n",
    "print(\"Acierto: \",str(np.mean(accuracies)),\"%\")\n"
   ]
  },
  {
   "cell_type": "code",
   "execution_count": 204,
   "metadata": {},
   "outputs": [
    {
     "data": {
      "text/plain": [
       "<sklearn.metrics._plot.confusion_matrix.ConfusionMatrixDisplay at 0x1926e47df70>"
      ]
     },
     "execution_count": 204,
     "metadata": {},
     "output_type": "execute_result"
    },
    {
     "data": {
      "image/png": "[encoded data removed]",
      "text/plain": [
       "<Figure size 432x288 with 2 Axes>"
      ]
     },
     "metadata": {
      "needs_background": "light"
     },
     "output_type": "display_data"
    }
   ],
   "source": [
    "from sklearn.metrics import plot_confusion_matrix\n",
    "\n",
    "plot_confusion_matrix(clf,X_test,y_test)"
   ]
  },
  {
   "cell_type": "markdown",
   "metadata": {},
   "source": [
    "##### n_splits = 10 n_vecinos = 15"
   ]
  },
  {
   "cell_type": "code",
   "execution_count": 205,
   "metadata": {},
   "outputs": [],
   "source": [
    "sss = StratifiedShuffleSplit(n_splits=10,test_size=0.1,random_state=0)\n",
    "n_vecinos = 15"
   ]
  },
  {
   "cell_type": "code",
   "execution_count": 206,
   "metadata": {},
   "outputs": [],
   "source": [
    "# declaring accuracies variable to store the acuracy of each strat\n",
    "accuracies = []\n",
    "\n",
    "for train_index, test_index in sss.split(X, y):\n",
    "    X_train, X_test = X[train_index], X[test_index]\n",
    "    y_train, y_test = y[train_index], y[test_index]\n",
    "    \n",
    "    clf = KNeighborsClassifier(n_neighbors=n_vecinos)\n",
    "\n",
    "    #entreno el algoritmo con las particiones de train\n",
    "    clf.fit(X_train,y_train)\n",
    "\n",
    "    # Prediceme ahora la parte de test\n",
    "    y_pred = clf.predict(X_test)\n",
    "    \n",
    "    accuracies.append(100.*sum(y_pred==y_test)/len(y_test))"
   ]
  },
  {
   "cell_type": "code",
   "execution_count": 207,
   "metadata": {},
   "outputs": [
    {
     "name": "stdout",
     "output_type": "stream",
     "text": [
      "ejemplos para cada clase:  Counter({1: 321, 0: 191})\n",
      "Acierto:  [96.49122807017544, 96.49122807017544, 100.0, 98.24561403508773, 94.73684210526316, 98.24561403508773, 96.49122807017544, 98.24561403508773, 96.49122807017544, 98.24561403508773] %\n",
      "Acierto:  97.36842105263159 %\n"
     ]
    }
   ],
   "source": [
    "#print balanced class\n",
    "print(\"ejemplos para cada clase: \", collections.Counter(y_train))\n",
    "    \n",
    "#print numero de aciertos\n",
    "print(\"Acierto: \",str(accuracies),\"%\")\n",
    "#print media de aciertos\n",
    "print(\"Acierto: \",str(np.mean(accuracies)),\"%\")\n"
   ]
  },
  {
   "cell_type": "code",
   "execution_count": 208,
   "metadata": {},
   "outputs": [
    {
     "data": {
      "text/plain": [
       "<sklearn.metrics._plot.confusion_matrix.ConfusionMatrixDisplay at 0x1926b60a130>"
      ]
     },
     "execution_count": 208,
     "metadata": {},
     "output_type": "execute_result"
    },
    {
     "data": {
      "image/png": "[encoded data removed]",
      "text/plain": [
       "<Figure size 432x288 with 2 Axes>"
      ]
     },
     "metadata": {
      "needs_background": "light"
     },
     "output_type": "display_data"
    }
   ],
   "source": [
    "from sklearn.metrics import plot_confusion_matrix\n",
    "\n",
    "plot_confusion_matrix(clf,X_test,y_test)"
   ]
  },
  {
   "cell_type": "markdown",
   "metadata": {},
   "source": [
    "##### n_splits = 5 n_vecinos = 15"
   ]
  },
  {
   "cell_type": "code",
   "execution_count": 209,
   "metadata": {},
   "outputs": [],
   "source": [
    "sss = StratifiedShuffleSplit(n_splits=5,test_size=0.1,random_state=0)\n",
    "n_vecinos = 15"
   ]
  },
  {
   "cell_type": "code",
   "execution_count": 210,
   "metadata": {},
   "outputs": [],
   "source": [
    "# declaring accuracies variable to store the acuracy of each strat\n",
    "accuracies = []\n",
    "\n",
    "for train_index, test_index in sss.split(X, y):\n",
    "    X_train, X_test = X[train_index], X[test_index]\n",
    "    y_train, y_test = y[train_index], y[test_index]\n",
    "    \n",
    "    clf = KNeighborsClassifier(n_neighbors=n_vecinos)\n",
    "\n",
    "    #entreno el algoritmo con las particiones de train\n",
    "    clf.fit(X_train,y_train)\n",
    "\n",
    "    # Prediceme ahora la parte de test\n",
    "    y_pred = clf.predict(X_test)\n",
    "    \n",
    "    accuracies.append(100.*sum(y_pred==y_test)/len(y_test))"
   ]
  },
  {
   "cell_type": "code",
   "execution_count": 211,
   "metadata": {},
   "outputs": [
    {
     "name": "stdout",
     "output_type": "stream",
     "text": [
      "ejemplos para cada clase:  Counter({1: 321, 0: 191})\n",
      "Acierto:  [96.49122807017544, 96.49122807017544, 100.0, 98.24561403508773, 94.73684210526316] %\n",
      "Acierto:  97.19298245614036 %\n"
     ]
    }
   ],
   "source": [
    "#print balanced class\n",
    "print(\"ejemplos para cada clase: \", collections.Counter(y_train))\n",
    "    \n",
    "#print numero de aciertos\n",
    "print(\"Acierto: \",str(accuracies),\"%\")\n",
    "#print media de aciertos\n",
    "print(\"Acierto: \",str(np.mean(accuracies)),\"%\")"
   ]
  },
  {
   "cell_type": "code",
   "execution_count": 212,
   "metadata": {},
   "outputs": [
    {
     "data": {
      "text/plain": [
       "<sklearn.metrics._plot.confusion_matrix.ConfusionMatrixDisplay at 0x1926e5360a0>"
      ]
     },
     "execution_count": 212,
     "metadata": {},
     "output_type": "execute_result"
    },
    {
     "data": {
      "image/png": "[encoded data removed]",
      "text/plain": [
       "<Figure size 432x288 with 2 Axes>"
      ]
     },
     "metadata": {
      "needs_background": "light"
     },
     "output_type": "display_data"
    }
   ],
   "source": [
    "from sklearn.metrics import plot_confusion_matrix\n",
    "\n",
    "plot_confusion_matrix(clf,X_test,y_test)"
   ]
  },
  {
   "cell_type": "markdown",
   "metadata": {},
   "source": [
    "##### n_splits = 3 n_vecinos = 3"
   ]
  },
  {
   "cell_type": "code",
   "execution_count": 213,
   "metadata": {},
   "outputs": [],
   "source": [
    "sss = StratifiedShuffleSplit(n_splits=3,test_size=0.1,random_state=0)\n",
    "n_vecinos = 3"
   ]
  },
  {
   "cell_type": "code",
   "execution_count": 214,
   "metadata": {},
   "outputs": [],
   "source": [
    "# declaring accuracies variable to store the acuracy of each strat\n",
    "accuracies = []\n",
    "\n",
    "for train_index, test_index in sss.split(X, y):\n",
    "    X_train, X_test = X[train_index], X[test_index]\n",
    "    y_train, y_test = y[train_index], y[test_index]\n",
    "    \n",
    "    clf = KNeighborsClassifier(n_neighbors=n_vecinos)\n",
    "\n",
    "    #entreno el algoritmo con las particiones de train\n",
    "    clf.fit(X_train,y_train)\n",
    "\n",
    "    # Prediceme ahora la parte de test\n",
    "    y_pred = clf.predict(X_test)\n",
    "    \n",
    "    accuracies.append(100.*sum(y_pred==y_test)/len(y_test))"
   ]
  },
  {
   "cell_type": "code",
   "execution_count": 215,
   "metadata": {},
   "outputs": [
    {
     "name": "stdout",
     "output_type": "stream",
     "text": [
      "ejemplos para cada clase:  Counter({1: 321, 0: 191})\n",
      "Acierto:  [94.73684210526316, 94.73684210526316, 98.24561403508773] %\n",
      "Acierto:  95.90643274853801 %\n"
     ]
    }
   ],
   "source": [
    "#print balanced class\n",
    "print(\"ejemplos para cada clase: \", collections.Counter(y_train))\n",
    "    \n",
    "#print numero de aciertos\n",
    "print(\"Acierto: \",str(accuracies),\"%\")\n",
    "#print media de aciertos\n",
    "print(\"Acierto: \",str(np.mean(accuracies)),\"%\")"
   ]
  },
  {
   "cell_type": "code",
   "execution_count": 216,
   "metadata": {},
   "outputs": [
    {
     "data": {
      "text/plain": [
       "<sklearn.metrics._plot.confusion_matrix.ConfusionMatrixDisplay at 0x1926e5a3af0>"
      ]
     },
     "execution_count": 216,
     "metadata": {},
     "output_type": "execute_result"
    },
    {
     "data": {
      "image/png": "[encoded data removed]",
      "text/plain": [
       "<Figure size 432x288 with 2 Axes>"
      ]
     },
     "metadata": {
      "needs_background": "light"
     },
     "output_type": "display_data"
    }
   ],
   "source": [
    "from sklearn.metrics import plot_confusion_matrix\n",
    "\n",
    "plot_confusion_matrix(clf,X_test,y_test)"
   ]
  },
  {
   "cell_type": "markdown",
   "metadata": {},
   "source": [
    "**Conclusion**\n",
    "\n",
    "\n",
    "In almost every combination of the stratified k-fold validation we can get a better accuracy that the one we got with using only k-fold validation.\n",
    "\n",
    "K-Fold validation 96.306 %\n",
    "\n",
    "\n",
    "Stratified K-Fold validation 97.368 %\n",
    "\n"
   ]
  },
  {
   "cell_type": "markdown",
   "metadata": {},
   "source": [
    "# K-Nearest using Cross Validation\n",
    "\n",
    "In this case we are going to use the cross validation "
   ]
  },
  {
   "cell_type": "code",
   "execution_count": 325,
   "metadata": {},
   "outputs": [],
   "source": [
    "# we create one strat for the cross validation because the data is unbalanced \n",
    "sss = StratifiedShuffleSplit(n_splits=1,test_size=0.1,random_state=13)"
   ]
  },
  {
   "cell_type": "code",
   "execution_count": 326,
   "metadata": {},
   "outputs": [],
   "source": [
    "# we set the train test split\n",
    "for train_index, test_index in sss.split(X, y):\n",
    "    X_train, X_test = X[train_index], X[test_index]\n",
    "    y_train, y_test = y[train_index], y[test_index]"
   ]
  },
  {
   "cell_type": "code",
   "execution_count": 327,
   "metadata": {},
   "outputs": [],
   "source": [
    "# we set some diferent neighbors values so that the gridsearch method can find the most apropied\n",
    "params =  {'n_neighbors' : [3,5,9,11,13]}"
   ]
  },
  {
   "cell_type": "code",
   "execution_count": 328,
   "metadata": {},
   "outputs": [
    {
     "data": {
      "text/plain": [
       "GridSearchCV(cv=5, estimator=KNeighborsClassifier(),\n",
       "             param_grid={'n_neighbors': [3, 5, 9, 11, 13]}, scoring='accuracy')"
      ]
     },
     "execution_count": 328,
     "metadata": {},
     "output_type": "execute_result"
    }
   ],
   "source": [
    "# the grid serach cross validation tries every combination of the params we give to the method. In this case we are just giving \n",
    "# the number of nearest neighbors for the KNN but in the following paragrafs we will use some more.\n",
    "from sklearn.model_selection import GridSearchCV\n",
    "clf = KNeighborsClassifier()\n",
    "gs = GridSearchCV(estimator=clf,param_grid=params,scoring='accuracy',cv=5)\n",
    "gs.fit(X_train,y_train)"
   ]
  },
  {
   "cell_type": "code",
   "execution_count": 329,
   "metadata": {},
   "outputs": [],
   "source": [
    "resultsCV = gs.cv_results_\n",
    "# we get the best convination of the grid search\n",
    "clfBest = gs.best_estimator_\n",
    "# we train the model with the best convination\n",
    "clfBest.fit(X_train,y_train)\n",
    "# we predict the value separated in the train test fase\n",
    "y_pred = clfBest.predict(X_test)"
   ]
  },
  {
   "cell_type": "code",
   "execution_count": 330,
   "metadata": {},
   "outputs": [
    {
     "data": {
      "text/plain": [
       "KNeighborsClassifier(n_neighbors=11)"
      ]
     },
     "execution_count": 330,
     "metadata": {},
     "output_type": "execute_result"
    }
   ],
   "source": [
    "#printing the best combination of parameters\n",
    "gs.best_estimator_"
   ]
  },
  {
   "cell_type": "code",
   "execution_count": 222,
   "metadata": {},
   "outputs": [
    {
     "name": "stdout",
     "output_type": "stream",
     "text": [
      "0.9649122807017544\n"
     ]
    }
   ],
   "source": [
    "from sklearn.metrics import accuracy_score\n",
    "# We print now the accuracy score of the model\n",
    "print(accuracy_score(y_test, y_pred))"
   ]
  },
  {
   "cell_type": "code",
   "execution_count": 223,
   "metadata": {},
   "outputs": [
    {
     "data": {
      "text/plain": [
       "<sklearn.metrics._plot.confusion_matrix.ConfusionMatrixDisplay at 0x1926e637820>"
      ]
     },
     "execution_count": 223,
     "metadata": {},
     "output_type": "execute_result"
    },
    {
     "data": {
      "image/png": "[encoded data removed]",
      "text/plain": [
       "<Figure size 432x288 with 2 Axes>"
      ]
     },
     "metadata": {
      "needs_background": "light"
     },
     "output_type": "display_data"
    }
   ],
   "source": [
    "from sklearn.metrics import plot_confusion_matrix\n",
    "# now we print the confision matrix\n",
    "plot_confusion_matrix(clfBest,X_test,y_test)"
   ]
  },
  {
   "cell_type": "code",
   "execution_count": 224,
   "metadata": {},
   "outputs": [
    {
     "name": "stdout",
     "output_type": "stream",
     "text": [
      "ejemplos para cada clase:  Counter({1: 321, 0: 191})\n"
     ]
    }
   ],
   "source": [
    "#print balanced class\n",
    "print(\"ejemplos para cada clase: \", collections.Counter(y_train))"
   ]
  },
  {
   "cell_type": "markdown",
   "metadata": {},
   "source": [
    "We can see that the y_train as well as the y variable is unbalanced "
   ]
  },
  {
   "cell_type": "markdown",
   "metadata": {},
   "source": [
    "- #### Precision score : it indicates how accurate the positive predictions are "
   ]
  },
  {
   "cell_type": "code",
   "execution_count": 296,
   "metadata": {},
   "outputs": [
    {
     "name": "stdout",
     "output_type": "stream",
     "text": [
      "precision score is:  0.9879518072289156\n"
     ]
    }
   ],
   "source": [
    "from sklearn.metrics import precision_score\n",
    "# printing precision score\n",
    "print('precision score is: ',precision_score(y_test, y_pred))"
   ]
  },
  {
   "cell_type": "markdown",
   "metadata": {},
   "source": [
    "- #### Recall score : it is thhe coverage of actual positive samples "
   ]
  },
  {
   "cell_type": "code",
   "execution_count": 291,
   "metadata": {},
   "outputs": [
    {
     "name": "stdout",
     "output_type": "stream",
     "text": [
      "recall score is:  0.9425287356321839\n"
     ]
    }
   ],
   "source": [
    "from sklearn.metrics import recall_score\n",
    "# printing recall score\n",
    "print('recall score is: ',recall_score(y_test, y_pred))"
   ]
  },
  {
   "cell_type": "markdown",
   "metadata": {},
   "source": [
    "- #### Hybrid metric, usefull for unbalanced classes as it happens in this case "
   ]
  },
  {
   "cell_type": "code",
   "execution_count": 292,
   "metadata": {},
   "outputs": [
    {
     "name": "stdout",
     "output_type": "stream",
     "text": [
      "f1 score is:  0.9647058823529412\n"
     ]
    }
   ],
   "source": [
    "from sklearn.metrics import f1_score\n",
    "# printing f1 score\n",
    "print('f1 score is: ',f1_score(y_test, y_pred))"
   ]
  },
  {
   "cell_type": "markdown",
   "metadata": {},
   "source": [
    "**Conclusion**\n",
    "\n",
    "\n",
    "As it was to be spected because of the unbalanced class we get a better result by using stratified k-fold validation\n",
    "\n",
    "K-Fold validation 96.306 %\n",
    "\n",
    "\n",
    "Stratified K-Fold validation 97.368 %\n",
    "\n",
    "Cross validation 96.491%"
   ]
  },
  {
   "cell_type": "markdown",
   "metadata": {},
   "source": [
    "#### 4) Read the Scikit-learn library documentation and configure the automated validation script so that the GridSearchCV() function uses leave-one-out cross-validation instead of k-fold. Which conclusions can be drawn from the mean cross-validation scores and the test scores using a k-neighbor model with optimized k?"
   ]
  },
  {
   "cell_type": "markdown",
   "metadata": {},
   "source": [
    "# K-Nearest Neighbors using leave one out cross validation"
   ]
  },
  {
   "cell_type": "markdown",
   "metadata": {},
   "source": [
    "- In this case we are going to do a cross validation but using leave one out instead of the k-fold method"
   ]
  },
  {
   "cell_type": "code",
   "execution_count": 318,
   "metadata": {},
   "outputs": [],
   "source": [
    "# we import the leave one out method\n",
    "from sklearn.model_selection import LeaveOneOut\n",
    "LOO = LeaveOneOut()"
   ]
  },
  {
   "cell_type": "code",
   "execution_count": 319,
   "metadata": {},
   "outputs": [],
   "source": [
    "# we create one strat for the cross validation because the data is unbalanced \n",
    "sss = StratifiedShuffleSplit(n_splits=1,test_size=0.1,random_state=13)"
   ]
  },
  {
   "cell_type": "code",
   "execution_count": 320,
   "metadata": {},
   "outputs": [],
   "source": [
    "# we set the train test split\n",
    "for train_index, test_index in sss.split(X, y):\n",
    "    X_train, X_test = X[train_index], X[test_index]\n",
    "    y_train, y_test = y[train_index], y[test_index]\n"
   ]
  },
  {
   "cell_type": "code",
   "execution_count": 321,
   "metadata": {},
   "outputs": [],
   "source": [
    "# get the bests neighbors param for grid search\n",
    "params =  {'n_neighbors' : [3,5,9,11,13]}"
   ]
  },
  {
   "cell_type": "code",
   "execution_count": 322,
   "metadata": {},
   "outputs": [
    {
     "data": {
      "text/plain": [
       "GridSearchCV(cv=LeaveOneOut(), estimator=KNeighborsClassifier(),\n",
       "             param_grid={'n_neighbors': [3, 5, 9, 11, 13]}, scoring='accuracy')"
      ]
     },
     "execution_count": 322,
     "metadata": {},
     "output_type": "execute_result"
    }
   ],
   "source": [
    "clf = KNeighborsClassifier()\n",
    "# to use the Leave one out validation we have to set it in the cv of the grid search\n",
    "gs = GridSearchCV(estimator=clf,param_grid=params,scoring='accuracy',cv=LOO)\n",
    "gs.fit(X_train,y_train)"
   ]
  },
  {
   "cell_type": "code",
   "execution_count": 323,
   "metadata": {},
   "outputs": [],
   "source": [
    "resultsCV = gs.cv_results_\n",
    "# we get the best combination\n",
    "clfBest = gs.best_estimator_\n",
    "# we train with the best combination\n",
    "clfBest.fit(X_train,y_train)\n",
    "# we predict with the resulting training\n",
    "y_pred = clfBest.predict(X_test)"
   ]
  },
  {
   "cell_type": "code",
   "execution_count": 231,
   "metadata": {},
   "outputs": [
    {
     "name": "stdout",
     "output_type": "stream",
     "text": [
      "0.9649122807017544\n"
     ]
    }
   ],
   "source": [
    "from sklearn.metrics import accuracy_score\n",
    "\n",
    "print(accuracy_score(y_test, y_pred))"
   ]
  },
  {
   "cell_type": "code",
   "execution_count": 232,
   "metadata": {
    "scrolled": true
   },
   "outputs": [
    {
     "data": {
      "text/plain": [
       "<sklearn.metrics._plot.confusion_matrix.ConfusionMatrixDisplay at 0x1926e642850>"
      ]
     },
     "execution_count": 232,
     "metadata": {},
     "output_type": "execute_result"
    },
    {
     "data": {
      "image/png": "[encoded data removed]",
      "text/plain": [
       "<Figure size 432x288 with 2 Axes>"
      ]
     },
     "metadata": {
      "needs_background": "light"
     },
     "output_type": "display_data"
    }
   ],
   "source": [
    "from sklearn.metrics import plot_confusion_matrix\n",
    "\n",
    "plot_confusion_matrix(clfBest,X_test,y_test)\n"
   ]
  },
  {
   "cell_type": "markdown",
   "metadata": {},
   "source": [
    "**Conclusions:**\n",
    "\n",
    "LeaveOneOut results are the same as the cross-validation results with optimized k (K=11).In both we get a 96.491% accuracy."
   ]
  },
  {
   "cell_type": "markdown",
   "metadata": {},
   "source": [
    "#### 5) Elaborate on the need for stratifying the cross-validation process analyzing the distribution of samples by class. If so, please show with empirical evidence what could occur if such a stratification was not performed, specially when decreasing the number of samples of the dataset."
   ]
  },
  {
   "cell_type": "markdown",
   "metadata": {},
   "source": [
    "# KNN method with not stratified cross validation"
   ]
  },
  {
   "cell_type": "code",
   "execution_count": 331,
   "metadata": {},
   "outputs": [],
   "source": [
    "from sklearn.model_selection import train_test_split\n",
    "\n",
    "X_train, X_test, y_train, y_test = train_test_split(X, y,test_size=0.4,random_state=0)"
   ]
  },
  {
   "cell_type": "code",
   "execution_count": 332,
   "metadata": {},
   "outputs": [],
   "source": [
    "params =  {'n_neighbors' : [3,5,9,11,13]}"
   ]
  },
  {
   "cell_type": "code",
   "execution_count": 333,
   "metadata": {},
   "outputs": [
    {
     "data": {
      "text/plain": [
       "GridSearchCV(cv=5, estimator=KNeighborsClassifier(),\n",
       "             param_grid={'n_neighbors': [3, 5, 9, 11, 13]}, scoring='accuracy')"
      ]
     },
     "execution_count": 333,
     "metadata": {},
     "output_type": "execute_result"
    }
   ],
   "source": [
    "clf = KNeighborsClassifier()\n",
    "\n",
    "gs = GridSearchCV(estimator=clf,param_grid=params,scoring='accuracy',cv=5)\n",
    "\n",
    "gs.fit(X_train,y_train)"
   ]
  },
  {
   "cell_type": "code",
   "execution_count": 334,
   "metadata": {},
   "outputs": [],
   "source": [
    "resultsCV = gs.cv_results_\n",
    "\n",
    "#cogemos la mejor combinacion\n",
    "clfBest = gs.best_estimator_\n",
    "\n",
    "#entreno con la mejor combinacion\n",
    "clfBest.fit(X_train,y_train)\n",
    "\n",
    "#predigo con este entrenamiento\n",
    "y_pred = clfBest.predict(X_test)"
   ]
  },
  {
   "cell_type": "code",
   "execution_count": 335,
   "metadata": {},
   "outputs": [
    {
     "data": {
      "text/plain": [
       "KNeighborsClassifier(n_neighbors=11)"
      ]
     },
     "execution_count": 335,
     "metadata": {},
     "output_type": "execute_result"
    }
   ],
   "source": [
    "#printing the best combination of parameters\n",
    "clfBest"
   ]
  },
  {
   "cell_type": "code",
   "execution_count": 336,
   "metadata": {},
   "outputs": [
    {
     "name": "stdout",
     "output_type": "stream",
     "text": [
      "0.9385964912280702\n"
     ]
    }
   ],
   "source": [
    "from sklearn.metrics import accuracy_score\n",
    "\n",
    "print(accuracy_score(y_test, y_pred))"
   ]
  },
  {
   "cell_type": "code",
   "execution_count": 238,
   "metadata": {},
   "outputs": [
    {
     "data": {
      "text/plain": [
       "<sklearn.metrics._plot.confusion_matrix.ConfusionMatrixDisplay at 0x1926e5a88e0>"
      ]
     },
     "execution_count": 238,
     "metadata": {},
     "output_type": "execute_result"
    },
    {
     "data": {
      "image/png": "[encoded data removed]",
      "text/plain": [
       "<Figure size 432x288 with 2 Axes>"
      ]
     },
     "metadata": {
      "needs_background": "light"
     },
     "output_type": "display_data"
    }
   ],
   "source": [
    "from sklearn.metrics import plot_confusion_matrix\n",
    "\n",
    "plot_confusion_matrix(clfBest,X_test,y_test)"
   ]
  },
  {
   "cell_type": "markdown",
   "metadata": {},
   "source": [
    "**Conclusion**\n",
    "\n",
    "Not stratified = 93.8596% accuracy (k=11)\n",
    "\n",
    "\n",
    "stratified = 96.4912% accuracy (k=11)\n",
    "\n",
    "As we could predict by using not stratiffied cross validation we get a worst result this is because the clases are not balanced and if we dont stratiffy our data the model migth not be getting a adecuate number of data for both classes. the results could be even worst if we decreased the amount of data we have abaliable because the test train split could be even more unbalanaced.\n"
   ]
  },
  {
   "cell_type": "markdown",
   "metadata": {},
   "source": [
    "#### 6) Include in the set of hyper-parameters adjusted via cross-validation process the weights of the distance metric between samples according to the “weights” parameter of the model in Scikit-learn. Compute the model’s performance when distance metric weights are fine-tuned within cross-validation with respect to only tuning the number of neighbors (K).\n",
    "\n"
   ]
  },
  {
   "cell_type": "markdown",
   "metadata": {},
   "source": [
    "# KNN using cross validation adding weights"
   ]
  },
  {
   "cell_type": "markdown",
   "metadata": {},
   "source": [
    "To solve this section we only have to compare the model accuracy using GridSearchCV without an 'uniform' in 'weights' parameter with the accuracy using 'distance' in 'weights' parameter. "
   ]
  },
  {
   "cell_type": "code",
   "execution_count": 424,
   "metadata": {},
   "outputs": [],
   "source": [
    "sss = StratifiedShuffleSplit(n_splits=1,test_size=0.1,random_state=13)"
   ]
  },
  {
   "cell_type": "code",
   "execution_count": 425,
   "metadata": {},
   "outputs": [],
   "source": [
    "for train_index, test_index in sss.split(X, y):\n",
    "    X_train, X_test = X[train_index], X[test_index]\n",
    "    y_train, y_test = y[train_index], y[test_index]"
   ]
  },
  {
   "cell_type": "code",
   "execution_count": 426,
   "metadata": {},
   "outputs": [],
   "source": [
    "params =  {'n_neighbors' : [3,5,9,11,13], 'weights' : ['uniform','distance']}"
   ]
  },
  {
   "cell_type": "code",
   "execution_count": 427,
   "metadata": {},
   "outputs": [
    {
     "data": {
      "text/plain": [
       "GridSearchCV(cv=5, estimator=KNeighborsClassifier(),\n",
       "             param_grid={'n_neighbors': [3, 5, 9, 11, 13],\n",
       "                         'weights': ['uniform', 'distance']},\n",
       "             scoring='accuracy')"
      ]
     },
     "execution_count": 427,
     "metadata": {},
     "output_type": "execute_result"
    }
   ],
   "source": [
    "clf = KNeighborsClassifier()\n",
    "\n",
    "gs = GridSearchCV(estimator=clf,param_grid=params,scoring='accuracy',cv=5)\n",
    "\n",
    "gs.fit(X_train,y_train)"
   ]
  },
  {
   "cell_type": "code",
   "execution_count": 428,
   "metadata": {},
   "outputs": [],
   "source": [
    "resultsCV = gs.cv_results_\n",
    "\n",
    "#cogemos la mejor combinacion\n",
    "clfBest = gs.best_estimator_\n",
    "\n",
    "#entreno con la mejor combinacion\n",
    "clfBest.fit(X_train,y_train)\n",
    "\n",
    "#predigo con este entrenamiento\n",
    "y_pred = clfBest.predict(X_test)"
   ]
  },
  {
   "cell_type": "code",
   "execution_count": 429,
   "metadata": {},
   "outputs": [
    {
     "data": {
      "text/plain": [
       "{'mean_fit_time': array([0.00180807, 0.00120029, 0.00160022, 0.00140047, 0.0010179 ,\n",
       "        0.00100055, 0.00161805, 0.0010006 , 0.00100088, 0.00100079]),\n",
       " 'std_fit_time': array([7.57968003e-04, 3.99424905e-04, 4.89163984e-04, 4.90563478e-04,\n",
       "        3.55966524e-05, 1.37871097e-06, 5.05751024e-04, 1.10189629e-06,\n",
       "        5.43678010e-07, 1.17383324e-06]),\n",
       " 'mean_score_time': array([0.00479088, 0.00219765, 0.0041997 , 0.00199885, 0.00394917,\n",
       "        0.00253053, 0.00404444, 0.00273204, 0.0050622 , 0.002529  ]),\n",
       " 'std_score_time': array([1.15381204e-03, 3.99639854e-04, 4.01520910e-04, 9.46494734e-07,\n",
       "        9.93014956e-05, 4.52275970e-04, 3.57640730e-04, 3.89546016e-04,\n",
       "        8.00323407e-05, 4.52107076e-04]),\n",
       " 'param_n_neighbors': masked_array(data=[3, 3, 5, 5, 9, 9, 11, 11, 13, 13],\n",
       "              mask=[False, False, False, False, False, False, False, False,\n",
       "                    False, False],\n",
       "        fill_value='?',\n",
       "             dtype=object),\n",
       " 'param_weights': masked_array(data=['uniform', 'distance', 'uniform', 'distance',\n",
       "                    'uniform', 'distance', 'uniform', 'distance',\n",
       "                    'uniform', 'distance'],\n",
       "              mask=[False, False, False, False, False, False, False, False,\n",
       "                    False, False],\n",
       "        fill_value='?',\n",
       "             dtype=object),\n",
       " 'params': [{'n_neighbors': 3, 'weights': 'uniform'},\n",
       "  {'n_neighbors': 3, 'weights': 'distance'},\n",
       "  {'n_neighbors': 5, 'weights': 'uniform'},\n",
       "  {'n_neighbors': 5, 'weights': 'distance'},\n",
       "  {'n_neighbors': 9, 'weights': 'uniform'},\n",
       "  {'n_neighbors': 9, 'weights': 'distance'},\n",
       "  {'n_neighbors': 11, 'weights': 'uniform'},\n",
       "  {'n_neighbors': 11, 'weights': 'distance'},\n",
       "  {'n_neighbors': 13, 'weights': 'uniform'},\n",
       "  {'n_neighbors': 13, 'weights': 'distance'}],\n",
       " 'split0_test_score': array([0.97087379, 0.97087379, 0.99029126, 0.99029126, 0.99029126,\n",
       "        0.99029126, 0.99029126, 0.99029126, 0.98058252, 0.98058252]),\n",
       " 'split1_test_score': array([0.93203883, 0.93203883, 0.95145631, 0.95145631, 0.94174757,\n",
       "        0.94174757, 0.96116505, 0.96116505, 0.96116505, 0.96116505]),\n",
       " 'split2_test_score': array([0.99019608, 0.99019608, 0.98039216, 0.98039216, 0.97058824,\n",
       "        0.97058824, 0.98039216, 0.98039216, 0.97058824, 0.98039216]),\n",
       " 'split3_test_score': array([0.95098039, 0.95098039, 0.93137255, 0.93137255, 0.93137255,\n",
       "        0.93137255, 0.94117647, 0.94117647, 0.95098039, 0.95098039]),\n",
       " 'split4_test_score': array([0.97058824, 0.97058824, 0.97058824, 0.97058824, 0.96078431,\n",
       "        0.96078431, 0.97058824, 0.97058824, 0.96078431, 0.96078431]),\n",
       " 'mean_test_score': array([0.96293547, 0.96293547, 0.9648201 , 0.9648201 , 0.95895679,\n",
       "        0.95895679, 0.96872263, 0.96872263, 0.9648201 , 0.96678089]),\n",
       " 'std_test_score': array([0.01981034, 0.01981034, 0.02108018, 0.02108018, 0.02086877,\n",
       "        0.02086877, 0.01685688, 0.01685688, 0.01002906, 0.01177203]),\n",
       " 'rank_test_score': array([7, 7, 4, 4, 9, 9, 1, 1, 4, 3])}"
      ]
     },
     "execution_count": 429,
     "metadata": {},
     "output_type": "execute_result"
    }
   ],
   "source": [
    "#printing the results\n",
    "gs.cv_results_\n"
   ]
  },
  {
   "cell_type": "code",
   "execution_count": 430,
   "metadata": {},
   "outputs": [
    {
     "name": "stdout",
     "output_type": "stream",
     "text": [
      "KNeighborsClassifier(n_neighbors=11)\n"
     ]
    }
   ],
   "source": [
    "#printing the best combination of parameters\n",
    "print(gs.best_estimator_)"
   ]
  },
  {
   "cell_type": "code",
   "execution_count": 431,
   "metadata": {},
   "outputs": [
    {
     "data": {
      "text/plain": [
       "{'n_neighbors': 11, 'weights': 'uniform'}"
      ]
     },
     "execution_count": 431,
     "metadata": {},
     "output_type": "execute_result"
    }
   ],
   "source": [
    "gs.best_params_"
   ]
  },
  {
   "cell_type": "code",
   "execution_count": 432,
   "metadata": {},
   "outputs": [
    {
     "name": "stdout",
     "output_type": "stream",
     "text": [
      "0.9649122807017544\n"
     ]
    }
   ],
   "source": [
    "from sklearn.metrics import accuracy_score\n",
    "\n",
    "print(accuracy_score(y_test, y_pred))"
   ]
  },
  {
   "cell_type": "code",
   "execution_count": 423,
   "metadata": {},
   "outputs": [
    {
     "data": {
      "text/plain": [
       "<sklearn.metrics._plot.confusion_matrix.ConfusionMatrixDisplay at 0x19272aeb4f0>"
      ]
     },
     "execution_count": 423,
     "metadata": {},
     "output_type": "execute_result"
    },
    {
     "data": {
      "image/png": "[encoded data removed]",
      "text/plain": [
       "<Figure size 432x288 with 2 Axes>"
      ]
     },
     "metadata": {
      "needs_background": "light"
     },
     "output_type": "display_data"
    }
   ],
   "source": [
    "from sklearn.metrics import plot_confusion_matrix\n",
    "\n",
    "plot_confusion_matrix(clfBest,X_test,y_test)"
   ]
  },
  {
   "cell_type": "markdown",
   "metadata": {},
   "source": [
    "**Conclusions:**\n",
    "\n",
    "the model's performance for an optimal number of neighbors (k = 11) is 96.4912% the same as when we dident specify the weigth pararm, this is because the uniform value is the defalt one and the params selected where 'n_neighbors': 11, 'weights': 'uniform'"
   ]
  },
  {
   "cell_type": "markdown",
   "metadata": {},
   "source": [
    "#### 7) Following the same approach as in the last section, enter the type of distance metric (“metric” parameter) within the cross-validation process. Evaluates the results and gains / losses of generalizability of the model."
   ]
  },
  {
   "cell_type": "markdown",
   "metadata": {},
   "source": [
    "# KNN cross validation adding weights and metrics"
   ]
  },
  {
   "cell_type": "code",
   "execution_count": 441,
   "metadata": {},
   "outputs": [],
   "source": [
    "sss = StratifiedShuffleSplit(n_splits=1,test_size=0.1,random_state=13)"
   ]
  },
  {
   "cell_type": "code",
   "execution_count": 442,
   "metadata": {},
   "outputs": [],
   "source": [
    "for train_index, test_index in sss.split(X, y):\n",
    "    X_train, X_test = X[train_index], X[test_index]\n",
    "    y_train, y_test = y[train_index], y[test_index]"
   ]
  },
  {
   "cell_type": "code",
   "execution_count": 443,
   "metadata": {},
   "outputs": [],
   "source": [
    "params =  {'n_neighbors' : [3,5,9,11,13], 'weights' : ['uniform','distance'],'p' : [1,2,3,4]}"
   ]
  },
  {
   "cell_type": "code",
   "execution_count": 444,
   "metadata": {},
   "outputs": [
    {
     "data": {
      "text/plain": [
       "GridSearchCV(cv=5, estimator=KNeighborsClassifier(),\n",
       "             param_grid={'n_neighbors': [3, 5, 9, 11, 13], 'p': [1, 2, 3, 4],\n",
       "                         'weights': ['uniform', 'distance']},\n",
       "             scoring='accuracy')"
      ]
     },
     "execution_count": 444,
     "metadata": {},
     "output_type": "execute_result"
    }
   ],
   "source": [
    "clf = KNeighborsClassifier()\n",
    "\n",
    "gs = GridSearchCV(estimator=clf,param_grid=params,scoring='accuracy',cv=5)\n",
    "\n",
    "gs.fit(X_train,y_train)"
   ]
  },
  {
   "cell_type": "code",
   "execution_count": 445,
   "metadata": {},
   "outputs": [],
   "source": [
    "resultsCV = gs.cv_results_\n",
    "\n",
    "#cogemos la mejor combinacion\n",
    "clfBest = gs.best_estimator_\n",
    "\n",
    "#entreno con la mejor combinacion\n",
    "clfBest.fit(X_train,y_train)\n",
    "\n",
    "#predigo con este entrenamiento\n",
    "y_pred = clfBest.predict(X_test)"
   ]
  },
  {
   "cell_type": "code",
   "execution_count": 446,
   "metadata": {
    "scrolled": false
   },
   "outputs": [
    {
     "data": {
      "text/plain": [
       "{'mean_fit_time': array([0.00157652, 0.00198932, 0.00140462, 0.00159359, 0.00119948,\n",
       "        0.00171695, 0.00140777, 0.00100083, 0.00122137, 0.00152974,\n",
       "        0.00142975, 0.00151448, 0.00159841, 0.00160027, 0.00139351,\n",
       "        0.00141087, 0.00119958, 0.00120826, 0.00099974, 0.00180154,\n",
       "        0.00118828, 0.00159416, 0.00139985, 0.00139198, 0.00119982,\n",
       "        0.00139322, 0.00101414, 0.00138693, 0.00161271, 0.00159907,\n",
       "        0.00139403, 0.00140109, 0.00140042, 0.00140657, 0.00140104,\n",
       "        0.0015759 , 0.00120101, 0.00192952, 0.00160751, 0.00141339]),\n",
       " 'std_fit_time': array([4.87911109e-04, 6.38751850e-04, 4.83464783e-04, 4.84695648e-04,\n",
       "        4.00785872e-04, 3.92542752e-04, 8.05532368e-04, 3.47600879e-06,\n",
       "        2.73688553e-04, 6.82239093e-04, 3.86906017e-04, 4.49259775e-04,\n",
       "        4.87787036e-04, 4.90076775e-04, 4.81094509e-04, 4.88002440e-04,\n",
       "        4.01009946e-04, 3.95943634e-04, 1.12234137e-06, 3.97467681e-04,\n",
       "        3.91112057e-04, 4.96844883e-04, 4.86892176e-04, 4.95631148e-04,\n",
       "        3.84479233e-04, 4.96737144e-04, 1.62611958e-05, 4.73491648e-04,\n",
       "        5.01554618e-04, 4.91759112e-04, 4.94800434e-04, 4.90933152e-04,\n",
       "        4.89629420e-04, 4.84457485e-04, 4.92242086e-04, 4.84260601e-04,\n",
       "        4.01809785e-04, 1.58204839e-04, 4.82816251e-04, 4.93191347e-04]),\n",
       " 'mean_score_time': array([0.00440164, 0.00240588, 0.00419917, 0.00200686, 0.03243399,\n",
       "        0.0302423 , 0.03129673, 0.02920642, 0.00380907, 0.00160422,\n",
       "        0.00403376, 0.00221639, 0.03429203, 0.03199987, 0.0336062 ,\n",
       "        0.03199239, 0.00440021, 0.00239177, 0.004     , 0.0021987 ,\n",
       "        0.03540597, 0.03348413, 0.03439455, 0.03300686, 0.00420589,\n",
       "        0.00200071, 0.00498576, 0.00261326, 0.03677373, 0.03340707,\n",
       "        0.03503165, 0.03239784, 0.00439935, 0.00219889, 0.00419946,\n",
       "        0.0024241 , 0.03643355, 0.03386631, 0.03543072, 0.03345914]),\n",
       " 'std_score_time': array([4.88725670e-04, 4.91576396e-04, 4.00711762e-04, 1.35815746e-05,\n",
       "        1.16118579e-03, 1.09550520e-03, 1.12040408e-03, 7.90906576e-04,\n",
       "        3.87731350e-04, 4.76339476e-04, 1.67283555e-05, 3.95103379e-04,\n",
       "        7.42647359e-04, 8.94257048e-04, 1.00870609e-03, 2.10256183e-03,\n",
       "        4.90624224e-04, 4.82558554e-04, 1.73505835e-06, 3.98041228e-04,\n",
       "        7.90329599e-04, 9.90123437e-04, 1.02567784e-03, 6.37238627e-04,\n",
       "        3.99463663e-04, 2.11479296e-05, 1.85178653e-05, 4.73200434e-04,\n",
       "        2.30789400e-03, 8.04635381e-04, 6.36396286e-04, 1.01993617e-03,\n",
       "        4.89648738e-04, 4.00458151e-04, 4.00455085e-04, 5.05744078e-04,\n",
       "        1.33276701e-03, 4.53358545e-04, 1.02472529e-03, 1.01343968e-03]),\n",
       " 'param_n_neighbors': masked_array(data=[3, 3, 3, 3, 3, 3, 3, 3, 5, 5, 5, 5, 5, 5, 5, 5, 9, 9,\n",
       "                    9, 9, 9, 9, 9, 9, 11, 11, 11, 11, 11, 11, 11, 11, 13,\n",
       "                    13, 13, 13, 13, 13, 13, 13],\n",
       "              mask=[False, False, False, False, False, False, False, False,\n",
       "                    False, False, False, False, False, False, False, False,\n",
       "                    False, False, False, False, False, False, False, False,\n",
       "                    False, False, False, False, False, False, False, False,\n",
       "                    False, False, False, False, False, False, False, False],\n",
       "        fill_value='?',\n",
       "             dtype=object),\n",
       " 'param_p': masked_array(data=[1, 1, 2, 2, 3, 3, 4, 4, 1, 1, 2, 2, 3, 3, 4, 4, 1, 1,\n",
       "                    2, 2, 3, 3, 4, 4, 1, 1, 2, 2, 3, 3, 4, 4, 1, 1, 2, 2,\n",
       "                    3, 3, 4, 4],\n",
       "              mask=[False, False, False, False, False, False, False, False,\n",
       "                    False, False, False, False, False, False, False, False,\n",
       "                    False, False, False, False, False, False, False, False,\n",
       "                    False, False, False, False, False, False, False, False,\n",
       "                    False, False, False, False, False, False, False, False],\n",
       "        fill_value='?',\n",
       "             dtype=object),\n",
       " 'param_weights': masked_array(data=['uniform', 'distance', 'uniform', 'distance',\n",
       "                    'uniform', 'distance', 'uniform', 'distance',\n",
       "                    'uniform', 'distance', 'uniform', 'distance',\n",
       "                    'uniform', 'distance', 'uniform', 'distance',\n",
       "                    'uniform', 'distance', 'uniform', 'distance',\n",
       "                    'uniform', 'distance', 'uniform', 'distance',\n",
       "                    'uniform', 'distance', 'uniform', 'distance',\n",
       "                    'uniform', 'distance', 'uniform', 'distance',\n",
       "                    'uniform', 'distance', 'uniform', 'distance',\n",
       "                    'uniform', 'distance', 'uniform', 'distance'],\n",
       "              mask=[False, False, False, False, False, False, False, False,\n",
       "                    False, False, False, False, False, False, False, False,\n",
       "                    False, False, False, False, False, False, False, False,\n",
       "                    False, False, False, False, False, False, False, False,\n",
       "                    False, False, False, False, False, False, False, False],\n",
       "        fill_value='?',\n",
       "             dtype=object),\n",
       " 'params': [{'n_neighbors': 3, 'p': 1, 'weights': 'uniform'},\n",
       "  {'n_neighbors': 3, 'p': 1, 'weights': 'distance'},\n",
       "  {'n_neighbors': 3, 'p': 2, 'weights': 'uniform'},\n",
       "  {'n_neighbors': 3, 'p': 2, 'weights': 'distance'},\n",
       "  {'n_neighbors': 3, 'p': 3, 'weights': 'uniform'},\n",
       "  {'n_neighbors': 3, 'p': 3, 'weights': 'distance'},\n",
       "  {'n_neighbors': 3, 'p': 4, 'weights': 'uniform'},\n",
       "  {'n_neighbors': 3, 'p': 4, 'weights': 'distance'},\n",
       "  {'n_neighbors': 5, 'p': 1, 'weights': 'uniform'},\n",
       "  {'n_neighbors': 5, 'p': 1, 'weights': 'distance'},\n",
       "  {'n_neighbors': 5, 'p': 2, 'weights': 'uniform'},\n",
       "  {'n_neighbors': 5, 'p': 2, 'weights': 'distance'},\n",
       "  {'n_neighbors': 5, 'p': 3, 'weights': 'uniform'},\n",
       "  {'n_neighbors': 5, 'p': 3, 'weights': 'distance'},\n",
       "  {'n_neighbors': 5, 'p': 4, 'weights': 'uniform'},\n",
       "  {'n_neighbors': 5, 'p': 4, 'weights': 'distance'},\n",
       "  {'n_neighbors': 9, 'p': 1, 'weights': 'uniform'},\n",
       "  {'n_neighbors': 9, 'p': 1, 'weights': 'distance'},\n",
       "  {'n_neighbors': 9, 'p': 2, 'weights': 'uniform'},\n",
       "  {'n_neighbors': 9, 'p': 2, 'weights': 'distance'},\n",
       "  {'n_neighbors': 9, 'p': 3, 'weights': 'uniform'},\n",
       "  {'n_neighbors': 9, 'p': 3, 'weights': 'distance'},\n",
       "  {'n_neighbors': 9, 'p': 4, 'weights': 'uniform'},\n",
       "  {'n_neighbors': 9, 'p': 4, 'weights': 'distance'},\n",
       "  {'n_neighbors': 11, 'p': 1, 'weights': 'uniform'},\n",
       "  {'n_neighbors': 11, 'p': 1, 'weights': 'distance'},\n",
       "  {'n_neighbors': 11, 'p': 2, 'weights': 'uniform'},\n",
       "  {'n_neighbors': 11, 'p': 2, 'weights': 'distance'},\n",
       "  {'n_neighbors': 11, 'p': 3, 'weights': 'uniform'},\n",
       "  {'n_neighbors': 11, 'p': 3, 'weights': 'distance'},\n",
       "  {'n_neighbors': 11, 'p': 4, 'weights': 'uniform'},\n",
       "  {'n_neighbors': 11, 'p': 4, 'weights': 'distance'},\n",
       "  {'n_neighbors': 13, 'p': 1, 'weights': 'uniform'},\n",
       "  {'n_neighbors': 13, 'p': 1, 'weights': 'distance'},\n",
       "  {'n_neighbors': 13, 'p': 2, 'weights': 'uniform'},\n",
       "  {'n_neighbors': 13, 'p': 2, 'weights': 'distance'},\n",
       "  {'n_neighbors': 13, 'p': 3, 'weights': 'uniform'},\n",
       "  {'n_neighbors': 13, 'p': 3, 'weights': 'distance'},\n",
       "  {'n_neighbors': 13, 'p': 4, 'weights': 'uniform'},\n",
       "  {'n_neighbors': 13, 'p': 4, 'weights': 'distance'}],\n",
       " 'split0_test_score': array([0.98058252, 0.98058252, 0.97087379, 0.97087379, 0.97087379,\n",
       "        0.97087379, 0.97087379, 0.97087379, 0.98058252, 0.98058252,\n",
       "        0.99029126, 0.99029126, 0.99029126, 0.99029126, 0.98058252,\n",
       "        0.98058252, 0.98058252, 0.98058252, 0.99029126, 0.99029126,\n",
       "        0.99029126, 0.99029126, 0.99029126, 0.99029126, 0.98058252,\n",
       "        0.98058252, 0.99029126, 0.99029126, 0.98058252, 0.98058252,\n",
       "        0.99029126, 0.99029126, 0.97087379, 0.97087379, 0.98058252,\n",
       "        0.98058252, 0.98058252, 0.98058252, 0.98058252, 0.98058252]),\n",
       " 'split1_test_score': array([0.95145631, 0.95145631, 0.93203883, 0.93203883, 0.93203883,\n",
       "        0.93203883, 0.94174757, 0.94174757, 0.96116505, 0.96116505,\n",
       "        0.95145631, 0.95145631, 0.94174757, 0.94174757, 0.91262136,\n",
       "        0.91262136, 0.95145631, 0.95145631, 0.94174757, 0.94174757,\n",
       "        0.93203883, 0.93203883, 0.91262136, 0.91262136, 0.95145631,\n",
       "        0.95145631, 0.96116505, 0.96116505, 0.96116505, 0.96116505,\n",
       "        0.93203883, 0.93203883, 0.94174757, 0.94174757, 0.96116505,\n",
       "        0.96116505, 0.95145631, 0.95145631, 0.93203883, 0.93203883]),\n",
       " 'split2_test_score': array([0.99019608, 0.99019608, 0.99019608, 0.99019608, 0.99019608,\n",
       "        0.99019608, 0.99019608, 0.99019608, 0.99019608, 0.99019608,\n",
       "        0.98039216, 0.98039216, 0.99019608, 0.99019608, 0.99019608,\n",
       "        0.99019608, 0.99019608, 0.99019608, 0.97058824, 0.97058824,\n",
       "        0.98039216, 0.98039216, 0.96078431, 0.96078431, 0.98039216,\n",
       "        0.98039216, 0.98039216, 0.98039216, 0.97058824, 0.97058824,\n",
       "        0.96078431, 0.96078431, 0.99019608, 0.99019608, 0.97058824,\n",
       "        0.98039216, 0.96078431, 0.97058824, 0.96078431, 0.96078431]),\n",
       " 'split3_test_score': array([0.94117647, 0.94117647, 0.95098039, 0.95098039, 0.94117647,\n",
       "        0.94117647, 0.94117647, 0.94117647, 0.94117647, 0.94117647,\n",
       "        0.93137255, 0.93137255, 0.94117647, 0.94117647, 0.94117647,\n",
       "        0.94117647, 0.94117647, 0.94117647, 0.93137255, 0.93137255,\n",
       "        0.93137255, 0.93137255, 0.92156863, 0.92156863, 0.94117647,\n",
       "        0.94117647, 0.94117647, 0.94117647, 0.93137255, 0.93137255,\n",
       "        0.93137255, 0.93137255, 0.94117647, 0.94117647, 0.95098039,\n",
       "        0.95098039, 0.93137255, 0.93137255, 0.93137255, 0.93137255]),\n",
       " 'split4_test_score': array([0.98039216, 0.98039216, 0.97058824, 0.97058824, 0.97058824,\n",
       "        0.97058824, 0.96078431, 0.96078431, 0.96078431, 0.96078431,\n",
       "        0.97058824, 0.97058824, 0.95098039, 0.95098039, 0.96078431,\n",
       "        0.96078431, 0.97058824, 0.97058824, 0.96078431, 0.96078431,\n",
       "        0.97058824, 0.97058824, 0.95098039, 0.95098039, 0.97058824,\n",
       "        0.97058824, 0.97058824, 0.97058824, 0.98039216, 0.98039216,\n",
       "        0.94117647, 0.94117647, 0.96078431, 0.96078431, 0.96078431,\n",
       "        0.96078431, 0.96078431, 0.96078431, 0.95098039, 0.95098039]),\n",
       " 'mean_test_score': array([0.96876071, 0.96876071, 0.96293547, 0.96293547, 0.96097468,\n",
       "        0.96097468, 0.96095564, 0.96095564, 0.96678089, 0.96678089,\n",
       "        0.9648201 , 0.9648201 , 0.96287836, 0.96287836, 0.95707215,\n",
       "        0.95707215, 0.96679992, 0.96679992, 0.95895679, 0.95895679,\n",
       "        0.96093661, 0.96093661, 0.94724919, 0.94724919, 0.96483914,\n",
       "        0.96483914, 0.96872263, 0.96872263, 0.9648201 , 0.9648201 ,\n",
       "        0.95113269, 0.95113269, 0.96095564, 0.96095564, 0.9648201 ,\n",
       "        0.96678089, 0.956996  , 0.95895679, 0.95115172, 0.95115172]),\n",
       " 'std_test_score': array([0.01894652, 0.01894652, 0.01981034, 0.01981034, 0.02132395,\n",
       "        0.02132395, 0.01851252, 0.01851252, 0.01709877, 0.01709877,\n",
       "        0.02108018, 0.02108018, 0.02261313, 0.02261313, 0.02790075,\n",
       "        0.02790075, 0.01813107, 0.01813107, 0.02086877, 0.02086877,\n",
       "        0.02466772, 0.02466772, 0.02795825, 0.02795825, 0.015886  ,\n",
       "        0.015886  , 0.01685688, 0.01685688, 0.01820062, 0.01820062,\n",
       "        0.02227426, 0.02227426, 0.01851252, 0.01851252, 0.01002906,\n",
       "        0.01177203, 0.01595165, 0.01687276, 0.01852299, 0.01852299]),\n",
       " 'rank_test_score': array([ 1,  1, 17, 17, 21, 21, 23, 23,  7,  7, 12, 12, 19, 19, 32, 32,  5,\n",
       "         5, 29, 29, 27, 27, 39, 39, 10, 10,  3,  3, 12, 12, 37, 37, 23, 23,\n",
       "        12,  7, 34, 29, 35, 35])}"
      ]
     },
     "execution_count": 446,
     "metadata": {},
     "output_type": "execute_result"
    }
   ],
   "source": [
    "gs.cv_results_"
   ]
  },
  {
   "cell_type": "code",
   "execution_count": 447,
   "metadata": {},
   "outputs": [
    {
     "data": {
      "text/plain": [
       "{'n_neighbors': 3, 'p': 1, 'weights': 'uniform'}"
      ]
     },
     "execution_count": 447,
     "metadata": {},
     "output_type": "execute_result"
    }
   ],
   "source": [
    "gs.best_params_"
   ]
  },
  {
   "cell_type": "code",
   "execution_count": 448,
   "metadata": {},
   "outputs": [
    {
     "name": "stdout",
     "output_type": "stream",
     "text": [
      "0.9649122807017544\n"
     ]
    }
   ],
   "source": [
    "from sklearn.metrics import accuracy_score\n",
    "\n",
    "print(accuracy_score(y_test, y_pred))"
   ]
  },
  {
   "cell_type": "code",
   "execution_count": 449,
   "metadata": {},
   "outputs": [
    {
     "data": {
      "text/plain": [
       "<sklearn.metrics._plot.confusion_matrix.ConfusionMatrixDisplay at 0x19272a72e80>"
      ]
     },
     "execution_count": 449,
     "metadata": {},
     "output_type": "execute_result"
    },
    {
     "data": {
      "image/png": "[encoded data removed]",
      "text/plain": [
       "<Figure size 432x288 with 2 Axes>"
      ]
     },
     "metadata": {
      "needs_background": "light"
     },
     "output_type": "display_data"
    }
   ],
   "source": [
    "from sklearn.metrics import plot_confusion_matrix\n",
    "\n",
    "plot_confusion_matrix(clfBest,X_test,y_test)"
   ]
  },
  {
   "cell_type": "markdown",
   "metadata": {},
   "source": [
    "**Conslusion**\n",
    "\n",
    "By adding the metric value we got to the same accurcy as in the past result by decreasing the k values for the neighbors.\n",
    "\n",
    "The result now is 96.4912% and the params selected 'n_neighbors': 3, 'p': 1, 'weights': 'uniform'. So we could say that it was succesfull for us to include param value to decrease the number of neighbors."
   ]
  },
  {
   "cell_type": "code",
   "execution_count": null,
   "metadata": {},
   "outputs": [],
   "source": []
  }
 ],
 "metadata": {
  "kernelspec": {
   "display_name": "Python 3",
   "language": "python",
   "name": "python3"
  },
  "language_info": {
   "codemirror_mode": {
    "name": "ipython",
    "version": 3
   },
   "file_extension": ".py",
   "mimetype": "text/x-python",
   "name": "python",
   "nbconvert_exporter": "python",
   "pygments_lexer": "ipython3",
   "version": "3.8.5"
  }
 },
 "nbformat": 4,
 "nbformat_minor": 4
}
